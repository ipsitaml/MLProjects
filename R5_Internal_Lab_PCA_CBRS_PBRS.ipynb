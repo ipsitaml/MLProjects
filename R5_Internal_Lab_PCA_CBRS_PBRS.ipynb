{
 "cells": [
  {
   "cell_type": "markdown",
   "metadata": {
    "colab_type": "text",
    "id": "0zAbYvv-WCve"
   },
   "source": [
    "# Principal Component Analysis with Cancer Data"
   ]
  },
  {
   "cell_type": "code",
   "execution_count": 1,
   "metadata": {
    "colab": {},
    "colab_type": "code",
    "id": "1waXlt6iWCvh"
   },
   "outputs": [],
   "source": [
    "#Import all the necessary modules\n",
    "#Import all the necessary modules\n",
    "import pandas as pd\n",
    "import numpy as np\n",
    "import os\n",
    "import seaborn as sns\n",
    "import matplotlib.pyplot as plt\n",
    "from sklearn.decomposition import PCA\n",
    "%matplotlib inline"
   ]
  },
  {
   "cell_type": "markdown",
   "metadata": {
    "colab_type": "text",
    "id": "6FZ90t1vWCvq"
   },
   "source": [
    "# Q1. Load the Data file into Python DataFrame and view top 10 rows"
   ]
  },
  {
   "cell_type": "code",
   "execution_count": 2,
   "metadata": {},
   "outputs": [
    {
     "data": {
      "text/plain": [
       "Index(['sample', 'ClumpThickness', 'CellSize', 'CellShape', 'MarginalAdhesion',\n",
       "       'Single EpithelialCellSize', 'BareNuclei', 'BlandChromatin',\n",
       "       'NormalNucleoli', 'Mitoses', 'Class'],\n",
       "      dtype='object')"
      ]
     },
     "execution_count": 2,
     "metadata": {},
     "output_type": "execute_result"
    }
   ],
   "source": [
    "headers = ['sample','ClumpThickness','CellSize','CellShape','MarginalAdhesion','Single EpithelialCellSize','BareNuclei','BlandChromatin','NormalNucleoli','Mitoses','Class']\n",
    "data = pd.read_csv('breast-cancer-wisconsin.csv' , names=headers)\n",
    "data.columns"
   ]
  },
  {
   "cell_type": "code",
   "execution_count": 3,
   "metadata": {},
   "outputs": [
    {
     "data": {
      "text/html": [
       "<div>\n",
       "<style scoped>\n",
       "    .dataframe tbody tr th:only-of-type {\n",
       "        vertical-align: middle;\n",
       "    }\n",
       "\n",
       "    .dataframe tbody tr th {\n",
       "        vertical-align: top;\n",
       "    }\n",
       "\n",
       "    .dataframe thead th {\n",
       "        text-align: right;\n",
       "    }\n",
       "</style>\n",
       "<table border=\"1\" class=\"dataframe\">\n",
       "  <thead>\n",
       "    <tr style=\"text-align: right;\">\n",
       "      <th></th>\n",
       "      <th>sample</th>\n",
       "      <th>ClumpThickness</th>\n",
       "      <th>CellSize</th>\n",
       "      <th>CellShape</th>\n",
       "      <th>MarginalAdhesion</th>\n",
       "      <th>Single EpithelialCellSize</th>\n",
       "      <th>BareNuclei</th>\n",
       "      <th>BlandChromatin</th>\n",
       "      <th>NormalNucleoli</th>\n",
       "      <th>Mitoses</th>\n",
       "      <th>Class</th>\n",
       "    </tr>\n",
       "  </thead>\n",
       "  <tbody>\n",
       "    <tr>\n",
       "      <th>0</th>\n",
       "      <td>1000025</td>\n",
       "      <td>5</td>\n",
       "      <td>1</td>\n",
       "      <td>1</td>\n",
       "      <td>1</td>\n",
       "      <td>2</td>\n",
       "      <td>1</td>\n",
       "      <td>3</td>\n",
       "      <td>1</td>\n",
       "      <td>1</td>\n",
       "      <td>2</td>\n",
       "    </tr>\n",
       "    <tr>\n",
       "      <th>1</th>\n",
       "      <td>1002945</td>\n",
       "      <td>5</td>\n",
       "      <td>4</td>\n",
       "      <td>4</td>\n",
       "      <td>5</td>\n",
       "      <td>7</td>\n",
       "      <td>10</td>\n",
       "      <td>3</td>\n",
       "      <td>2</td>\n",
       "      <td>1</td>\n",
       "      <td>2</td>\n",
       "    </tr>\n",
       "    <tr>\n",
       "      <th>2</th>\n",
       "      <td>1015425</td>\n",
       "      <td>3</td>\n",
       "      <td>1</td>\n",
       "      <td>1</td>\n",
       "      <td>1</td>\n",
       "      <td>2</td>\n",
       "      <td>2</td>\n",
       "      <td>3</td>\n",
       "      <td>1</td>\n",
       "      <td>1</td>\n",
       "      <td>2</td>\n",
       "    </tr>\n",
       "    <tr>\n",
       "      <th>3</th>\n",
       "      <td>1016277</td>\n",
       "      <td>6</td>\n",
       "      <td>8</td>\n",
       "      <td>8</td>\n",
       "      <td>1</td>\n",
       "      <td>3</td>\n",
       "      <td>4</td>\n",
       "      <td>3</td>\n",
       "      <td>7</td>\n",
       "      <td>1</td>\n",
       "      <td>2</td>\n",
       "    </tr>\n",
       "    <tr>\n",
       "      <th>4</th>\n",
       "      <td>1017023</td>\n",
       "      <td>4</td>\n",
       "      <td>1</td>\n",
       "      <td>1</td>\n",
       "      <td>3</td>\n",
       "      <td>2</td>\n",
       "      <td>1</td>\n",
       "      <td>3</td>\n",
       "      <td>1</td>\n",
       "      <td>1</td>\n",
       "      <td>2</td>\n",
       "    </tr>\n",
       "    <tr>\n",
       "      <th>5</th>\n",
       "      <td>1017122</td>\n",
       "      <td>8</td>\n",
       "      <td>10</td>\n",
       "      <td>10</td>\n",
       "      <td>8</td>\n",
       "      <td>7</td>\n",
       "      <td>10</td>\n",
       "      <td>9</td>\n",
       "      <td>7</td>\n",
       "      <td>1</td>\n",
       "      <td>4</td>\n",
       "    </tr>\n",
       "    <tr>\n",
       "      <th>6</th>\n",
       "      <td>1018099</td>\n",
       "      <td>1</td>\n",
       "      <td>1</td>\n",
       "      <td>1</td>\n",
       "      <td>1</td>\n",
       "      <td>2</td>\n",
       "      <td>10</td>\n",
       "      <td>3</td>\n",
       "      <td>1</td>\n",
       "      <td>1</td>\n",
       "      <td>2</td>\n",
       "    </tr>\n",
       "    <tr>\n",
       "      <th>7</th>\n",
       "      <td>1018561</td>\n",
       "      <td>2</td>\n",
       "      <td>1</td>\n",
       "      <td>2</td>\n",
       "      <td>1</td>\n",
       "      <td>2</td>\n",
       "      <td>1</td>\n",
       "      <td>3</td>\n",
       "      <td>1</td>\n",
       "      <td>1</td>\n",
       "      <td>2</td>\n",
       "    </tr>\n",
       "    <tr>\n",
       "      <th>8</th>\n",
       "      <td>1033078</td>\n",
       "      <td>2</td>\n",
       "      <td>1</td>\n",
       "      <td>1</td>\n",
       "      <td>1</td>\n",
       "      <td>2</td>\n",
       "      <td>1</td>\n",
       "      <td>1</td>\n",
       "      <td>1</td>\n",
       "      <td>5</td>\n",
       "      <td>2</td>\n",
       "    </tr>\n",
       "    <tr>\n",
       "      <th>9</th>\n",
       "      <td>1033078</td>\n",
       "      <td>4</td>\n",
       "      <td>2</td>\n",
       "      <td>1</td>\n",
       "      <td>1</td>\n",
       "      <td>2</td>\n",
       "      <td>1</td>\n",
       "      <td>2</td>\n",
       "      <td>1</td>\n",
       "      <td>1</td>\n",
       "      <td>2</td>\n",
       "    </tr>\n",
       "  </tbody>\n",
       "</table>\n",
       "</div>"
      ],
      "text/plain": [
       "    sample  ClumpThickness  CellSize  CellShape  MarginalAdhesion  \\\n",
       "0  1000025               5         1          1                 1   \n",
       "1  1002945               5         4          4                 5   \n",
       "2  1015425               3         1          1                 1   \n",
       "3  1016277               6         8          8                 1   \n",
       "4  1017023               4         1          1                 3   \n",
       "5  1017122               8        10         10                 8   \n",
       "6  1018099               1         1          1                 1   \n",
       "7  1018561               2         1          2                 1   \n",
       "8  1033078               2         1          1                 1   \n",
       "9  1033078               4         2          1                 1   \n",
       "\n",
       "   Single EpithelialCellSize BareNuclei  BlandChromatin  NormalNucleoli  \\\n",
       "0                          2          1               3               1   \n",
       "1                          7         10               3               2   \n",
       "2                          2          2               3               1   \n",
       "3                          3          4               3               7   \n",
       "4                          2          1               3               1   \n",
       "5                          7         10               9               7   \n",
       "6                          2         10               3               1   \n",
       "7                          2          1               3               1   \n",
       "8                          2          1               1               1   \n",
       "9                          2          1               2               1   \n",
       "\n",
       "   Mitoses  Class  \n",
       "0        1      2  \n",
       "1        1      2  \n",
       "2        1      2  \n",
       "3        1      2  \n",
       "4        1      2  \n",
       "5        1      4  \n",
       "6        1      2  \n",
       "7        1      2  \n",
       "8        5      2  \n",
       "9        1      2  "
      ]
     },
     "execution_count": 3,
     "metadata": {},
     "output_type": "execute_result"
    }
   ],
   "source": [
    "data.head(10)"
   ]
  },
  {
   "cell_type": "code",
   "execution_count": 4,
   "metadata": {
    "colab": {},
    "colab_type": "code",
    "id": "xusO2ruNWCv4"
   },
   "outputs": [],
   "source": [
    "  # Id columns is to identify rows hence can be skipped in analysis\n",
    "  # All columns have numerical values\n",
    "  # Class would be the target variable. Should be removed when PCA is done"
   ]
  },
  {
   "cell_type": "markdown",
   "metadata": {
    "colab_type": "text",
    "id": "KYTFwE0iWCv_"
   },
   "source": [
    "# Q2 Print the datatypes of each column and the shape of the dataset. Perform descriptive analysis "
   ]
  },
  {
   "cell_type": "code",
   "execution_count": 5,
   "metadata": {},
   "outputs": [
    {
     "data": {
      "text/plain": [
       "sample                        int64\n",
       "ClumpThickness                int64\n",
       "CellSize                      int64\n",
       "CellShape                     int64\n",
       "MarginalAdhesion              int64\n",
       "Single EpithelialCellSize     int64\n",
       "BareNuclei                   object\n",
       "BlandChromatin                int64\n",
       "NormalNucleoli                int64\n",
       "Mitoses                       int64\n",
       "Class                         int64\n",
       "dtype: object"
      ]
     },
     "execution_count": 5,
     "metadata": {},
     "output_type": "execute_result"
    }
   ],
   "source": [
    "data.dtypes"
   ]
  },
  {
   "cell_type": "code",
   "execution_count": 6,
   "metadata": {},
   "outputs": [
    {
     "data": {
      "text/plain": [
       "(699, 11)"
      ]
     },
     "execution_count": 6,
     "metadata": {},
     "output_type": "execute_result"
    }
   ],
   "source": [
    "data.shape"
   ]
  },
  {
   "cell_type": "code",
   "execution_count": 7,
   "metadata": {},
   "outputs": [
    {
     "data": {
      "text/plain": [
       "2    458\n",
       "4    241\n",
       "Name: Class, dtype: int64"
      ]
     },
     "execution_count": 7,
     "metadata": {},
     "output_type": "execute_result"
    }
   ],
   "source": [
    "data['Class'].value_counts()"
   ]
  },
  {
   "cell_type": "code",
   "execution_count": 8,
   "metadata": {},
   "outputs": [
    {
     "data": {
      "text/html": [
       "<div>\n",
       "<style scoped>\n",
       "    .dataframe tbody tr th:only-of-type {\n",
       "        vertical-align: middle;\n",
       "    }\n",
       "\n",
       "    .dataframe tbody tr th {\n",
       "        vertical-align: top;\n",
       "    }\n",
       "\n",
       "    .dataframe thead th {\n",
       "        text-align: right;\n",
       "    }\n",
       "</style>\n",
       "<table border=\"1\" class=\"dataframe\">\n",
       "  <thead>\n",
       "    <tr style=\"text-align: right;\">\n",
       "      <th></th>\n",
       "      <th>count</th>\n",
       "      <th>mean</th>\n",
       "      <th>std</th>\n",
       "      <th>min</th>\n",
       "      <th>25%</th>\n",
       "      <th>50%</th>\n",
       "      <th>75%</th>\n",
       "      <th>max</th>\n",
       "    </tr>\n",
       "  </thead>\n",
       "  <tbody>\n",
       "    <tr>\n",
       "      <th>sample</th>\n",
       "      <td>699.0</td>\n",
       "      <td>1.071704e+06</td>\n",
       "      <td>617095.729819</td>\n",
       "      <td>61634.0</td>\n",
       "      <td>870688.5</td>\n",
       "      <td>1171710.0</td>\n",
       "      <td>1238298.0</td>\n",
       "      <td>13454352.0</td>\n",
       "    </tr>\n",
       "    <tr>\n",
       "      <th>ClumpThickness</th>\n",
       "      <td>699.0</td>\n",
       "      <td>4.417740e+00</td>\n",
       "      <td>2.815741</td>\n",
       "      <td>1.0</td>\n",
       "      <td>2.0</td>\n",
       "      <td>4.0</td>\n",
       "      <td>6.0</td>\n",
       "      <td>10.0</td>\n",
       "    </tr>\n",
       "    <tr>\n",
       "      <th>CellSize</th>\n",
       "      <td>699.0</td>\n",
       "      <td>3.134478e+00</td>\n",
       "      <td>3.051459</td>\n",
       "      <td>1.0</td>\n",
       "      <td>1.0</td>\n",
       "      <td>1.0</td>\n",
       "      <td>5.0</td>\n",
       "      <td>10.0</td>\n",
       "    </tr>\n",
       "    <tr>\n",
       "      <th>CellShape</th>\n",
       "      <td>699.0</td>\n",
       "      <td>3.207439e+00</td>\n",
       "      <td>2.971913</td>\n",
       "      <td>1.0</td>\n",
       "      <td>1.0</td>\n",
       "      <td>1.0</td>\n",
       "      <td>5.0</td>\n",
       "      <td>10.0</td>\n",
       "    </tr>\n",
       "    <tr>\n",
       "      <th>MarginalAdhesion</th>\n",
       "      <td>699.0</td>\n",
       "      <td>2.806867e+00</td>\n",
       "      <td>2.855379</td>\n",
       "      <td>1.0</td>\n",
       "      <td>1.0</td>\n",
       "      <td>1.0</td>\n",
       "      <td>4.0</td>\n",
       "      <td>10.0</td>\n",
       "    </tr>\n",
       "    <tr>\n",
       "      <th>Single EpithelialCellSize</th>\n",
       "      <td>699.0</td>\n",
       "      <td>3.216023e+00</td>\n",
       "      <td>2.214300</td>\n",
       "      <td>1.0</td>\n",
       "      <td>2.0</td>\n",
       "      <td>2.0</td>\n",
       "      <td>4.0</td>\n",
       "      <td>10.0</td>\n",
       "    </tr>\n",
       "    <tr>\n",
       "      <th>BlandChromatin</th>\n",
       "      <td>699.0</td>\n",
       "      <td>3.437768e+00</td>\n",
       "      <td>2.438364</td>\n",
       "      <td>1.0</td>\n",
       "      <td>2.0</td>\n",
       "      <td>3.0</td>\n",
       "      <td>5.0</td>\n",
       "      <td>10.0</td>\n",
       "    </tr>\n",
       "    <tr>\n",
       "      <th>NormalNucleoli</th>\n",
       "      <td>699.0</td>\n",
       "      <td>2.866953e+00</td>\n",
       "      <td>3.053634</td>\n",
       "      <td>1.0</td>\n",
       "      <td>1.0</td>\n",
       "      <td>1.0</td>\n",
       "      <td>4.0</td>\n",
       "      <td>10.0</td>\n",
       "    </tr>\n",
       "    <tr>\n",
       "      <th>Mitoses</th>\n",
       "      <td>699.0</td>\n",
       "      <td>1.589413e+00</td>\n",
       "      <td>1.715078</td>\n",
       "      <td>1.0</td>\n",
       "      <td>1.0</td>\n",
       "      <td>1.0</td>\n",
       "      <td>1.0</td>\n",
       "      <td>10.0</td>\n",
       "    </tr>\n",
       "    <tr>\n",
       "      <th>Class</th>\n",
       "      <td>699.0</td>\n",
       "      <td>2.689557e+00</td>\n",
       "      <td>0.951273</td>\n",
       "      <td>2.0</td>\n",
       "      <td>2.0</td>\n",
       "      <td>2.0</td>\n",
       "      <td>4.0</td>\n",
       "      <td>4.0</td>\n",
       "    </tr>\n",
       "  </tbody>\n",
       "</table>\n",
       "</div>"
      ],
      "text/plain": [
       "                           count          mean            std      min  \\\n",
       "sample                     699.0  1.071704e+06  617095.729819  61634.0   \n",
       "ClumpThickness             699.0  4.417740e+00       2.815741      1.0   \n",
       "CellSize                   699.0  3.134478e+00       3.051459      1.0   \n",
       "CellShape                  699.0  3.207439e+00       2.971913      1.0   \n",
       "MarginalAdhesion           699.0  2.806867e+00       2.855379      1.0   \n",
       "Single EpithelialCellSize  699.0  3.216023e+00       2.214300      1.0   \n",
       "BlandChromatin             699.0  3.437768e+00       2.438364      1.0   \n",
       "NormalNucleoli             699.0  2.866953e+00       3.053634      1.0   \n",
       "Mitoses                    699.0  1.589413e+00       1.715078      1.0   \n",
       "Class                      699.0  2.689557e+00       0.951273      2.0   \n",
       "\n",
       "                                25%        50%        75%         max  \n",
       "sample                     870688.5  1171710.0  1238298.0  13454352.0  \n",
       "ClumpThickness                  2.0        4.0        6.0        10.0  \n",
       "CellSize                        1.0        1.0        5.0        10.0  \n",
       "CellShape                       1.0        1.0        5.0        10.0  \n",
       "MarginalAdhesion                1.0        1.0        4.0        10.0  \n",
       "Single EpithelialCellSize       2.0        2.0        4.0        10.0  \n",
       "BlandChromatin                  2.0        3.0        5.0        10.0  \n",
       "NormalNucleoli                  1.0        1.0        4.0        10.0  \n",
       "Mitoses                         1.0        1.0        1.0        10.0  \n",
       "Class                           2.0        2.0        4.0         4.0  "
      ]
     },
     "execution_count": 8,
     "metadata": {},
     "output_type": "execute_result"
    }
   ],
   "source": [
    "data.describe().T"
   ]
  },
  {
   "cell_type": "markdown",
   "metadata": {
    "colab_type": "text",
    "id": "ecghJZJIWCwW"
   },
   "source": [
    "# Q3 Check for missing value check, incorrect data, duplicate data and perform imputation with mean, median, mode as necessary.\n"
   ]
  },
  {
   "cell_type": "code",
   "execution_count": 9,
   "metadata": {},
   "outputs": [
    {
     "data": {
      "text/plain": [
       "False"
      ]
     },
     "execution_count": 9,
     "metadata": {},
     "output_type": "execute_result"
    }
   ],
   "source": [
    "data.isna().values.any()\n"
   ]
  },
  {
   "cell_type": "code",
   "execution_count": 10,
   "metadata": {},
   "outputs": [
    {
     "data": {
      "text/plain": [
       "False"
      ]
     },
     "execution_count": 10,
     "metadata": {},
     "output_type": "execute_result"
    }
   ],
   "source": [
    "data.isnull().values.any()"
   ]
  },
  {
   "cell_type": "code",
   "execution_count": 11,
   "metadata": {},
   "outputs": [
    {
     "data": {
      "text/plain": [
       "(16, 11)"
      ]
     },
     "execution_count": 11,
     "metadata": {},
     "output_type": "execute_result"
    }
   ],
   "source": [
    "wrong = data.loc[data['BareNuclei'] == '?']\n",
    "wrong.shape"
   ]
  },
  {
   "cell_type": "code",
   "execution_count": 12,
   "metadata": {},
   "outputs": [],
   "source": [
    "#We can find some 16 records having '?' for Bare Nuclei"
   ]
  },
  {
   "cell_type": "code",
   "execution_count": 13,
   "metadata": {},
   "outputs": [],
   "source": [
    "data.BareNuclei.replace(to_replace='?',value=data.BareNuclei[data.BareNuclei != '?'].median(),inplace=True)"
   ]
  },
  {
   "cell_type": "code",
   "execution_count": 14,
   "metadata": {},
   "outputs": [
    {
     "data": {
      "text/plain": [
       "False"
      ]
     },
     "execution_count": 14,
     "metadata": {},
     "output_type": "execute_result"
    }
   ],
   "source": [
    "data.isna().values.any()"
   ]
  },
  {
   "cell_type": "code",
   "execution_count": 15,
   "metadata": {
    "colab": {},
    "colab_type": "code",
    "id": "jAmWPaXpWCw3"
   },
   "outputs": [],
   "source": [
    "# 16 values are corrupted. We can either delete them as it forms roughly 2% of data.\n",
    "# Here we would like to impute it with suitable values"
   ]
  },
  {
   "cell_type": "code",
   "execution_count": 16,
   "metadata": {},
   "outputs": [
    {
     "data": {
      "text/plain": [
       "False"
      ]
     },
     "execution_count": 16,
     "metadata": {},
     "output_type": "execute_result"
    }
   ],
   "source": [
    "data.isnull().values.any()"
   ]
  },
  {
   "cell_type": "code",
   "execution_count": 17,
   "metadata": {},
   "outputs": [],
   "source": [
    "data['BareNuclei'] = data['BareNuclei'].astype('int64')"
   ]
  },
  {
   "cell_type": "code",
   "execution_count": 18,
   "metadata": {},
   "outputs": [
    {
     "data": {
      "text/plain": [
       "sample                       int64\n",
       "ClumpThickness               int64\n",
       "CellSize                     int64\n",
       "CellShape                    int64\n",
       "MarginalAdhesion             int64\n",
       "Single EpithelialCellSize    int64\n",
       "BareNuclei                   int64\n",
       "BlandChromatin               int64\n",
       "NormalNucleoli               int64\n",
       "Mitoses                      int64\n",
       "Class                        int64\n",
       "dtype: object"
      ]
     },
     "execution_count": 18,
     "metadata": {},
     "output_type": "execute_result"
    }
   ],
   "source": [
    "data.dtypes"
   ]
  },
  {
   "cell_type": "markdown",
   "metadata": {
    "colab_type": "text",
    "id": "YAu8NvGaWCxr"
   },
   "source": [
    "# Q4. Perform bi variate analysis including correlation, pairplots and state the inferences. \n"
   ]
  },
  {
   "cell_type": "code",
   "execution_count": 19,
   "metadata": {},
   "outputs": [
    {
     "data": {
      "text/html": [
       "<div>\n",
       "<style scoped>\n",
       "    .dataframe tbody tr th:only-of-type {\n",
       "        vertical-align: middle;\n",
       "    }\n",
       "\n",
       "    .dataframe tbody tr th {\n",
       "        vertical-align: top;\n",
       "    }\n",
       "\n",
       "    .dataframe thead th {\n",
       "        text-align: right;\n",
       "    }\n",
       "</style>\n",
       "<table border=\"1\" class=\"dataframe\">\n",
       "  <thead>\n",
       "    <tr style=\"text-align: right;\">\n",
       "      <th></th>\n",
       "      <th>sample</th>\n",
       "      <th>ClumpThickness</th>\n",
       "      <th>CellSize</th>\n",
       "      <th>CellShape</th>\n",
       "      <th>MarginalAdhesion</th>\n",
       "      <th>Single EpithelialCellSize</th>\n",
       "      <th>BareNuclei</th>\n",
       "      <th>BlandChromatin</th>\n",
       "      <th>NormalNucleoli</th>\n",
       "      <th>Mitoses</th>\n",
       "      <th>Class</th>\n",
       "    </tr>\n",
       "  </thead>\n",
       "  <tbody>\n",
       "    <tr>\n",
       "      <th>sample</th>\n",
       "      <td>1.000000</td>\n",
       "      <td>-0.055308</td>\n",
       "      <td>-0.041603</td>\n",
       "      <td>-0.041576</td>\n",
       "      <td>-0.064878</td>\n",
       "      <td>-0.045528</td>\n",
       "      <td>-0.092533</td>\n",
       "      <td>-0.060051</td>\n",
       "      <td>-0.052072</td>\n",
       "      <td>-0.034901</td>\n",
       "      <td>-0.080226</td>\n",
       "    </tr>\n",
       "    <tr>\n",
       "      <th>ClumpThickness</th>\n",
       "      <td>-0.055308</td>\n",
       "      <td>1.000000</td>\n",
       "      <td>0.644913</td>\n",
       "      <td>0.654589</td>\n",
       "      <td>0.486356</td>\n",
       "      <td>0.521816</td>\n",
       "      <td>0.590008</td>\n",
       "      <td>0.558428</td>\n",
       "      <td>0.535835</td>\n",
       "      <td>0.350034</td>\n",
       "      <td>0.716001</td>\n",
       "    </tr>\n",
       "    <tr>\n",
       "      <th>CellSize</th>\n",
       "      <td>-0.041603</td>\n",
       "      <td>0.644913</td>\n",
       "      <td>1.000000</td>\n",
       "      <td>0.906882</td>\n",
       "      <td>0.705582</td>\n",
       "      <td>0.751799</td>\n",
       "      <td>0.686673</td>\n",
       "      <td>0.755721</td>\n",
       "      <td>0.722865</td>\n",
       "      <td>0.458693</td>\n",
       "      <td>0.817904</td>\n",
       "    </tr>\n",
       "    <tr>\n",
       "      <th>CellShape</th>\n",
       "      <td>-0.041576</td>\n",
       "      <td>0.654589</td>\n",
       "      <td>0.906882</td>\n",
       "      <td>1.000000</td>\n",
       "      <td>0.683079</td>\n",
       "      <td>0.719668</td>\n",
       "      <td>0.707474</td>\n",
       "      <td>0.735948</td>\n",
       "      <td>0.719446</td>\n",
       "      <td>0.438911</td>\n",
       "      <td>0.818934</td>\n",
       "    </tr>\n",
       "    <tr>\n",
       "      <th>MarginalAdhesion</th>\n",
       "      <td>-0.064878</td>\n",
       "      <td>0.486356</td>\n",
       "      <td>0.705582</td>\n",
       "      <td>0.683079</td>\n",
       "      <td>1.000000</td>\n",
       "      <td>0.599599</td>\n",
       "      <td>0.666971</td>\n",
       "      <td>0.666715</td>\n",
       "      <td>0.603352</td>\n",
       "      <td>0.417633</td>\n",
       "      <td>0.696800</td>\n",
       "    </tr>\n",
       "    <tr>\n",
       "      <th>Single EpithelialCellSize</th>\n",
       "      <td>-0.045528</td>\n",
       "      <td>0.521816</td>\n",
       "      <td>0.751799</td>\n",
       "      <td>0.719668</td>\n",
       "      <td>0.599599</td>\n",
       "      <td>1.000000</td>\n",
       "      <td>0.583701</td>\n",
       "      <td>0.616102</td>\n",
       "      <td>0.628881</td>\n",
       "      <td>0.479101</td>\n",
       "      <td>0.682785</td>\n",
       "    </tr>\n",
       "    <tr>\n",
       "      <th>BareNuclei</th>\n",
       "      <td>-0.092533</td>\n",
       "      <td>0.590008</td>\n",
       "      <td>0.686673</td>\n",
       "      <td>0.707474</td>\n",
       "      <td>0.666971</td>\n",
       "      <td>0.583701</td>\n",
       "      <td>1.000000</td>\n",
       "      <td>0.674215</td>\n",
       "      <td>0.574778</td>\n",
       "      <td>0.342397</td>\n",
       "      <td>0.818968</td>\n",
       "    </tr>\n",
       "    <tr>\n",
       "      <th>BlandChromatin</th>\n",
       "      <td>-0.060051</td>\n",
       "      <td>0.558428</td>\n",
       "      <td>0.755721</td>\n",
       "      <td>0.735948</td>\n",
       "      <td>0.666715</td>\n",
       "      <td>0.616102</td>\n",
       "      <td>0.674215</td>\n",
       "      <td>1.000000</td>\n",
       "      <td>0.665878</td>\n",
       "      <td>0.344169</td>\n",
       "      <td>0.756616</td>\n",
       "    </tr>\n",
       "    <tr>\n",
       "      <th>NormalNucleoli</th>\n",
       "      <td>-0.052072</td>\n",
       "      <td>0.535835</td>\n",
       "      <td>0.722865</td>\n",
       "      <td>0.719446</td>\n",
       "      <td>0.603352</td>\n",
       "      <td>0.628881</td>\n",
       "      <td>0.574778</td>\n",
       "      <td>0.665878</td>\n",
       "      <td>1.000000</td>\n",
       "      <td>0.428336</td>\n",
       "      <td>0.712244</td>\n",
       "    </tr>\n",
       "    <tr>\n",
       "      <th>Mitoses</th>\n",
       "      <td>-0.034901</td>\n",
       "      <td>0.350034</td>\n",
       "      <td>0.458693</td>\n",
       "      <td>0.438911</td>\n",
       "      <td>0.417633</td>\n",
       "      <td>0.479101</td>\n",
       "      <td>0.342397</td>\n",
       "      <td>0.344169</td>\n",
       "      <td>0.428336</td>\n",
       "      <td>1.000000</td>\n",
       "      <td>0.423170</td>\n",
       "    </tr>\n",
       "    <tr>\n",
       "      <th>Class</th>\n",
       "      <td>-0.080226</td>\n",
       "      <td>0.716001</td>\n",
       "      <td>0.817904</td>\n",
       "      <td>0.818934</td>\n",
       "      <td>0.696800</td>\n",
       "      <td>0.682785</td>\n",
       "      <td>0.818968</td>\n",
       "      <td>0.756616</td>\n",
       "      <td>0.712244</td>\n",
       "      <td>0.423170</td>\n",
       "      <td>1.000000</td>\n",
       "    </tr>\n",
       "  </tbody>\n",
       "</table>\n",
       "</div>"
      ],
      "text/plain": [
       "                             sample  ClumpThickness  CellSize  CellShape  \\\n",
       "sample                     1.000000       -0.055308 -0.041603  -0.041576   \n",
       "ClumpThickness            -0.055308        1.000000  0.644913   0.654589   \n",
       "CellSize                  -0.041603        0.644913  1.000000   0.906882   \n",
       "CellShape                 -0.041576        0.654589  0.906882   1.000000   \n",
       "MarginalAdhesion          -0.064878        0.486356  0.705582   0.683079   \n",
       "Single EpithelialCellSize -0.045528        0.521816  0.751799   0.719668   \n",
       "BareNuclei                -0.092533        0.590008  0.686673   0.707474   \n",
       "BlandChromatin            -0.060051        0.558428  0.755721   0.735948   \n",
       "NormalNucleoli            -0.052072        0.535835  0.722865   0.719446   \n",
       "Mitoses                   -0.034901        0.350034  0.458693   0.438911   \n",
       "Class                     -0.080226        0.716001  0.817904   0.818934   \n",
       "\n",
       "                           MarginalAdhesion  Single EpithelialCellSize  \\\n",
       "sample                            -0.064878                  -0.045528   \n",
       "ClumpThickness                     0.486356                   0.521816   \n",
       "CellSize                           0.705582                   0.751799   \n",
       "CellShape                          0.683079                   0.719668   \n",
       "MarginalAdhesion                   1.000000                   0.599599   \n",
       "Single EpithelialCellSize          0.599599                   1.000000   \n",
       "BareNuclei                         0.666971                   0.583701   \n",
       "BlandChromatin                     0.666715                   0.616102   \n",
       "NormalNucleoli                     0.603352                   0.628881   \n",
       "Mitoses                            0.417633                   0.479101   \n",
       "Class                              0.696800                   0.682785   \n",
       "\n",
       "                           BareNuclei  BlandChromatin  NormalNucleoli  \\\n",
       "sample                      -0.092533       -0.060051       -0.052072   \n",
       "ClumpThickness               0.590008        0.558428        0.535835   \n",
       "CellSize                     0.686673        0.755721        0.722865   \n",
       "CellShape                    0.707474        0.735948        0.719446   \n",
       "MarginalAdhesion             0.666971        0.666715        0.603352   \n",
       "Single EpithelialCellSize    0.583701        0.616102        0.628881   \n",
       "BareNuclei                   1.000000        0.674215        0.574778   \n",
       "BlandChromatin               0.674215        1.000000        0.665878   \n",
       "NormalNucleoli               0.574778        0.665878        1.000000   \n",
       "Mitoses                      0.342397        0.344169        0.428336   \n",
       "Class                        0.818968        0.756616        0.712244   \n",
       "\n",
       "                            Mitoses     Class  \n",
       "sample                    -0.034901 -0.080226  \n",
       "ClumpThickness             0.350034  0.716001  \n",
       "CellSize                   0.458693  0.817904  \n",
       "CellShape                  0.438911  0.818934  \n",
       "MarginalAdhesion           0.417633  0.696800  \n",
       "Single EpithelialCellSize  0.479101  0.682785  \n",
       "BareNuclei                 0.342397  0.818968  \n",
       "BlandChromatin             0.344169  0.756616  \n",
       "NormalNucleoli             0.428336  0.712244  \n",
       "Mitoses                    1.000000  0.423170  \n",
       "Class                      0.423170  1.000000  "
      ]
     },
     "execution_count": 19,
     "metadata": {},
     "output_type": "execute_result"
    }
   ],
   "source": [
    "# Check for correlation of variable\n",
    "data.corr()"
   ]
  },
  {
   "cell_type": "code",
   "execution_count": 20,
   "metadata": {},
   "outputs": [
    {
     "data": {
      "text/plain": [
       "Class                      Class                        1.000000\n",
       "CellSize                   CellShape                    0.906882\n",
       "BareNuclei                 Class                        0.818968\n",
       "CellShape                  Class                        0.818934\n",
       "CellSize                   Class                        0.817904\n",
       "Class                      BlandChromatin               0.756616\n",
       "BlandChromatin             CellSize                     0.755721\n",
       "Single EpithelialCellSize  CellSize                     0.751799\n",
       "CellShape                  BlandChromatin               0.735948\n",
       "CellSize                   NormalNucleoli               0.722865\n",
       "CellShape                  Single EpithelialCellSize    0.719668\n",
       "                           NormalNucleoli               0.719446\n",
       "Class                      ClumpThickness               0.716001\n",
       "                           NormalNucleoli               0.712244\n",
       "BareNuclei                 CellShape                    0.707474\n",
       "MarginalAdhesion           CellSize                     0.705582\n",
       "Class                      MarginalAdhesion             0.696800\n",
       "BareNuclei                 CellSize                     0.686673\n",
       "MarginalAdhesion           CellShape                    0.683079\n",
       "Class                      Single EpithelialCellSize    0.682785\n",
       "BareNuclei                 BlandChromatin               0.674215\n",
       "                           MarginalAdhesion             0.666971\n",
       "MarginalAdhesion           BlandChromatin               0.666715\n",
       "BlandChromatin             NormalNucleoli               0.665878\n",
       "ClumpThickness             CellShape                    0.654589\n",
       "CellSize                   ClumpThickness               0.644913\n",
       "Single EpithelialCellSize  NormalNucleoli               0.628881\n",
       "BlandChromatin             Single EpithelialCellSize    0.616102\n",
       "NormalNucleoli             MarginalAdhesion             0.603352\n",
       "Single EpithelialCellSize  MarginalAdhesion             0.599599\n",
       "BareNuclei                 ClumpThickness               0.590008\n",
       "                           Single EpithelialCellSize    0.583701\n",
       "NormalNucleoli             BareNuclei                   0.574778\n",
       "BlandChromatin             ClumpThickness               0.558428\n",
       "ClumpThickness             NormalNucleoli               0.535835\n",
       "Single EpithelialCellSize  ClumpThickness               0.521816\n",
       "ClumpThickness             MarginalAdhesion             0.486356\n",
       "Mitoses                    Single EpithelialCellSize    0.479101\n",
       "CellSize                   Mitoses                      0.458693\n",
       "CellShape                  Mitoses                      0.438911\n",
       "NormalNucleoli             Mitoses                      0.428336\n",
       "Mitoses                    Class                        0.423170\n",
       "                           MarginalAdhesion             0.417633\n",
       "                           ClumpThickness               0.350034\n",
       "BlandChromatin             Mitoses                      0.344169\n",
       "BareNuclei                 Mitoses                      0.342397\n",
       "sample                     BareNuclei                   0.092533\n",
       "                           Class                        0.080226\n",
       "MarginalAdhesion           sample                       0.064878\n",
       "BlandChromatin             sample                       0.060051\n",
       "ClumpThickness             sample                       0.055308\n",
       "NormalNucleoli             sample                       0.052072\n",
       "sample                     Single EpithelialCellSize    0.045528\n",
       "CellSize                   sample                       0.041603\n",
       "CellShape                  sample                       0.041576\n",
       "sample                     Mitoses                      0.034901\n",
       "dtype: float64"
      ]
     },
     "execution_count": 20,
     "metadata": {},
     "output_type": "execute_result"
    }
   ],
   "source": [
    "data.corr().abs().unstack().sort_values(ascending= False).drop_duplicates() "
   ]
  },
  {
   "cell_type": "code",
   "execution_count": 21,
   "metadata": {},
   "outputs": [
    {
     "data": {
      "text/plain": [
       "<matplotlib.axes._subplots.AxesSubplot at 0x1ca0fd69240>"
      ]
     },
     "execution_count": 21,
     "metadata": {},
     "output_type": "execute_result"
    },
    {
     "data": {
      "image/png": "[encoded data removed]",
      "text/plain": [
       "<Figure size 864x720 with 2 Axes>"
      ]
     },
     "metadata": {
      "needs_background": "light"
     },
     "output_type": "display_data"
    }
   ],
   "source": [
    "corrmat = data.corr(method='pearson')\n",
    "f, ax = plt.subplots(figsize=(12, 10))\n",
    "sns.heatmap(corrmat, ax=ax, cmap=\"YlGnBu\", linewidths=0.1,cbar=True)"
   ]
  },
  {
   "cell_type": "code",
   "execution_count": 22,
   "metadata": {
    "colab": {},
    "colab_type": "code",
    "id": "ysZh50iDWCxz"
   },
   "outputs": [],
   "source": [
    "# Cell size shows high significance with cell shape,marginal adhesion, single epithelial cell size,bare nuclei, normal nucleoli \n",
    "# and bland chromatin\n",
    "# Target variable shows high correlation with most of these variables"
   ]
  },
  {
   "cell_type": "code",
   "execution_count": 23,
   "metadata": {},
   "outputs": [
    {
     "name": "stderr",
     "output_type": "stream",
     "text": [
      "C:\\Users\\hp\\Anaconda\\lib\\site-packages\\statsmodels\\nonparametric\\kde.py:488: RuntimeWarning: invalid value encountered in true_divide\n",
      "  binned = fast_linbin(X, a, b, gridsize) / (delta * nobs)\n",
      "C:\\Users\\hp\\Anaconda\\lib\\site-packages\\statsmodels\\nonparametric\\kdetools.py:34: RuntimeWarning: invalid value encountered in double_scalars\n",
      "  FAC1 = 2*(np.pi*bw/RANGE)**2\n"
     ]
    },
    {
     "data": {
      "text/plain": [
       "<seaborn.axisgrid.PairGrid at 0x1ca100a9a90>"
      ]
     },
     "execution_count": 23,
     "metadata": {},
     "output_type": "execute_result"
    },
    {
     "data": {
      "image/png": "[encoded data removed]",
      "text/plain": [
       "<Figure size 2022.38x1980 with 132 Axes>"
      ]
     },
     "metadata": {
      "needs_background": "light"
     },
     "output_type": "display_data"
    }
   ],
   "source": [
    "#Let us check for pair plots\n",
    "sns.pairplot(data , hue='Class')"
   ]
  },
  {
   "cell_type": "code",
   "execution_count": 24,
   "metadata": {
    "colab": {},
    "colab_type": "code",
    "id": "OTh11akvWCx8"
   },
   "outputs": [],
   "source": [
    "# Relationship between variables shows come correlation. \n",
    "# Distribution of variables shows most of the values are concentrated on lower side, though range remains same for all that is \n",
    "# Between 1 to 10"
   ]
  },
  {
   "cell_type": "markdown",
   "metadata": {
    "colab_type": "text",
    "id": "9hxe7D9BWCx-"
   },
   "source": [
    "# Q5 Remove any unwanted columns or outliers, standardize variables in pre-processing step"
   ]
  },
  {
   "cell_type": "code",
   "execution_count": 25,
   "metadata": {
    "colab": {},
    "colab_type": "code",
    "id": "ViVkMsQTWCza"
   },
   "outputs": [],
   "source": [
    "# We could see most of the outliers are now removed."
   ]
  },
  {
   "cell_type": "code",
   "execution_count": 26,
   "metadata": {},
   "outputs": [],
   "source": [
    "# cell size and cell shape are seems to be highly correlated do we can drop cell shape"
   ]
  },
  {
   "cell_type": "code",
   "execution_count": 27,
   "metadata": {},
   "outputs": [],
   "source": [
    "data = data.drop('sample' , axis=1)"
   ]
  },
  {
   "cell_type": "code",
   "execution_count": 28,
   "metadata": {},
   "outputs": [
    {
     "data": {
      "text/html": [
       "<div>\n",
       "<style scoped>\n",
       "    .dataframe tbody tr th:only-of-type {\n",
       "        vertical-align: middle;\n",
       "    }\n",
       "\n",
       "    .dataframe tbody tr th {\n",
       "        vertical-align: top;\n",
       "    }\n",
       "\n",
       "    .dataframe thead th {\n",
       "        text-align: right;\n",
       "    }\n",
       "</style>\n",
       "<table border=\"1\" class=\"dataframe\">\n",
       "  <thead>\n",
       "    <tr style=\"text-align: right;\">\n",
       "      <th></th>\n",
       "      <th>ClumpThickness</th>\n",
       "      <th>CellSize</th>\n",
       "      <th>CellShape</th>\n",
       "      <th>MarginalAdhesion</th>\n",
       "      <th>Single EpithelialCellSize</th>\n",
       "      <th>BareNuclei</th>\n",
       "      <th>BlandChromatin</th>\n",
       "      <th>NormalNucleoli</th>\n",
       "      <th>Mitoses</th>\n",
       "      <th>Class</th>\n",
       "    </tr>\n",
       "  </thead>\n",
       "  <tbody>\n",
       "    <tr>\n",
       "      <th>0</th>\n",
       "      <td>5</td>\n",
       "      <td>1</td>\n",
       "      <td>1</td>\n",
       "      <td>1</td>\n",
       "      <td>2</td>\n",
       "      <td>1</td>\n",
       "      <td>3</td>\n",
       "      <td>1</td>\n",
       "      <td>1</td>\n",
       "      <td>2</td>\n",
       "    </tr>\n",
       "    <tr>\n",
       "      <th>1</th>\n",
       "      <td>5</td>\n",
       "      <td>4</td>\n",
       "      <td>4</td>\n",
       "      <td>5</td>\n",
       "      <td>7</td>\n",
       "      <td>10</td>\n",
       "      <td>3</td>\n",
       "      <td>2</td>\n",
       "      <td>1</td>\n",
       "      <td>2</td>\n",
       "    </tr>\n",
       "    <tr>\n",
       "      <th>2</th>\n",
       "      <td>3</td>\n",
       "      <td>1</td>\n",
       "      <td>1</td>\n",
       "      <td>1</td>\n",
       "      <td>2</td>\n",
       "      <td>2</td>\n",
       "      <td>3</td>\n",
       "      <td>1</td>\n",
       "      <td>1</td>\n",
       "      <td>2</td>\n",
       "    </tr>\n",
       "    <tr>\n",
       "      <th>3</th>\n",
       "      <td>6</td>\n",
       "      <td>8</td>\n",
       "      <td>8</td>\n",
       "      <td>1</td>\n",
       "      <td>3</td>\n",
       "      <td>4</td>\n",
       "      <td>3</td>\n",
       "      <td>7</td>\n",
       "      <td>1</td>\n",
       "      <td>2</td>\n",
       "    </tr>\n",
       "    <tr>\n",
       "      <th>4</th>\n",
       "      <td>4</td>\n",
       "      <td>1</td>\n",
       "      <td>1</td>\n",
       "      <td>3</td>\n",
       "      <td>2</td>\n",
       "      <td>1</td>\n",
       "      <td>3</td>\n",
       "      <td>1</td>\n",
       "      <td>1</td>\n",
       "      <td>2</td>\n",
       "    </tr>\n",
       "  </tbody>\n",
       "</table>\n",
       "</div>"
      ],
      "text/plain": [
       "   ClumpThickness  CellSize  CellShape  MarginalAdhesion  \\\n",
       "0               5         1          1                 1   \n",
       "1               5         4          4                 5   \n",
       "2               3         1          1                 1   \n",
       "3               6         8          8                 1   \n",
       "4               4         1          1                 3   \n",
       "\n",
       "   Single EpithelialCellSize  BareNuclei  BlandChromatin  NormalNucleoli  \\\n",
       "0                          2           1               3               1   \n",
       "1                          7          10               3               2   \n",
       "2                          2           2               3               1   \n",
       "3                          3           4               3               7   \n",
       "4                          2           1               3               1   \n",
       "\n",
       "   Mitoses  Class  \n",
       "0        1      2  \n",
       "1        1      2  \n",
       "2        1      2  \n",
       "3        1      2  \n",
       "4        1      2  "
      ]
     },
     "execution_count": 28,
     "metadata": {},
     "output_type": "execute_result"
    }
   ],
   "source": [
    "data.head()"
   ]
  },
  {
   "cell_type": "code",
   "execution_count": 29,
   "metadata": {},
   "outputs": [
    {
     "data": {
      "text/html": [
       "<div>\n",
       "<style scoped>\n",
       "    .dataframe tbody tr th:only-of-type {\n",
       "        vertical-align: middle;\n",
       "    }\n",
       "\n",
       "    .dataframe tbody tr th {\n",
       "        vertical-align: top;\n",
       "    }\n",
       "\n",
       "    .dataframe thead th {\n",
       "        text-align: right;\n",
       "    }\n",
       "</style>\n",
       "<table border=\"1\" class=\"dataframe\">\n",
       "  <thead>\n",
       "    <tr style=\"text-align: right;\">\n",
       "      <th></th>\n",
       "      <th>ClumpThickness</th>\n",
       "      <th>CellSize</th>\n",
       "      <th>CellShape</th>\n",
       "      <th>MarginalAdhesion</th>\n",
       "      <th>Single EpithelialCellSize</th>\n",
       "      <th>BareNuclei</th>\n",
       "      <th>BlandChromatin</th>\n",
       "      <th>NormalNucleoli</th>\n",
       "      <th>Mitoses</th>\n",
       "      <th>Class</th>\n",
       "    </tr>\n",
       "  </thead>\n",
       "  <tbody>\n",
       "    <tr>\n",
       "      <th>0</th>\n",
       "      <td>0.206936</td>\n",
       "      <td>-0.699995</td>\n",
       "      <td>-0.743299</td>\n",
       "      <td>-0.633247</td>\n",
       "      <td>-0.549561</td>\n",
       "      <td>-0.686979</td>\n",
       "      <td>-0.179662</td>\n",
       "      <td>-0.611825</td>\n",
       "      <td>-0.343912</td>\n",
       "      <td>2</td>\n",
       "    </tr>\n",
       "    <tr>\n",
       "      <th>1</th>\n",
       "      <td>0.206936</td>\n",
       "      <td>0.283845</td>\n",
       "      <td>0.266875</td>\n",
       "      <td>0.768621</td>\n",
       "      <td>1.710106</td>\n",
       "      <td>1.799664</td>\n",
       "      <td>-0.179662</td>\n",
       "      <td>-0.284112</td>\n",
       "      <td>-0.343912</td>\n",
       "      <td>2</td>\n",
       "    </tr>\n",
       "    <tr>\n",
       "      <th>2</th>\n",
       "      <td>-0.503866</td>\n",
       "      <td>-0.699995</td>\n",
       "      <td>-0.743299</td>\n",
       "      <td>-0.633247</td>\n",
       "      <td>-0.549561</td>\n",
       "      <td>-0.410685</td>\n",
       "      <td>-0.179662</td>\n",
       "      <td>-0.611825</td>\n",
       "      <td>-0.343912</td>\n",
       "      <td>2</td>\n",
       "    </tr>\n",
       "    <tr>\n",
       "      <th>3</th>\n",
       "      <td>0.562336</td>\n",
       "      <td>1.595632</td>\n",
       "      <td>1.613773</td>\n",
       "      <td>-0.633247</td>\n",
       "      <td>-0.097628</td>\n",
       "      <td>0.141902</td>\n",
       "      <td>-0.179662</td>\n",
       "      <td>1.354454</td>\n",
       "      <td>-0.343912</td>\n",
       "      <td>2</td>\n",
       "    </tr>\n",
       "    <tr>\n",
       "      <th>4</th>\n",
       "      <td>-0.148465</td>\n",
       "      <td>-0.699995</td>\n",
       "      <td>-0.743299</td>\n",
       "      <td>0.067687</td>\n",
       "      <td>-0.549561</td>\n",
       "      <td>-0.686979</td>\n",
       "      <td>-0.179662</td>\n",
       "      <td>-0.611825</td>\n",
       "      <td>-0.343912</td>\n",
       "      <td>2</td>\n",
       "    </tr>\n",
       "  </tbody>\n",
       "</table>\n",
       "</div>"
      ],
      "text/plain": [
       "   ClumpThickness  CellSize  CellShape  MarginalAdhesion  \\\n",
       "0        0.206936 -0.699995  -0.743299         -0.633247   \n",
       "1        0.206936  0.283845   0.266875          0.768621   \n",
       "2       -0.503866 -0.699995  -0.743299         -0.633247   \n",
       "3        0.562336  1.595632   1.613773         -0.633247   \n",
       "4       -0.148465 -0.699995  -0.743299          0.067687   \n",
       "\n",
       "   Single EpithelialCellSize  BareNuclei  BlandChromatin  NormalNucleoli  \\\n",
       "0                  -0.549561   -0.686979       -0.179662       -0.611825   \n",
       "1                   1.710106    1.799664       -0.179662       -0.284112   \n",
       "2                  -0.549561   -0.410685       -0.179662       -0.611825   \n",
       "3                  -0.097628    0.141902       -0.179662        1.354454   \n",
       "4                  -0.549561   -0.686979       -0.179662       -0.611825   \n",
       "\n",
       "    Mitoses  Class  \n",
       "0 -0.343912      2  \n",
       "1 -0.343912      2  \n",
       "2 -0.343912      2  \n",
       "3 -0.343912      2  \n",
       "4 -0.343912      2  "
      ]
     },
     "execution_count": 29,
     "metadata": {},
     "output_type": "execute_result"
    }
   ],
   "source": [
    "from scipy.stats import zscore\n",
    "data_labelled = data.iloc[:,0:9].apply(zscore)\n",
    "data_labelled['Class'] = data['Class']\n",
    "data_labelled.head()\n"
   ]
  },
  {
   "cell_type": "code",
   "execution_count": 30,
   "metadata": {},
   "outputs": [
    {
     "name": "stderr",
     "output_type": "stream",
     "text": [
      "C:\\Users\\hp\\Anaconda\\lib\\site-packages\\sklearn\\preprocessing\\data.py:625: DataConversionWarning: Data with input dtype int64 were all converted to float64 by StandardScaler.\n",
      "  return self.partial_fit(X, y)\n",
      "C:\\Users\\hp\\Anaconda\\lib\\site-packages\\sklearn\\base.py:462: DataConversionWarning: Data with input dtype int64 were all converted to float64 by StandardScaler.\n",
      "  return self.fit(X, **fit_params).transform(X)\n"
     ]
    }
   ],
   "source": [
    "from sklearn.preprocessing import StandardScaler\n",
    "X =  data.drop(['Class'], axis=1)\n",
    "Y =  data[\"Class\"]\n",
    "sc=StandardScaler()\n",
    "X_std=sc.fit_transform(X)"
   ]
  },
  {
   "cell_type": "markdown",
   "metadata": {
    "colab_type": "text",
    "id": "lmMHMAtkWCzm"
   },
   "source": [
    "# Q6 Create a covariance matrix for identifying Principal components"
   ]
  },
  {
   "cell_type": "code",
   "execution_count": 31,
   "metadata": {},
   "outputs": [
    {
     "name": "stdout",
     "output_type": "stream",
     "text": [
      "Covariance Matrix \n",
      " [[1.00143266 0.64583645 0.65552689 0.48705303 0.52256381 0.5908535\n",
      "  0.5592282  0.53660222 0.35053534]\n",
      " [0.64583645 1.00143266 0.90818117 0.70659267 0.75287621 0.68765657\n",
      "  0.75680368 0.72390044 0.4593503 ]\n",
      " [0.65552689 0.90818117 1.00143266 0.68405782 0.72069948 0.70848734\n",
      "  0.73700282 0.72047704 0.43953974]\n",
      " [0.48705303 0.70659267 0.68405782 1.00143266 0.60045809 0.66792658\n",
      "  0.66767051 0.60421681 0.41823111]\n",
      " [0.52256381 0.75287621 0.72069948 0.60045809 1.00143266 0.5845377\n",
      "  0.61698451 0.62978166 0.47978787]\n",
      " [0.5908535  0.68765657 0.70848734 0.66792658 0.5845377  1.00143266\n",
      "  0.67518063 0.5756016  0.34288766]\n",
      " [0.5592282  0.75680368 0.73700282 0.66767051 0.61698451 0.67518063\n",
      "  1.00143266 0.66683179 0.34466258]\n",
      " [0.53660222 0.72390044 0.72047704 0.60421681 0.62978166 0.5756016\n",
      "  0.66683179 1.00143266 0.42894941]\n",
      " [0.35053534 0.4593503  0.43953974 0.41823111 0.47978787 0.34288766\n",
      "  0.34466258 0.42894941 1.00143266]]\n"
     ]
    }
   ],
   "source": [
    "# PCA\n",
    "# Step 1 - Create covariance matrix\n",
    "cov_matrix = np.cov(X_std.T)\n",
    "print('Covariance Matrix \\n', cov_matrix)"
   ]
  },
  {
   "cell_type": "code",
   "execution_count": 32,
   "metadata": {},
   "outputs": [
    {
     "data": {
      "text/plain": [
       "(9, 9)"
      ]
     },
     "execution_count": 32,
     "metadata": {},
     "output_type": "execute_result"
    }
   ],
   "source": [
    "cov_matrix.shape"
   ]
  },
  {
   "cell_type": "markdown",
   "metadata": {
    "colab_type": "text",
    "id": "vbZ-YcsdWCzz"
   },
   "source": [
    "# Q7 Identify eigen values and eigen vector"
   ]
  },
  {
   "cell_type": "code",
   "execution_count": 33,
   "metadata": {},
   "outputs": [],
   "source": [
    "# Step 2- Get eigen values and eigen vector"
   ]
  },
  {
   "cell_type": "code",
   "execution_count": 34,
   "metadata": {},
   "outputs": [],
   "source": [
    "eig_vals, eig_vecs = np.linalg.eig(cov_matrix)"
   ]
  },
  {
   "cell_type": "code",
   "execution_count": 35,
   "metadata": {},
   "outputs": [
    {
     "data": {
      "text/plain": [
       "array([5.8985519 , 0.77588307, 0.53960155, 0.08894898, 0.46640555,\n",
       "       0.38101776, 0.26233452, 0.30405592, 0.29609474])"
      ]
     },
     "execution_count": 35,
     "metadata": {},
     "output_type": "execute_result"
    }
   ],
   "source": [
    "eig_vals"
   ]
  },
  {
   "cell_type": "code",
   "execution_count": 36,
   "metadata": {},
   "outputs": [
    {
     "data": {
      "text/plain": [
       "array([[-0.30280515,  0.14602888, -0.86221719,  0.0014072 , -0.08821658,\n",
       "         0.07192848,  0.24081701,  0.26946934, -0.00131277],\n",
       "       [-0.38119012,  0.04956364,  0.01909154,  0.73568065,  0.2026394 ,\n",
       "        -0.13735749, -0.44088652,  0.1000979 ,  0.21521315],\n",
       "       [-0.37757351,  0.08526953, -0.0345843 , -0.66537497,  0.17515522,\n",
       "        -0.10469081, -0.58600968,  0.03200191,  0.14204379],\n",
       "       [-0.33282286,  0.04471887,  0.42144828, -0.04671812, -0.4703171 ,\n",
       "         0.03462797,  0.11866965,  0.68083355, -0.0861038 ],\n",
       "       [-0.33639134, -0.16403795,  0.11010437, -0.06786939,  0.37332927,\n",
       "        -0.68258246,  0.45057208, -0.03559797, -0.18337725],\n",
       "       [-0.33349748,  0.2477099 , -0.00367104,  0.07339423, -0.5431767 ,\n",
       "        -0.1275059 , -0.10299896, -0.57486596, -0.41187463],\n",
       "       [-0.3459564 ,  0.22994199,  0.19744944, -0.05881119, -0.00698988,\n",
       "         0.25519148,  0.40975993, -0.31459721,  0.67301535],\n",
       "       [-0.33584019, -0.02502678,  0.13164974,  0.01889835,  0.45537199,\n",
       "         0.63180293,  0.08247514, -0.03841564, -0.50406321],\n",
       "       [-0.22981766, -0.90839421, -0.09459348, -0.0075291 , -0.23968608,\n",
       "         0.1316273 , -0.04250969, -0.14360708,  0.12567403]])"
      ]
     },
     "execution_count": 36,
     "metadata": {},
     "output_type": "execute_result"
    }
   ],
   "source": [
    "eig_vecs"
   ]
  },
  {
   "cell_type": "markdown",
   "metadata": {
    "colab_type": "text",
    "id": "-2KqQg2KWCz7"
   },
   "source": [
    "# Q8 Find variance and cumulative variance by each eigen vector"
   ]
  },
  {
   "cell_type": "code",
   "execution_count": 37,
   "metadata": {},
   "outputs": [
    {
     "name": "stdout",
     "output_type": "stream",
     "text": [
      "Variance [65.44570379762203, 8.608589755529703, 5.9869954739199205, 5.174870041863311, 4.227474060797526, 3.373565908122156, 3.285234873047386, 2.910658031149291, 0.9869080579486815]\n"
     ]
    }
   ],
   "source": [
    "tot = sum(eig_vals)\n",
    "var_exp = [( i /tot ) * 100 for i in sorted(eig_vals, reverse=True)]\n",
    "print('Variance', var_exp)\n"
   ]
  },
  {
   "cell_type": "code",
   "execution_count": 38,
   "metadata": {},
   "outputs": [
    {
     "name": "stdout",
     "output_type": "stream",
     "text": [
      "Cumulative Variance Explained [ 65.4457038   74.05429355  80.04128903  85.21615907  89.44363313\n",
      "  92.81719904  96.10243391  99.01309194 100.        ]\n"
     ]
    }
   ],
   "source": [
    "cum_var_exp = np.cumsum(var_exp)\n",
    "print(\"Cumulative Variance Explained\", cum_var_exp)"
   ]
  },
  {
   "cell_type": "code",
   "execution_count": null,
   "metadata": {},
   "outputs": [],
   "source": []
  },
  {
   "cell_type": "markdown",
   "metadata": {
    "colab_type": "text",
    "id": "x8YxQPNGWC0e"
   },
   "source": [
    "# Q9 Use PCA command from sklearn and find Principal Components. Transform data to components formed"
   ]
  },
  {
   "cell_type": "code",
   "execution_count": 39,
   "metadata": {},
   "outputs": [],
   "source": [
    "X_centered = X - X.mean(axis=0)"
   ]
  },
  {
   "cell_type": "code",
   "execution_count": 40,
   "metadata": {},
   "outputs": [
    {
     "data": {
      "text/plain": [
       "PCA(copy=True, iterated_power='auto', n_components=9, random_state=None,\n",
       "  svd_solver='auto', tol=0.0, whiten=False)"
      ]
     },
     "execution_count": 40,
     "metadata": {},
     "output_type": "execute_result"
    }
   ],
   "source": [
    "pca = PCA(n_components=9)\n",
    "pca.fit(X_centered)"
   ]
  },
  {
   "cell_type": "code",
   "execution_count": 41,
   "metadata": {},
   "outputs": [],
   "source": [
    "X_pca = pca.transform(X_centered)"
   ]
  },
  {
   "cell_type": "code",
   "execution_count": 42,
   "metadata": {},
   "outputs": [
    {
     "data": {
      "text/plain": [
       "(699, 9)"
      ]
     },
     "execution_count": 42,
     "metadata": {},
     "output_type": "execute_result"
    }
   ],
   "source": [
    "X_pca.shape"
   ]
  },
  {
   "cell_type": "markdown",
   "metadata": {
    "colab_type": "text",
    "id": "8L-IGI0QWC0t"
   },
   "source": [
    "# Q10 Find correlation between components and features"
   ]
  },
  {
   "cell_type": "code",
   "execution_count": 43,
   "metadata": {},
   "outputs": [
    {
     "data": {
      "text/plain": [
       "array([[ 0.2983261 ,  0.40439054,  0.39224516,  0.33155363,  0.25000985,\n",
       "         0.43971674,  0.29212756,  0.35663675,  0.12370014],\n",
       "       [-0.06201421,  0.2264635 ,  0.16441813, -0.09978919,  0.18417043,\n",
       "        -0.78618671,  0.01476453,  0.4789494 ,  0.16204477],\n",
       "       [-0.84870565, -0.02546854, -0.07517707,  0.48286957,  0.04907438,\n",
       "         0.08447575,  0.10830834,  0.13315283,  0.03508036],\n",
       "       [ 0.06534325,  0.28496176,  0.19835691,  0.39844272,  0.19968275,\n",
       "        -0.30713642, -0.04657243, -0.74476283,  0.15930581],\n",
       "       [-0.40932322,  0.34595861,  0.38210846, -0.63456569,  0.19340991,\n",
       "         0.16587589,  0.08070772, -0.2099911 , -0.22035073],\n",
       "       [-0.07699746, -0.09420965, -0.09446697, -0.1885437 ,  0.40559877,\n",
       "         0.23024765, -0.47383441,  0.02554583,  0.70571044],\n",
       "       [-0.02651537,  0.17476917,  0.34013253,  0.19196921, -0.27907667,\n",
       "         0.05316947, -0.79645332,  0.1510127 , -0.27992292],\n",
       "       [ 0.09155611, -0.12540484, -0.24132109,  0.10620924,  0.75378154,\n",
       "        -0.01561869, -0.16845026,  0.05320778, -0.55383908],\n",
       "       [ 0.00500527,  0.72697817, -0.6672754 , -0.04289237, -0.11535457,\n",
       "         0.05908462, -0.08244777,  0.02513156, -0.01243264]])"
      ]
     },
     "execution_count": 43,
     "metadata": {},
     "output_type": "execute_result"
    }
   ],
   "source": [
    "pca.components_"
   ]
  },
  {
   "cell_type": "code",
   "execution_count": 44,
   "metadata": {
    "colab": {},
    "colab_type": "code",
    "id": "bXUp9TCDWC1G"
   },
   "outputs": [
    {
     "data": {
      "text/html": [
       "<div>\n",
       "<style scoped>\n",
       "    .dataframe tbody tr th:only-of-type {\n",
       "        vertical-align: middle;\n",
       "    }\n",
       "\n",
       "    .dataframe tbody tr th {\n",
       "        vertical-align: top;\n",
       "    }\n",
       "\n",
       "    .dataframe thead th {\n",
       "        text-align: right;\n",
       "    }\n",
       "</style>\n",
       "<table border=\"1\" class=\"dataframe\">\n",
       "  <thead>\n",
       "    <tr style=\"text-align: right;\">\n",
       "      <th></th>\n",
       "      <th>ClumpThickness</th>\n",
       "      <th>Cell_Size</th>\n",
       "      <th>Cell_Shape</th>\n",
       "      <th>Marginal_Adhesion</th>\n",
       "      <th>Single_Epithelial_Cell_Size</th>\n",
       "      <th>Bare_Nuclei</th>\n",
       "      <th>Normal_Nucleoli</th>\n",
       "      <th>Bland_Chromatin</th>\n",
       "      <th>Mitoses</th>\n",
       "    </tr>\n",
       "  </thead>\n",
       "  <tbody>\n",
       "    <tr>\n",
       "      <th>ClumpThickness</th>\n",
       "      <td>1.000000</td>\n",
       "      <td>0.282027</td>\n",
       "      <td>0.045502</td>\n",
       "      <td>0.062669</td>\n",
       "      <td>0.221609</td>\n",
       "      <td>-0.008634</td>\n",
       "      <td>-0.129703</td>\n",
       "      <td>0.030512</td>\n",
       "      <td>0.013494</td>\n",
       "    </tr>\n",
       "    <tr>\n",
       "      <th>Cell_Size</th>\n",
       "      <td>0.282027</td>\n",
       "      <td>1.000000</td>\n",
       "      <td>-0.111624</td>\n",
       "      <td>-0.153738</td>\n",
       "      <td>-0.543643</td>\n",
       "      <td>0.021182</td>\n",
       "      <td>0.318183</td>\n",
       "      <td>-0.074852</td>\n",
       "      <td>-0.033102</td>\n",
       "    </tr>\n",
       "    <tr>\n",
       "      <th>Cell_Shape</th>\n",
       "      <td>0.045502</td>\n",
       "      <td>-0.111624</td>\n",
       "      <td>1.000000</td>\n",
       "      <td>-0.024804</td>\n",
       "      <td>-0.087711</td>\n",
       "      <td>0.003417</td>\n",
       "      <td>0.051335</td>\n",
       "      <td>-0.012077</td>\n",
       "      <td>-0.005341</td>\n",
       "    </tr>\n",
       "    <tr>\n",
       "      <th>Marginal_Adhesion</th>\n",
       "      <td>0.062669</td>\n",
       "      <td>-0.153738</td>\n",
       "      <td>-0.024804</td>\n",
       "      <td>1.000000</td>\n",
       "      <td>-0.120803</td>\n",
       "      <td>0.004707</td>\n",
       "      <td>0.070703</td>\n",
       "      <td>-0.016633</td>\n",
       "      <td>-0.007356</td>\n",
       "    </tr>\n",
       "    <tr>\n",
       "      <th>Single_Epithelial_Cell_Size</th>\n",
       "      <td>0.221609</td>\n",
       "      <td>-0.543643</td>\n",
       "      <td>-0.087711</td>\n",
       "      <td>-0.120803</td>\n",
       "      <td>1.000000</td>\n",
       "      <td>0.016644</td>\n",
       "      <td>0.250019</td>\n",
       "      <td>-0.058816</td>\n",
       "      <td>-0.026011</td>\n",
       "    </tr>\n",
       "    <tr>\n",
       "      <th>Bare_Nuclei</th>\n",
       "      <td>-0.008634</td>\n",
       "      <td>0.021182</td>\n",
       "      <td>0.003417</td>\n",
       "      <td>0.004707</td>\n",
       "      <td>0.016644</td>\n",
       "      <td>1.000000</td>\n",
       "      <td>-0.009741</td>\n",
       "      <td>0.002292</td>\n",
       "      <td>0.001013</td>\n",
       "    </tr>\n",
       "    <tr>\n",
       "      <th>Normal_Nucleoli</th>\n",
       "      <td>-0.129703</td>\n",
       "      <td>0.318183</td>\n",
       "      <td>0.051335</td>\n",
       "      <td>0.070703</td>\n",
       "      <td>0.250019</td>\n",
       "      <td>-0.009741</td>\n",
       "      <td>1.000000</td>\n",
       "      <td>0.034424</td>\n",
       "      <td>0.015224</td>\n",
       "    </tr>\n",
       "    <tr>\n",
       "      <th>Bland_Chromatin</th>\n",
       "      <td>0.030512</td>\n",
       "      <td>-0.074852</td>\n",
       "      <td>-0.012077</td>\n",
       "      <td>-0.016633</td>\n",
       "      <td>-0.058816</td>\n",
       "      <td>0.002292</td>\n",
       "      <td>0.034424</td>\n",
       "      <td>1.000000</td>\n",
       "      <td>-0.003581</td>\n",
       "    </tr>\n",
       "    <tr>\n",
       "      <th>Mitoses</th>\n",
       "      <td>0.013494</td>\n",
       "      <td>-0.033102</td>\n",
       "      <td>-0.005341</td>\n",
       "      <td>-0.007356</td>\n",
       "      <td>-0.026011</td>\n",
       "      <td>0.001013</td>\n",
       "      <td>0.015224</td>\n",
       "      <td>-0.003581</td>\n",
       "      <td>1.000000</td>\n",
       "    </tr>\n",
       "  </tbody>\n",
       "</table>\n",
       "</div>"
      ],
      "text/plain": [
       "                             ClumpThickness  Cell_Size  Cell_Shape  \\\n",
       "ClumpThickness                     1.000000   0.282027    0.045502   \n",
       "Cell_Size                          0.282027   1.000000   -0.111624   \n",
       "Cell_Shape                         0.045502  -0.111624    1.000000   \n",
       "Marginal_Adhesion                  0.062669  -0.153738   -0.024804   \n",
       "Single_Epithelial_Cell_Size        0.221609  -0.543643   -0.087711   \n",
       "Bare_Nuclei                       -0.008634   0.021182    0.003417   \n",
       "Normal_Nucleoli                   -0.129703   0.318183    0.051335   \n",
       "Bland_Chromatin                    0.030512  -0.074852   -0.012077   \n",
       "Mitoses                            0.013494  -0.033102   -0.005341   \n",
       "\n",
       "                             Marginal_Adhesion  Single_Epithelial_Cell_Size  \\\n",
       "ClumpThickness                        0.062669                     0.221609   \n",
       "Cell_Size                            -0.153738                    -0.543643   \n",
       "Cell_Shape                           -0.024804                    -0.087711   \n",
       "Marginal_Adhesion                     1.000000                    -0.120803   \n",
       "Single_Epithelial_Cell_Size          -0.120803                     1.000000   \n",
       "Bare_Nuclei                           0.004707                     0.016644   \n",
       "Normal_Nucleoli                       0.070703                     0.250019   \n",
       "Bland_Chromatin                      -0.016633                    -0.058816   \n",
       "Mitoses                              -0.007356                    -0.026011   \n",
       "\n",
       "                             Bare_Nuclei  Normal_Nucleoli  Bland_Chromatin  \\\n",
       "ClumpThickness                 -0.008634        -0.129703         0.030512   \n",
       "Cell_Size                       0.021182         0.318183        -0.074852   \n",
       "Cell_Shape                      0.003417         0.051335        -0.012077   \n",
       "Marginal_Adhesion               0.004707         0.070703        -0.016633   \n",
       "Single_Epithelial_Cell_Size     0.016644         0.250019        -0.058816   \n",
       "Bare_Nuclei                     1.000000        -0.009741         0.002292   \n",
       "Normal_Nucleoli                -0.009741         1.000000         0.034424   \n",
       "Bland_Chromatin                 0.002292         0.034424         1.000000   \n",
       "Mitoses                         0.001013         0.015224        -0.003581   \n",
       "\n",
       "                              Mitoses  \n",
       "ClumpThickness               0.013494  \n",
       "Cell_Size                   -0.033102  \n",
       "Cell_Shape                  -0.005341  \n",
       "Marginal_Adhesion           -0.007356  \n",
       "Single_Epithelial_Cell_Size -0.026011  \n",
       "Bare_Nuclei                  0.001013  \n",
       "Normal_Nucleoli              0.015224  \n",
       "Bland_Chromatin             -0.003581  \n",
       "Mitoses                      1.000000  "
      ]
     },
     "execution_count": 44,
     "metadata": {},
     "output_type": "execute_result"
    }
   ],
   "source": [
    "col_names = ['ClumpThickness', 'Cell_Size', 'Cell_Shape', 'Marginal_Adhesion',\n",
    "      'Single_Epithelial_Cell_Size', 'Bare_Nuclei', 'Normal_Nucleoli',\n",
    "      'Bland_Chromatin', 'Mitoses']\n",
    "df_new = pd.DataFrame(pca.components_,columns=col_names)\n",
    "corr_df = df_new.corr()\n",
    "corr_df"
   ]
  },
  {
   "cell_type": "code",
   "execution_count": 45,
   "metadata": {},
   "outputs": [
    {
     "data": {
      "text/plain": [
       "<matplotlib.axes._subplots.AxesSubplot at 0x1ca146936a0>"
      ]
     },
     "execution_count": 45,
     "metadata": {},
     "output_type": "execute_result"
    },
    {
     "data": {
      "image/png": "[encoded data removed]",
      "text/plain": [
       "<Figure size 864x720 with 2 Axes>"
      ]
     },
     "metadata": {
      "needs_background": "light"
     },
     "output_type": "display_data"
    }
   ],
   "source": [
    "corrmat = df_new.corr(method='pearson')\n",
    "f, ax = plt.subplots(figsize=(12, 10))\n",
    "sns.heatmap(corrmat, ax=ax, cmap=\"YlGnBu\", linewidths=0.1,cbar=True)"
   ]
  },
  {
   "cell_type": "markdown",
   "metadata": {},
   "source": [
    "# Content Based Recommendation System - Optional ( Q11 - Q19 will not be graded)"
   ]
  },
  {
   "cell_type": "markdown",
   "metadata": {},
   "source": [
    "# Q11 Read the Dataset `movies_metadata.csv`"
   ]
  },
  {
   "cell_type": "code",
   "execution_count": null,
   "metadata": {},
   "outputs": [],
   "source": []
  },
  {
   "cell_type": "markdown",
   "metadata": {},
   "source": [
    "# Q12 Create a new column with name 'description' combining `'overview' and 'tagline'` columns in the given dataset"
   ]
  },
  {
   "cell_type": "code",
   "execution_count": null,
   "metadata": {},
   "outputs": [],
   "source": []
  },
  {
   "cell_type": "markdown",
   "metadata": {},
   "source": [
    "# Q13  Lets drop the null values in `description` column"
   ]
  },
  {
   "cell_type": "code",
   "execution_count": null,
   "metadata": {},
   "outputs": [],
   "source": []
  },
  {
   "cell_type": "markdown",
   "metadata": {},
   "source": [
    "# Q14 Keep the first occurance and drop duplicates of each title in column `title`"
   ]
  },
  {
   "cell_type": "code",
   "execution_count": null,
   "metadata": {},
   "outputs": [],
   "source": []
  },
  {
   "cell_type": "markdown",
   "metadata": {},
   "source": [
    "# Q15   As we might have dropped a few rows with duplicate `title` in above step, just reset the index [make sure you are not adding any new column to the dataframe while doing reset index]"
   ]
  },
  {
   "cell_type": "code",
   "execution_count": null,
   "metadata": {},
   "outputs": [],
   "source": []
  },
  {
   "cell_type": "markdown",
   "metadata": {},
   "source": [
    "# Q16    Generate tf-idf matrix using the column `description`. Consider till 3-grams, with minimum document frequency as 0.\n",
    "\n",
    "Hint:\n",
    "tf = TfidfVectorizer(analyzer='word', ngram_range=(1, 3), min_df=0, stop_words='english')"
   ]
  },
  {
   "cell_type": "code",
   "execution_count": null,
   "metadata": {},
   "outputs": [],
   "source": []
  },
  {
   "cell_type": "markdown",
   "metadata": {},
   "source": [
    "# Q17  Create cosine similarity matrix"
   ]
  },
  {
   "cell_type": "code",
   "execution_count": null,
   "metadata": {},
   "outputs": [],
   "source": []
  },
  {
   "cell_type": "markdown",
   "metadata": {},
   "source": [
    "# Q18  Write a function with name `recommend` which takes `title` as argument and returns a list of 10 recommended title names in the output based on the above cosine similarities\n",
    "\n",
    "Hint:\n",
    "\n",
    "titles = df['title'] <br>\n",
    "indices = pd.Series(df.index, index=df['title']) <br>\n",
    "\n",
    "def recommend(title): <br>\n",
    "    idx = indices[title] <br>\n",
    "    sim_scores = list(enumerate(cosine_similarities[idx])) <br>\n",
    "    sim_scores = sorted(sim_scores, key=lambda x: x[1], reverse=True) <br>\n",
    "    sim_scores = sim_scores[1:31] <br>\n",
    "    movie_indices = [i[0] for i in sim_scores] <br>\n",
    "    return titles.iloc[movie_indices] <br>"
   ]
  },
  {
   "cell_type": "code",
   "execution_count": null,
   "metadata": {},
   "outputs": [],
   "source": []
  },
  {
   "cell_type": "markdown",
   "metadata": {},
   "source": [
    "# Q19 Give the recommendations from above functions for movies `The Godfather` and `The Dark Knight Rises`"
   ]
  },
  {
   "cell_type": "code",
   "execution_count": null,
   "metadata": {},
   "outputs": [],
   "source": []
  },
  {
   "cell_type": "code",
   "execution_count": null,
   "metadata": {},
   "outputs": [],
   "source": []
  },
  {
   "cell_type": "markdown",
   "metadata": {},
   "source": [
    "# Popularity Based Recommendation System"
   ]
  },
  {
   "cell_type": "markdown",
   "metadata": {},
   "source": [
    "### About Dataset"
   ]
  },
  {
   "cell_type": "markdown",
   "metadata": {},
   "source": [
    "Anonymous Ratings on jokes."
   ]
  },
  {
   "cell_type": "markdown",
   "metadata": {},
   "source": [
    "1. Ratings are real values ranging from -10.00 to +10.00 (the value \"99\" corresponds to \"null\" = \"not rated\").\n",
    "\n",
    "2. One row per user\n",
    "\n",
    "3. The first column gives the number of jokes rated by that user. The next 100 columns give the ratings for jokes 01 - 100."
   ]
  },
  {
   "cell_type": "markdown",
   "metadata": {},
   "source": [
    "# Q20 Read the dataset(jokes.csv)\n",
    "\n",
    "Take care about the header in read_csv() as there are no column names given in the dataset. "
   ]
  },
  {
   "cell_type": "code",
   "execution_count": 46,
   "metadata": {},
   "outputs": [
    {
     "data": {
      "text/html": [
       "<div>\n",
       "<style scoped>\n",
       "    .dataframe tbody tr th:only-of-type {\n",
       "        vertical-align: middle;\n",
       "    }\n",
       "\n",
       "    .dataframe tbody tr th {\n",
       "        vertical-align: top;\n",
       "    }\n",
       "\n",
       "    .dataframe thead th {\n",
       "        text-align: right;\n",
       "    }\n",
       "</style>\n",
       "<table border=\"1\" class=\"dataframe\">\n",
       "  <thead>\n",
       "    <tr style=\"text-align: right;\">\n",
       "      <th></th>\n",
       "      <th>NumJokes</th>\n",
       "      <th>Joke1</th>\n",
       "      <th>Joke2</th>\n",
       "      <th>Joke3</th>\n",
       "      <th>Joke4</th>\n",
       "      <th>Joke5</th>\n",
       "      <th>Joke6</th>\n",
       "      <th>Joke7</th>\n",
       "      <th>Joke8</th>\n",
       "      <th>Joke9</th>\n",
       "      <th>...</th>\n",
       "      <th>Joke91</th>\n",
       "      <th>Joke92</th>\n",
       "      <th>Joke93</th>\n",
       "      <th>Joke94</th>\n",
       "      <th>Joke95</th>\n",
       "      <th>Joke96</th>\n",
       "      <th>Joke97</th>\n",
       "      <th>Joke98</th>\n",
       "      <th>Joke99</th>\n",
       "      <th>Joke100</th>\n",
       "    </tr>\n",
       "  </thead>\n",
       "  <tbody>\n",
       "    <tr>\n",
       "      <th>0</th>\n",
       "      <td>74</td>\n",
       "      <td>-7.82</td>\n",
       "      <td>8.79</td>\n",
       "      <td>-9.66</td>\n",
       "      <td>-8.16</td>\n",
       "      <td>-7.52</td>\n",
       "      <td>-8.50</td>\n",
       "      <td>-9.85</td>\n",
       "      <td>4.17</td>\n",
       "      <td>-8.98</td>\n",
       "      <td>...</td>\n",
       "      <td>2.82</td>\n",
       "      <td>99.00</td>\n",
       "      <td>99.00</td>\n",
       "      <td>99.00</td>\n",
       "      <td>99.00</td>\n",
       "      <td>99.00</td>\n",
       "      <td>-5.63</td>\n",
       "      <td>99.00</td>\n",
       "      <td>99.00</td>\n",
       "      <td>99.00</td>\n",
       "    </tr>\n",
       "    <tr>\n",
       "      <th>1</th>\n",
       "      <td>100</td>\n",
       "      <td>4.08</td>\n",
       "      <td>-0.29</td>\n",
       "      <td>6.36</td>\n",
       "      <td>4.37</td>\n",
       "      <td>-2.38</td>\n",
       "      <td>-9.66</td>\n",
       "      <td>-0.73</td>\n",
       "      <td>-5.34</td>\n",
       "      <td>8.88</td>\n",
       "      <td>...</td>\n",
       "      <td>2.82</td>\n",
       "      <td>-4.95</td>\n",
       "      <td>-0.29</td>\n",
       "      <td>7.86</td>\n",
       "      <td>-0.19</td>\n",
       "      <td>-2.14</td>\n",
       "      <td>3.06</td>\n",
       "      <td>0.34</td>\n",
       "      <td>-4.32</td>\n",
       "      <td>1.07</td>\n",
       "    </tr>\n",
       "    <tr>\n",
       "      <th>2</th>\n",
       "      <td>49</td>\n",
       "      <td>99.00</td>\n",
       "      <td>99.00</td>\n",
       "      <td>99.00</td>\n",
       "      <td>99.00</td>\n",
       "      <td>9.03</td>\n",
       "      <td>9.27</td>\n",
       "      <td>9.03</td>\n",
       "      <td>9.27</td>\n",
       "      <td>99.00</td>\n",
       "      <td>...</td>\n",
       "      <td>99.00</td>\n",
       "      <td>99.00</td>\n",
       "      <td>99.00</td>\n",
       "      <td>9.08</td>\n",
       "      <td>99.00</td>\n",
       "      <td>99.00</td>\n",
       "      <td>99.00</td>\n",
       "      <td>99.00</td>\n",
       "      <td>99.00</td>\n",
       "      <td>99.00</td>\n",
       "    </tr>\n",
       "    <tr>\n",
       "      <th>3</th>\n",
       "      <td>48</td>\n",
       "      <td>99.00</td>\n",
       "      <td>8.35</td>\n",
       "      <td>99.00</td>\n",
       "      <td>99.00</td>\n",
       "      <td>1.80</td>\n",
       "      <td>8.16</td>\n",
       "      <td>-2.82</td>\n",
       "      <td>6.21</td>\n",
       "      <td>99.00</td>\n",
       "      <td>...</td>\n",
       "      <td>99.00</td>\n",
       "      <td>99.00</td>\n",
       "      <td>99.00</td>\n",
       "      <td>0.53</td>\n",
       "      <td>99.00</td>\n",
       "      <td>99.00</td>\n",
       "      <td>99.00</td>\n",
       "      <td>99.00</td>\n",
       "      <td>99.00</td>\n",
       "      <td>99.00</td>\n",
       "    </tr>\n",
       "    <tr>\n",
       "      <th>4</th>\n",
       "      <td>91</td>\n",
       "      <td>8.50</td>\n",
       "      <td>4.61</td>\n",
       "      <td>-4.17</td>\n",
       "      <td>-5.39</td>\n",
       "      <td>1.36</td>\n",
       "      <td>1.60</td>\n",
       "      <td>7.04</td>\n",
       "      <td>4.61</td>\n",
       "      <td>-0.44</td>\n",
       "      <td>...</td>\n",
       "      <td>5.19</td>\n",
       "      <td>5.58</td>\n",
       "      <td>4.27</td>\n",
       "      <td>5.19</td>\n",
       "      <td>5.73</td>\n",
       "      <td>1.55</td>\n",
       "      <td>3.11</td>\n",
       "      <td>6.55</td>\n",
       "      <td>1.80</td>\n",
       "      <td>1.60</td>\n",
       "    </tr>\n",
       "  </tbody>\n",
       "</table>\n",
       "<p>5 rows × 101 columns</p>\n",
       "</div>"
      ],
      "text/plain": [
       "   NumJokes  Joke1  Joke2  Joke3  Joke4  Joke5  Joke6  Joke7  Joke8  Joke9  \\\n",
       "0        74  -7.82   8.79  -9.66  -8.16  -7.52  -8.50  -9.85   4.17  -8.98   \n",
       "1       100   4.08  -0.29   6.36   4.37  -2.38  -9.66  -0.73  -5.34   8.88   \n",
       "2        49  99.00  99.00  99.00  99.00   9.03   9.27   9.03   9.27  99.00   \n",
       "3        48  99.00   8.35  99.00  99.00   1.80   8.16  -2.82   6.21  99.00   \n",
       "4        91   8.50   4.61  -4.17  -5.39   1.36   1.60   7.04   4.61  -0.44   \n",
       "\n",
       "    ...     Joke91  Joke92  Joke93  Joke94  Joke95  Joke96  Joke97  Joke98  \\\n",
       "0   ...       2.82   99.00   99.00   99.00   99.00   99.00   -5.63   99.00   \n",
       "1   ...       2.82   -4.95   -0.29    7.86   -0.19   -2.14    3.06    0.34   \n",
       "2   ...      99.00   99.00   99.00    9.08   99.00   99.00   99.00   99.00   \n",
       "3   ...      99.00   99.00   99.00    0.53   99.00   99.00   99.00   99.00   \n",
       "4   ...       5.19    5.58    4.27    5.19    5.73    1.55    3.11    6.55   \n",
       "\n",
       "   Joke99  Joke100  \n",
       "0   99.00    99.00  \n",
       "1   -4.32     1.07  \n",
       "2   99.00    99.00  \n",
       "3   99.00    99.00  \n",
       "4    1.80     1.60  \n",
       "\n",
       "[5 rows x 101 columns]"
      ]
     },
     "execution_count": 46,
     "metadata": {},
     "output_type": "execute_result"
    }
   ],
   "source": [
    "df = pd.read_excel('jokes.xlsx')\n",
    "df.head()"
   ]
  },
  {
   "cell_type": "markdown",
   "metadata": {},
   "source": [
    "# Q21 Consider `ratings` named dataframe with only first 200 rows and all columns from 1(first column is 0) of dataset"
   ]
  },
  {
   "cell_type": "code",
   "execution_count": 47,
   "metadata": {},
   "outputs": [],
   "source": [
    "rating=df.head(n=200)"
   ]
  },
  {
   "cell_type": "code",
   "execution_count": 48,
   "metadata": {},
   "outputs": [
    {
     "name": "stderr",
     "output_type": "stream",
     "text": [
      "C:\\Users\\hp\\Anaconda\\lib\\site-packages\\pandas\\core\\frame.py:3697: SettingWithCopyWarning: \n",
      "A value is trying to be set on a copy of a slice from a DataFrame\n",
      "\n",
      "See the caveats in the documentation: http://pandas.pydata.org/pandas-docs/stable/indexing.html#indexing-view-versus-copy\n",
      "  errors=errors)\n"
     ]
    },
    {
     "data": {
      "text/html": [
       "<div>\n",
       "<style scoped>\n",
       "    .dataframe tbody tr th:only-of-type {\n",
       "        vertical-align: middle;\n",
       "    }\n",
       "\n",
       "    .dataframe tbody tr th {\n",
       "        vertical-align: top;\n",
       "    }\n",
       "\n",
       "    .dataframe thead th {\n",
       "        text-align: right;\n",
       "    }\n",
       "</style>\n",
       "<table border=\"1\" class=\"dataframe\">\n",
       "  <thead>\n",
       "    <tr style=\"text-align: right;\">\n",
       "      <th></th>\n",
       "      <th>Joke1</th>\n",
       "      <th>Joke2</th>\n",
       "      <th>Joke3</th>\n",
       "      <th>Joke4</th>\n",
       "      <th>Joke5</th>\n",
       "      <th>Joke6</th>\n",
       "      <th>Joke7</th>\n",
       "      <th>Joke8</th>\n",
       "      <th>Joke9</th>\n",
       "      <th>Joke10</th>\n",
       "      <th>...</th>\n",
       "      <th>Joke91</th>\n",
       "      <th>Joke92</th>\n",
       "      <th>Joke93</th>\n",
       "      <th>Joke94</th>\n",
       "      <th>Joke95</th>\n",
       "      <th>Joke96</th>\n",
       "      <th>Joke97</th>\n",
       "      <th>Joke98</th>\n",
       "      <th>Joke99</th>\n",
       "      <th>Joke100</th>\n",
       "    </tr>\n",
       "  </thead>\n",
       "  <tbody>\n",
       "    <tr>\n",
       "      <th>0</th>\n",
       "      <td>-7.82</td>\n",
       "      <td>8.79</td>\n",
       "      <td>-9.66</td>\n",
       "      <td>-8.16</td>\n",
       "      <td>-7.52</td>\n",
       "      <td>-8.50</td>\n",
       "      <td>-9.85</td>\n",
       "      <td>4.17</td>\n",
       "      <td>-8.98</td>\n",
       "      <td>-4.76</td>\n",
       "      <td>...</td>\n",
       "      <td>2.82</td>\n",
       "      <td>99.00</td>\n",
       "      <td>99.00</td>\n",
       "      <td>99.00</td>\n",
       "      <td>99.00</td>\n",
       "      <td>99.00</td>\n",
       "      <td>-5.63</td>\n",
       "      <td>99.00</td>\n",
       "      <td>99.00</td>\n",
       "      <td>99.00</td>\n",
       "    </tr>\n",
       "    <tr>\n",
       "      <th>1</th>\n",
       "      <td>4.08</td>\n",
       "      <td>-0.29</td>\n",
       "      <td>6.36</td>\n",
       "      <td>4.37</td>\n",
       "      <td>-2.38</td>\n",
       "      <td>-9.66</td>\n",
       "      <td>-0.73</td>\n",
       "      <td>-5.34</td>\n",
       "      <td>8.88</td>\n",
       "      <td>9.22</td>\n",
       "      <td>...</td>\n",
       "      <td>2.82</td>\n",
       "      <td>-4.95</td>\n",
       "      <td>-0.29</td>\n",
       "      <td>7.86</td>\n",
       "      <td>-0.19</td>\n",
       "      <td>-2.14</td>\n",
       "      <td>3.06</td>\n",
       "      <td>0.34</td>\n",
       "      <td>-4.32</td>\n",
       "      <td>1.07</td>\n",
       "    </tr>\n",
       "    <tr>\n",
       "      <th>2</th>\n",
       "      <td>99.00</td>\n",
       "      <td>99.00</td>\n",
       "      <td>99.00</td>\n",
       "      <td>99.00</td>\n",
       "      <td>9.03</td>\n",
       "      <td>9.27</td>\n",
       "      <td>9.03</td>\n",
       "      <td>9.27</td>\n",
       "      <td>99.00</td>\n",
       "      <td>99.00</td>\n",
       "      <td>...</td>\n",
       "      <td>99.00</td>\n",
       "      <td>99.00</td>\n",
       "      <td>99.00</td>\n",
       "      <td>9.08</td>\n",
       "      <td>99.00</td>\n",
       "      <td>99.00</td>\n",
       "      <td>99.00</td>\n",
       "      <td>99.00</td>\n",
       "      <td>99.00</td>\n",
       "      <td>99.00</td>\n",
       "    </tr>\n",
       "    <tr>\n",
       "      <th>3</th>\n",
       "      <td>99.00</td>\n",
       "      <td>8.35</td>\n",
       "      <td>99.00</td>\n",
       "      <td>99.00</td>\n",
       "      <td>1.80</td>\n",
       "      <td>8.16</td>\n",
       "      <td>-2.82</td>\n",
       "      <td>6.21</td>\n",
       "      <td>99.00</td>\n",
       "      <td>1.84</td>\n",
       "      <td>...</td>\n",
       "      <td>99.00</td>\n",
       "      <td>99.00</td>\n",
       "      <td>99.00</td>\n",
       "      <td>0.53</td>\n",
       "      <td>99.00</td>\n",
       "      <td>99.00</td>\n",
       "      <td>99.00</td>\n",
       "      <td>99.00</td>\n",
       "      <td>99.00</td>\n",
       "      <td>99.00</td>\n",
       "    </tr>\n",
       "    <tr>\n",
       "      <th>4</th>\n",
       "      <td>8.50</td>\n",
       "      <td>4.61</td>\n",
       "      <td>-4.17</td>\n",
       "      <td>-5.39</td>\n",
       "      <td>1.36</td>\n",
       "      <td>1.60</td>\n",
       "      <td>7.04</td>\n",
       "      <td>4.61</td>\n",
       "      <td>-0.44</td>\n",
       "      <td>5.73</td>\n",
       "      <td>...</td>\n",
       "      <td>5.19</td>\n",
       "      <td>5.58</td>\n",
       "      <td>4.27</td>\n",
       "      <td>5.19</td>\n",
       "      <td>5.73</td>\n",
       "      <td>1.55</td>\n",
       "      <td>3.11</td>\n",
       "      <td>6.55</td>\n",
       "      <td>1.80</td>\n",
       "      <td>1.60</td>\n",
       "    </tr>\n",
       "  </tbody>\n",
       "</table>\n",
       "<p>5 rows × 100 columns</p>\n",
       "</div>"
      ],
      "text/plain": [
       "   Joke1  Joke2  Joke3  Joke4  Joke5  Joke6  Joke7  Joke8  Joke9  Joke10  \\\n",
       "0  -7.82   8.79  -9.66  -8.16  -7.52  -8.50  -9.85   4.17  -8.98   -4.76   \n",
       "1   4.08  -0.29   6.36   4.37  -2.38  -9.66  -0.73  -5.34   8.88    9.22   \n",
       "2  99.00  99.00  99.00  99.00   9.03   9.27   9.03   9.27  99.00   99.00   \n",
       "3  99.00   8.35  99.00  99.00   1.80   8.16  -2.82   6.21  99.00    1.84   \n",
       "4   8.50   4.61  -4.17  -5.39   1.36   1.60   7.04   4.61  -0.44    5.73   \n",
       "\n",
       "    ...     Joke91  Joke92  Joke93  Joke94  Joke95  Joke96  Joke97  Joke98  \\\n",
       "0   ...       2.82   99.00   99.00   99.00   99.00   99.00   -5.63   99.00   \n",
       "1   ...       2.82   -4.95   -0.29    7.86   -0.19   -2.14    3.06    0.34   \n",
       "2   ...      99.00   99.00   99.00    9.08   99.00   99.00   99.00   99.00   \n",
       "3   ...      99.00   99.00   99.00    0.53   99.00   99.00   99.00   99.00   \n",
       "4   ...       5.19    5.58    4.27    5.19    5.73    1.55    3.11    6.55   \n",
       "\n",
       "   Joke99  Joke100  \n",
       "0   99.00    99.00  \n",
       "1   -4.32     1.07  \n",
       "2   99.00    99.00  \n",
       "3   99.00    99.00  \n",
       "4    1.80     1.60  \n",
       "\n",
       "[5 rows x 100 columns]"
      ]
     },
     "execution_count": 48,
     "metadata": {},
     "output_type": "execute_result"
    }
   ],
   "source": [
    "rating.drop(rating.columns[0],axis=1,inplace=True)\n",
    "rating.head()"
   ]
  },
  {
   "cell_type": "markdown",
   "metadata": {},
   "source": [
    "# Q22 Change the column indices from 0 to 99"
   ]
  },
  {
   "cell_type": "code",
   "execution_count": 49,
   "metadata": {},
   "outputs": [
    {
     "data": {
      "text/html": [
       "<div>\n",
       "<style scoped>\n",
       "    .dataframe tbody tr th:only-of-type {\n",
       "        vertical-align: middle;\n",
       "    }\n",
       "\n",
       "    .dataframe tbody tr th {\n",
       "        vertical-align: top;\n",
       "    }\n",
       "\n",
       "    .dataframe thead th {\n",
       "        text-align: right;\n",
       "    }\n",
       "</style>\n",
       "<table border=\"1\" class=\"dataframe\">\n",
       "  <thead>\n",
       "    <tr style=\"text-align: right;\">\n",
       "      <th></th>\n",
       "      <th>0</th>\n",
       "      <th>1</th>\n",
       "      <th>2</th>\n",
       "      <th>3</th>\n",
       "      <th>4</th>\n",
       "      <th>5</th>\n",
       "      <th>6</th>\n",
       "      <th>7</th>\n",
       "      <th>8</th>\n",
       "      <th>9</th>\n",
       "      <th>...</th>\n",
       "      <th>90</th>\n",
       "      <th>91</th>\n",
       "      <th>92</th>\n",
       "      <th>93</th>\n",
       "      <th>94</th>\n",
       "      <th>95</th>\n",
       "      <th>96</th>\n",
       "      <th>97</th>\n",
       "      <th>98</th>\n",
       "      <th>99</th>\n",
       "    </tr>\n",
       "  </thead>\n",
       "  <tbody>\n",
       "    <tr>\n",
       "      <th>0</th>\n",
       "      <td>-7.82</td>\n",
       "      <td>8.79</td>\n",
       "      <td>-9.66</td>\n",
       "      <td>-8.16</td>\n",
       "      <td>-7.52</td>\n",
       "      <td>-8.50</td>\n",
       "      <td>-9.85</td>\n",
       "      <td>4.17</td>\n",
       "      <td>-8.98</td>\n",
       "      <td>-4.76</td>\n",
       "      <td>...</td>\n",
       "      <td>2.82</td>\n",
       "      <td>99.00</td>\n",
       "      <td>99.00</td>\n",
       "      <td>99.00</td>\n",
       "      <td>99.00</td>\n",
       "      <td>99.00</td>\n",
       "      <td>-5.63</td>\n",
       "      <td>99.00</td>\n",
       "      <td>99.00</td>\n",
       "      <td>99.00</td>\n",
       "    </tr>\n",
       "    <tr>\n",
       "      <th>1</th>\n",
       "      <td>4.08</td>\n",
       "      <td>-0.29</td>\n",
       "      <td>6.36</td>\n",
       "      <td>4.37</td>\n",
       "      <td>-2.38</td>\n",
       "      <td>-9.66</td>\n",
       "      <td>-0.73</td>\n",
       "      <td>-5.34</td>\n",
       "      <td>8.88</td>\n",
       "      <td>9.22</td>\n",
       "      <td>...</td>\n",
       "      <td>2.82</td>\n",
       "      <td>-4.95</td>\n",
       "      <td>-0.29</td>\n",
       "      <td>7.86</td>\n",
       "      <td>-0.19</td>\n",
       "      <td>-2.14</td>\n",
       "      <td>3.06</td>\n",
       "      <td>0.34</td>\n",
       "      <td>-4.32</td>\n",
       "      <td>1.07</td>\n",
       "    </tr>\n",
       "    <tr>\n",
       "      <th>2</th>\n",
       "      <td>99.00</td>\n",
       "      <td>99.00</td>\n",
       "      <td>99.00</td>\n",
       "      <td>99.00</td>\n",
       "      <td>9.03</td>\n",
       "      <td>9.27</td>\n",
       "      <td>9.03</td>\n",
       "      <td>9.27</td>\n",
       "      <td>99.00</td>\n",
       "      <td>99.00</td>\n",
       "      <td>...</td>\n",
       "      <td>99.00</td>\n",
       "      <td>99.00</td>\n",
       "      <td>99.00</td>\n",
       "      <td>9.08</td>\n",
       "      <td>99.00</td>\n",
       "      <td>99.00</td>\n",
       "      <td>99.00</td>\n",
       "      <td>99.00</td>\n",
       "      <td>99.00</td>\n",
       "      <td>99.00</td>\n",
       "    </tr>\n",
       "    <tr>\n",
       "      <th>3</th>\n",
       "      <td>99.00</td>\n",
       "      <td>8.35</td>\n",
       "      <td>99.00</td>\n",
       "      <td>99.00</td>\n",
       "      <td>1.80</td>\n",
       "      <td>8.16</td>\n",
       "      <td>-2.82</td>\n",
       "      <td>6.21</td>\n",
       "      <td>99.00</td>\n",
       "      <td>1.84</td>\n",
       "      <td>...</td>\n",
       "      <td>99.00</td>\n",
       "      <td>99.00</td>\n",
       "      <td>99.00</td>\n",
       "      <td>0.53</td>\n",
       "      <td>99.00</td>\n",
       "      <td>99.00</td>\n",
       "      <td>99.00</td>\n",
       "      <td>99.00</td>\n",
       "      <td>99.00</td>\n",
       "      <td>99.00</td>\n",
       "    </tr>\n",
       "    <tr>\n",
       "      <th>4</th>\n",
       "      <td>8.50</td>\n",
       "      <td>4.61</td>\n",
       "      <td>-4.17</td>\n",
       "      <td>-5.39</td>\n",
       "      <td>1.36</td>\n",
       "      <td>1.60</td>\n",
       "      <td>7.04</td>\n",
       "      <td>4.61</td>\n",
       "      <td>-0.44</td>\n",
       "      <td>5.73</td>\n",
       "      <td>...</td>\n",
       "      <td>5.19</td>\n",
       "      <td>5.58</td>\n",
       "      <td>4.27</td>\n",
       "      <td>5.19</td>\n",
       "      <td>5.73</td>\n",
       "      <td>1.55</td>\n",
       "      <td>3.11</td>\n",
       "      <td>6.55</td>\n",
       "      <td>1.80</td>\n",
       "      <td>1.60</td>\n",
       "    </tr>\n",
       "  </tbody>\n",
       "</table>\n",
       "<p>5 rows × 100 columns</p>\n",
       "</div>"
      ],
      "text/plain": [
       "      0      1      2      3     4     5     6     7      8      9   ...    \\\n",
       "0  -7.82   8.79  -9.66  -8.16 -7.52 -8.50 -9.85  4.17  -8.98  -4.76  ...     \n",
       "1   4.08  -0.29   6.36   4.37 -2.38 -9.66 -0.73 -5.34   8.88   9.22  ...     \n",
       "2  99.00  99.00  99.00  99.00  9.03  9.27  9.03  9.27  99.00  99.00  ...     \n",
       "3  99.00   8.35  99.00  99.00  1.80  8.16 -2.82  6.21  99.00   1.84  ...     \n",
       "4   8.50   4.61  -4.17  -5.39  1.36  1.60  7.04  4.61  -0.44   5.73  ...     \n",
       "\n",
       "      90     91     92     93     94     95     96     97     98     99  \n",
       "0   2.82  99.00  99.00  99.00  99.00  99.00  -5.63  99.00  99.00  99.00  \n",
       "1   2.82  -4.95  -0.29   7.86  -0.19  -2.14   3.06   0.34  -4.32   1.07  \n",
       "2  99.00  99.00  99.00   9.08  99.00  99.00  99.00  99.00  99.00  99.00  \n",
       "3  99.00  99.00  99.00   0.53  99.00  99.00  99.00  99.00  99.00  99.00  \n",
       "4   5.19   5.58   4.27   5.19   5.73   1.55   3.11   6.55   1.80   1.60  \n",
       "\n",
       "[5 rows x 100 columns]"
      ]
     },
     "execution_count": 49,
     "metadata": {},
     "output_type": "execute_result"
    }
   ],
   "source": [
    "rating.columns = range(rating.shape[1])\n",
    "rating.head()"
   ]
  },
  {
   "cell_type": "markdown",
   "metadata": {},
   "source": [
    "# Q23 In the dataset, the null ratings are given as 99.00, so replace all 99.00s with 0\n",
    "Hint: You can use `ratings.replace(<the given value>, <new value you wanted to change with>)`"
   ]
  },
  {
   "cell_type": "code",
   "execution_count": 50,
   "metadata": {},
   "outputs": [
    {
     "data": {
      "text/html": [
       "<div>\n",
       "<style scoped>\n",
       "    .dataframe tbody tr th:only-of-type {\n",
       "        vertical-align: middle;\n",
       "    }\n",
       "\n",
       "    .dataframe tbody tr th {\n",
       "        vertical-align: top;\n",
       "    }\n",
       "\n",
       "    .dataframe thead th {\n",
       "        text-align: right;\n",
       "    }\n",
       "</style>\n",
       "<table border=\"1\" class=\"dataframe\">\n",
       "  <thead>\n",
       "    <tr style=\"text-align: right;\">\n",
       "      <th></th>\n",
       "      <th>0</th>\n",
       "      <th>1</th>\n",
       "      <th>2</th>\n",
       "      <th>3</th>\n",
       "      <th>4</th>\n",
       "      <th>5</th>\n",
       "      <th>6</th>\n",
       "      <th>7</th>\n",
       "      <th>8</th>\n",
       "      <th>9</th>\n",
       "      <th>...</th>\n",
       "      <th>90</th>\n",
       "      <th>91</th>\n",
       "      <th>92</th>\n",
       "      <th>93</th>\n",
       "      <th>94</th>\n",
       "      <th>95</th>\n",
       "      <th>96</th>\n",
       "      <th>97</th>\n",
       "      <th>98</th>\n",
       "      <th>99</th>\n",
       "    </tr>\n",
       "  </thead>\n",
       "  <tbody>\n",
       "    <tr>\n",
       "      <th>0</th>\n",
       "      <td>-7.82</td>\n",
       "      <td>8.79</td>\n",
       "      <td>-9.66</td>\n",
       "      <td>-8.16</td>\n",
       "      <td>-7.52</td>\n",
       "      <td>-8.50</td>\n",
       "      <td>-9.85</td>\n",
       "      <td>4.17</td>\n",
       "      <td>-8.98</td>\n",
       "      <td>-4.76</td>\n",
       "      <td>...</td>\n",
       "      <td>2.82</td>\n",
       "      <td>0.00</td>\n",
       "      <td>0.00</td>\n",
       "      <td>0.00</td>\n",
       "      <td>0.00</td>\n",
       "      <td>0.00</td>\n",
       "      <td>-5.63</td>\n",
       "      <td>0.00</td>\n",
       "      <td>0.00</td>\n",
       "      <td>0.00</td>\n",
       "    </tr>\n",
       "    <tr>\n",
       "      <th>1</th>\n",
       "      <td>4.08</td>\n",
       "      <td>-0.29</td>\n",
       "      <td>6.36</td>\n",
       "      <td>4.37</td>\n",
       "      <td>-2.38</td>\n",
       "      <td>-9.66</td>\n",
       "      <td>-0.73</td>\n",
       "      <td>-5.34</td>\n",
       "      <td>8.88</td>\n",
       "      <td>9.22</td>\n",
       "      <td>...</td>\n",
       "      <td>2.82</td>\n",
       "      <td>-4.95</td>\n",
       "      <td>-0.29</td>\n",
       "      <td>7.86</td>\n",
       "      <td>-0.19</td>\n",
       "      <td>-2.14</td>\n",
       "      <td>3.06</td>\n",
       "      <td>0.34</td>\n",
       "      <td>-4.32</td>\n",
       "      <td>1.07</td>\n",
       "    </tr>\n",
       "    <tr>\n",
       "      <th>2</th>\n",
       "      <td>0.00</td>\n",
       "      <td>0.00</td>\n",
       "      <td>0.00</td>\n",
       "      <td>0.00</td>\n",
       "      <td>9.03</td>\n",
       "      <td>9.27</td>\n",
       "      <td>9.03</td>\n",
       "      <td>9.27</td>\n",
       "      <td>0.00</td>\n",
       "      <td>0.00</td>\n",
       "      <td>...</td>\n",
       "      <td>0.00</td>\n",
       "      <td>0.00</td>\n",
       "      <td>0.00</td>\n",
       "      <td>9.08</td>\n",
       "      <td>0.00</td>\n",
       "      <td>0.00</td>\n",
       "      <td>0.00</td>\n",
       "      <td>0.00</td>\n",
       "      <td>0.00</td>\n",
       "      <td>0.00</td>\n",
       "    </tr>\n",
       "    <tr>\n",
       "      <th>3</th>\n",
       "      <td>0.00</td>\n",
       "      <td>8.35</td>\n",
       "      <td>0.00</td>\n",
       "      <td>0.00</td>\n",
       "      <td>1.80</td>\n",
       "      <td>8.16</td>\n",
       "      <td>-2.82</td>\n",
       "      <td>6.21</td>\n",
       "      <td>0.00</td>\n",
       "      <td>1.84</td>\n",
       "      <td>...</td>\n",
       "      <td>0.00</td>\n",
       "      <td>0.00</td>\n",
       "      <td>0.00</td>\n",
       "      <td>0.53</td>\n",
       "      <td>0.00</td>\n",
       "      <td>0.00</td>\n",
       "      <td>0.00</td>\n",
       "      <td>0.00</td>\n",
       "      <td>0.00</td>\n",
       "      <td>0.00</td>\n",
       "    </tr>\n",
       "    <tr>\n",
       "      <th>4</th>\n",
       "      <td>8.50</td>\n",
       "      <td>4.61</td>\n",
       "      <td>-4.17</td>\n",
       "      <td>-5.39</td>\n",
       "      <td>1.36</td>\n",
       "      <td>1.60</td>\n",
       "      <td>7.04</td>\n",
       "      <td>4.61</td>\n",
       "      <td>-0.44</td>\n",
       "      <td>5.73</td>\n",
       "      <td>...</td>\n",
       "      <td>5.19</td>\n",
       "      <td>5.58</td>\n",
       "      <td>4.27</td>\n",
       "      <td>5.19</td>\n",
       "      <td>5.73</td>\n",
       "      <td>1.55</td>\n",
       "      <td>3.11</td>\n",
       "      <td>6.55</td>\n",
       "      <td>1.80</td>\n",
       "      <td>1.60</td>\n",
       "    </tr>\n",
       "  </tbody>\n",
       "</table>\n",
       "<p>5 rows × 100 columns</p>\n",
       "</div>"
      ],
      "text/plain": [
       "     0     1     2     3     4     5     6     7     8     9   ...     90  \\\n",
       "0 -7.82  8.79 -9.66 -8.16 -7.52 -8.50 -9.85  4.17 -8.98 -4.76  ...   2.82   \n",
       "1  4.08 -0.29  6.36  4.37 -2.38 -9.66 -0.73 -5.34  8.88  9.22  ...   2.82   \n",
       "2  0.00  0.00  0.00  0.00  9.03  9.27  9.03  9.27  0.00  0.00  ...   0.00   \n",
       "3  0.00  8.35  0.00  0.00  1.80  8.16 -2.82  6.21  0.00  1.84  ...   0.00   \n",
       "4  8.50  4.61 -4.17 -5.39  1.36  1.60  7.04  4.61 -0.44  5.73  ...   5.19   \n",
       "\n",
       "     91    92    93    94    95    96    97    98    99  \n",
       "0  0.00  0.00  0.00  0.00  0.00 -5.63  0.00  0.00  0.00  \n",
       "1 -4.95 -0.29  7.86 -0.19 -2.14  3.06  0.34 -4.32  1.07  \n",
       "2  0.00  0.00  9.08  0.00  0.00  0.00  0.00  0.00  0.00  \n",
       "3  0.00  0.00  0.53  0.00  0.00  0.00  0.00  0.00  0.00  \n",
       "4  5.58  4.27  5.19  5.73  1.55  3.11  6.55  1.80  1.60  \n",
       "\n",
       "[5 rows x 100 columns]"
      ]
     },
     "execution_count": 50,
     "metadata": {},
     "output_type": "execute_result"
    }
   ],
   "source": [
    "rating.replace(99.00,0).head()"
   ]
  },
  {
   "cell_type": "markdown",
   "metadata": {},
   "source": [
    "# Q24 Normalize the ratings using StandardScaler and save them in `ratings_diff` variable"
   ]
  },
  {
   "cell_type": "code",
   "execution_count": 51,
   "metadata": {},
   "outputs": [],
   "source": [
    "from sklearn.preprocessing import StandardScaler"
   ]
  },
  {
   "cell_type": "code",
   "execution_count": 52,
   "metadata": {},
   "outputs": [
    {
     "data": {
      "text/plain": [
       "array([[-0.83401707, -0.26302556, -0.9426833 , ...,  0.70778183,\n",
       "         0.7894014 ,  0.70807651],\n",
       "       [-0.5697436 , -0.49904647, -0.60368031, ..., -1.40370926,\n",
       "        -1.3580697 , -1.41633091],\n",
       "       [ 1.5382259 ,  2.08184746,  1.35669652, ...,  0.70778183,\n",
       "         0.7894014 ,  0.70807651],\n",
       "       ...,\n",
       "       [-0.60216707, -0.5900237 , -0.76302442, ..., -1.42660908,\n",
       "        -1.25310717, -1.42999758],\n",
       "       [ 1.5382259 ,  2.08184746,  1.35669652, ...,  0.70778183,\n",
       "         0.7894014 ,  0.70807651],\n",
       "       [-0.53643182, -0.68074099, -0.834761  , ...,  0.70778183,\n",
       "         0.7894014 ,  0.70807651]])"
      ]
     },
     "execution_count": 52,
     "metadata": {},
     "output_type": "execute_result"
    }
   ],
   "source": [
    "scaler = StandardScaler()\n",
    "ratings_diff = scaler.fit_transform(rating)\n",
    "ratings_diff"
   ]
  },
  {
   "cell_type": "markdown",
   "metadata": {},
   "source": [
    "### Popularity based recommendation system"
   ]
  },
  {
   "cell_type": "markdown",
   "metadata": {},
   "source": [
    "# Q25  Find the mean for each column  in `ratings_diff` i.e, for each joke\n",
    "Consider all the mean ratings and find the jokes with highest mean value and display the top 10 joke IDs."
   ]
  },
  {
   "cell_type": "code",
   "execution_count": 53,
   "metadata": {},
   "outputs": [],
   "source": [
    "final=pd.DataFrame(ratings_diff.mean(axis = 0))"
   ]
  },
  {
   "cell_type": "code",
   "execution_count": 54,
   "metadata": {},
   "outputs": [
    {
     "data": {
      "text/html": [
       "<div>\n",
       "<style scoped>\n",
       "    .dataframe tbody tr th:only-of-type {\n",
       "        vertical-align: middle;\n",
       "    }\n",
       "\n",
       "    .dataframe tbody tr th {\n",
       "        vertical-align: top;\n",
       "    }\n",
       "\n",
       "    .dataframe thead th {\n",
       "        text-align: right;\n",
       "    }\n",
       "</style>\n",
       "<table border=\"1\" class=\"dataframe\">\n",
       "  <thead>\n",
       "    <tr style=\"text-align: right;\">\n",
       "      <th></th>\n",
       "      <th>0</th>\n",
       "    </tr>\n",
       "  </thead>\n",
       "  <tbody>\n",
       "    <tr>\n",
       "      <th>0</th>\n",
       "      <td>-3.996803e-17</td>\n",
       "    </tr>\n",
       "    <tr>\n",
       "      <th>1</th>\n",
       "      <td>-6.661338e-17</td>\n",
       "    </tr>\n",
       "    <tr>\n",
       "      <th>2</th>\n",
       "      <td>-5.995204e-17</td>\n",
       "    </tr>\n",
       "    <tr>\n",
       "      <th>3</th>\n",
       "      <td>1.243450e-16</td>\n",
       "    </tr>\n",
       "    <tr>\n",
       "      <th>4</th>\n",
       "      <td>-2.220446e-18</td>\n",
       "    </tr>\n",
       "  </tbody>\n",
       "</table>\n",
       "</div>"
      ],
      "text/plain": [
       "              0\n",
       "0 -3.996803e-17\n",
       "1 -6.661338e-17\n",
       "2 -5.995204e-17\n",
       "3  1.243450e-16\n",
       "4 -2.220446e-18"
      ]
     },
     "execution_count": 54,
     "metadata": {},
     "output_type": "execute_result"
    }
   ],
   "source": [
    "final.head()"
   ]
  },
  {
   "cell_type": "code",
   "execution_count": 55,
   "metadata": {},
   "outputs": [
    {
     "data": {
      "text/html": [
       "<div>\n",
       "<style scoped>\n",
       "    .dataframe tbody tr th:only-of-type {\n",
       "        vertical-align: middle;\n",
       "    }\n",
       "\n",
       "    .dataframe tbody tr th {\n",
       "        vertical-align: top;\n",
       "    }\n",
       "\n",
       "    .dataframe thead th {\n",
       "        text-align: right;\n",
       "    }\n",
       "</style>\n",
       "<table border=\"1\" class=\"dataframe\">\n",
       "  <thead>\n",
       "    <tr style=\"text-align: right;\">\n",
       "      <th></th>\n",
       "      <th>0</th>\n",
       "    </tr>\n",
       "  </thead>\n",
       "  <tbody>\n",
       "    <tr>\n",
       "      <th>78</th>\n",
       "      <td>2.575717e-16</td>\n",
       "    </tr>\n",
       "    <tr>\n",
       "      <th>73</th>\n",
       "      <td>2.131628e-16</td>\n",
       "    </tr>\n",
       "    <tr>\n",
       "      <th>70</th>\n",
       "      <td>1.865175e-16</td>\n",
       "    </tr>\n",
       "    <tr>\n",
       "      <th>97</th>\n",
       "      <td>1.598721e-16</td>\n",
       "    </tr>\n",
       "    <tr>\n",
       "      <th>95</th>\n",
       "      <td>1.332268e-16</td>\n",
       "    </tr>\n",
       "    <tr>\n",
       "      <th>3</th>\n",
       "      <td>1.243450e-16</td>\n",
       "    </tr>\n",
       "    <tr>\n",
       "      <th>88</th>\n",
       "      <td>1.154632e-16</td>\n",
       "    </tr>\n",
       "    <tr>\n",
       "      <th>87</th>\n",
       "      <td>1.065814e-16</td>\n",
       "    </tr>\n",
       "    <tr>\n",
       "      <th>11</th>\n",
       "      <td>9.769963e-17</td>\n",
       "    </tr>\n",
       "    <tr>\n",
       "      <th>84</th>\n",
       "      <td>9.769963e-17</td>\n",
       "    </tr>\n",
       "  </tbody>\n",
       "</table>\n",
       "</div>"
      ],
      "text/plain": [
       "               0\n",
       "78  2.575717e-16\n",
       "73  2.131628e-16\n",
       "70  1.865175e-16\n",
       "97  1.598721e-16\n",
       "95  1.332268e-16\n",
       "3   1.243450e-16\n",
       "88  1.154632e-16\n",
       "87  1.065814e-16\n",
       "11  9.769963e-17\n",
       "84  9.769963e-17"
      ]
     },
     "execution_count": 55,
     "metadata": {},
     "output_type": "execute_result"
    }
   ],
   "source": [
    "final.sort_values(by=[0],ascending=False).head(n=10)"
   ]
  },
  {
   "cell_type": "code",
   "execution_count": null,
   "metadata": {},
   "outputs": [],
   "source": []
  }
 ],
 "metadata": {
  "colab": {
   "name": "PCA - Cancer Data.ipynb",
   "provenance": [],
   "version": "0.3.2"
  },
  "kernelspec": {
   "display_name": "Python 3",
   "language": "python",
   "name": "python3"
  },
  "language_info": {
   "codemirror_mode": {
    "name": "ipython",
    "version": 3
   },
   "file_extension": ".py",
   "mimetype": "text/x-python",
   "name": "python",
   "nbconvert_exporter": "python",
   "pygments_lexer": "ipython3",
   "version": "3.7.0"
  }
 },
 "nbformat": 4,
 "nbformat_minor": 1
}
