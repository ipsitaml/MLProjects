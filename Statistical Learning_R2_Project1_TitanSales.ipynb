{
 "cells": [
  {
   "cell_type": "markdown",
   "metadata": {},
   "source": [
    "The Titan Insurance Company has just installed a new incentive payment scheme for its lift policy sales force. It wants to have an early view of the success or failure of the new scheme. Indications are that the sales force is selling more policies, but sales always vary in an unpredictable pattern from month to month and it is not clear that the scheme has made a significant difference.\n",
    "Life Insurance companies typically measure the monthly output of a salesperson as the total sum assured for the policies sold by that person during the month. For example, suppose salesperson X has, in the month, sold seven policies for which the sums assured are £1000, £2500, £3000, £5000, £10000, £35000. X's output for the month is the total of these sums assured, £61,500. Titan's new scheme is that the sales force receives low regular salaries but are paid large bonuses related to their output (i.e. to the total sum assured of policies sold by them). The scheme is expensive for the company, but they are looking for sales increases which more than compensate. The agreement with the sales force is that if the scheme does not at least break even for the company, it will be abandoned after six months.\n",
    "The scheme has now been in operation for four months. It has settled down after fluctuations in the first two months due to the changeover.\n",
    "To test the effectiveness of the scheme, Titan have taken a random sample of 30 salespeople measured their output in the penultimate month prior to changeover and then measured it in the fourth month after the changeover (they have deliberately chosen months not too close to the changeover). The outputs of the salespeople are shown in Table 1\n",
    "\n",
    "SALESPERSON\t   Old Scheme (in thousands)\tNew Scheme (in thousands)\n",
    "1\t\t\t\t57\t\t\t\t\t\t\t62\n",
    "2\t\t\t\t103\t\t\t\t\t\t\t122\n",
    "3\t\t\t\t59\t\t\t\t\t\t\t54\n",
    "4\t\t\t\t75\t\t\t\t\t\t\t82\n",
    "5\t\t\t\t84\t\t\t\t\t\t\t84\n",
    "6\t\t\t\t73\t\t\t\t\t\t\t86\n",
    "7\t\t\t\t35\t\t\t\t\t\t\t32\n",
    "8\t\t\t\t110\t\t\t\t\t\t\t104\n",
    "9\t\t\t\t44\t\t\t\t\t\t\t38\n",
    "10\t\t\t\t82\t\t\t\t\t\t\t107\n",
    "11\t\t\t\t67\t\t\t\t\t\t\t84\n",
    "12\t\t\t\t64\t\t\t\t\t\t\t85\n",
    "13\t\t\t\t78\t\t\t\t\t\t\t99\n",
    "14\t\t\t\t53\t\t\t\t\t\t\t39\n",
    "15\t\t\t\t41\t\t\t\t\t\t\t34\n",
    "16\t\t\t\t39\t\t\t\t\t\t\t58\n",
    "17\t\t\t\t80\t\t\t\t\t\t\t73\n",
    "18\t\t\t\t87\t\t\t\t\t\t\t53\n",
    "19\t\t\t\t73\t\t\t\t\t\t\t66\n",
    "20\t\t\t\t65\t\t\t\t\t\t\t78\n",
    "21\t\t\t\t28\t\t\t\t\t\t\t41\n",
    "22\t\t\t\t62\t\t\t\t\t\t\t71\n",
    "23\t\t\t\t49\t\t\t\t\t\t\t38\n",
    "24\t\t\t\t84\t\t\t\t\t\t\t95\n",
    "25\t\t\t\t63\t\t\t\t\t\t\t81\n",
    "26\t\t\t\t77\t\t\t\t\t\t\t58\n",
    "27\t\t\t\t67\t\t\t\t\t\t\t75\n",
    "28\t\t\t\t101\t\t\t\t\t\t\t94\n",
    "29\t\t\t\t91\t\t\t\t\t\t\t100\n",
    "30\t\t\t\t50\t\t\t\t\t\t\t68\n",
    "\n"
   ]
  },
  {
   "cell_type": "code",
   "execution_count": 66,
   "metadata": {},
   "outputs": [
    {
     "data": {
      "text/html": [
       "<div>\n",
       "<style scoped>\n",
       "    .dataframe tbody tr th:only-of-type {\n",
       "        vertical-align: middle;\n",
       "    }\n",
       "\n",
       "    .dataframe tbody tr th {\n",
       "        vertical-align: top;\n",
       "    }\n",
       "\n",
       "    .dataframe thead th {\n",
       "        text-align: right;\n",
       "    }\n",
       "</style>\n",
       "<table border=\"1\" class=\"dataframe\">\n",
       "  <thead>\n",
       "    <tr style=\"text-align: right;\">\n",
       "      <th></th>\n",
       "      <th>Old Scheme (in thousands)</th>\n",
       "      <th>New Scheme (in thousands)</th>\n",
       "    </tr>\n",
       "    <tr>\n",
       "      <th>SALESPERSON</th>\n",
       "      <th></th>\n",
       "      <th></th>\n",
       "    </tr>\n",
       "  </thead>\n",
       "  <tbody>\n",
       "    <tr>\n",
       "      <th>1</th>\n",
       "      <td>57</td>\n",
       "      <td>62</td>\n",
       "    </tr>\n",
       "    <tr>\n",
       "      <th>2</th>\n",
       "      <td>103</td>\n",
       "      <td>122</td>\n",
       "    </tr>\n",
       "    <tr>\n",
       "      <th>3</th>\n",
       "      <td>59</td>\n",
       "      <td>54</td>\n",
       "    </tr>\n",
       "    <tr>\n",
       "      <th>4</th>\n",
       "      <td>75</td>\n",
       "      <td>82</td>\n",
       "    </tr>\n",
       "    <tr>\n",
       "      <th>5</th>\n",
       "      <td>84</td>\n",
       "      <td>84</td>\n",
       "    </tr>\n",
       "    <tr>\n",
       "      <th>6</th>\n",
       "      <td>73</td>\n",
       "      <td>86</td>\n",
       "    </tr>\n",
       "    <tr>\n",
       "      <th>7</th>\n",
       "      <td>35</td>\n",
       "      <td>32</td>\n",
       "    </tr>\n",
       "    <tr>\n",
       "      <th>8</th>\n",
       "      <td>110</td>\n",
       "      <td>104</td>\n",
       "    </tr>\n",
       "    <tr>\n",
       "      <th>9</th>\n",
       "      <td>44</td>\n",
       "      <td>38</td>\n",
       "    </tr>\n",
       "    <tr>\n",
       "      <th>10</th>\n",
       "      <td>82</td>\n",
       "      <td>107</td>\n",
       "    </tr>\n",
       "    <tr>\n",
       "      <th>11</th>\n",
       "      <td>67</td>\n",
       "      <td>84</td>\n",
       "    </tr>\n",
       "    <tr>\n",
       "      <th>12</th>\n",
       "      <td>64</td>\n",
       "      <td>85</td>\n",
       "    </tr>\n",
       "    <tr>\n",
       "      <th>13</th>\n",
       "      <td>78</td>\n",
       "      <td>99</td>\n",
       "    </tr>\n",
       "    <tr>\n",
       "      <th>14</th>\n",
       "      <td>53</td>\n",
       "      <td>39</td>\n",
       "    </tr>\n",
       "    <tr>\n",
       "      <th>15</th>\n",
       "      <td>41</td>\n",
       "      <td>34</td>\n",
       "    </tr>\n",
       "    <tr>\n",
       "      <th>16</th>\n",
       "      <td>39</td>\n",
       "      <td>58</td>\n",
       "    </tr>\n",
       "    <tr>\n",
       "      <th>17</th>\n",
       "      <td>80</td>\n",
       "      <td>73</td>\n",
       "    </tr>\n",
       "    <tr>\n",
       "      <th>18</th>\n",
       "      <td>87</td>\n",
       "      <td>53</td>\n",
       "    </tr>\n",
       "    <tr>\n",
       "      <th>19</th>\n",
       "      <td>73</td>\n",
       "      <td>66</td>\n",
       "    </tr>\n",
       "    <tr>\n",
       "      <th>20</th>\n",
       "      <td>65</td>\n",
       "      <td>78</td>\n",
       "    </tr>\n",
       "    <tr>\n",
       "      <th>21</th>\n",
       "      <td>28</td>\n",
       "      <td>41</td>\n",
       "    </tr>\n",
       "    <tr>\n",
       "      <th>22</th>\n",
       "      <td>62</td>\n",
       "      <td>71</td>\n",
       "    </tr>\n",
       "    <tr>\n",
       "      <th>23</th>\n",
       "      <td>49</td>\n",
       "      <td>38</td>\n",
       "    </tr>\n",
       "    <tr>\n",
       "      <th>24</th>\n",
       "      <td>84</td>\n",
       "      <td>95</td>\n",
       "    </tr>\n",
       "    <tr>\n",
       "      <th>25</th>\n",
       "      <td>63</td>\n",
       "      <td>81</td>\n",
       "    </tr>\n",
       "    <tr>\n",
       "      <th>26</th>\n",
       "      <td>77</td>\n",
       "      <td>58</td>\n",
       "    </tr>\n",
       "    <tr>\n",
       "      <th>27</th>\n",
       "      <td>67</td>\n",
       "      <td>75</td>\n",
       "    </tr>\n",
       "    <tr>\n",
       "      <th>28</th>\n",
       "      <td>101</td>\n",
       "      <td>94</td>\n",
       "    </tr>\n",
       "    <tr>\n",
       "      <th>29</th>\n",
       "      <td>91</td>\n",
       "      <td>100</td>\n",
       "    </tr>\n",
       "    <tr>\n",
       "      <th>30</th>\n",
       "      <td>50</td>\n",
       "      <td>68</td>\n",
       "    </tr>\n",
       "  </tbody>\n",
       "</table>\n",
       "</div>"
      ],
      "text/plain": [
       "             Old Scheme (in thousands)  New Scheme (in thousands)\n",
       "SALESPERSON                                                      \n",
       "1                                   57                         62\n",
       "2                                  103                        122\n",
       "3                                   59                         54\n",
       "4                                   75                         82\n",
       "5                                   84                         84\n",
       "6                                   73                         86\n",
       "7                                   35                         32\n",
       "8                                  110                        104\n",
       "9                                   44                         38\n",
       "10                                  82                        107\n",
       "11                                  67                         84\n",
       "12                                  64                         85\n",
       "13                                  78                         99\n",
       "14                                  53                         39\n",
       "15                                  41                         34\n",
       "16                                  39                         58\n",
       "17                                  80                         73\n",
       "18                                  87                         53\n",
       "19                                  73                         66\n",
       "20                                  65                         78\n",
       "21                                  28                         41\n",
       "22                                  62                         71\n",
       "23                                  49                         38\n",
       "24                                  84                         95\n",
       "25                                  63                         81\n",
       "26                                  77                         58\n",
       "27                                  67                         75\n",
       "28                                 101                         94\n",
       "29                                  91                        100\n",
       "30                                  50                         68"
      ]
     },
     "execution_count": 66,
     "metadata": {},
     "output_type": "execute_result"
    }
   ],
   "source": [
    "import numpy as np\n",
    "import pandas as pd\n",
    "\n",
    "df = pd.read_csv(\"TitanSales.csv\" , index_col=\"SALESPERSON\")\n",
    "df"
   ]
  },
  {
   "cell_type": "code",
   "execution_count": 67,
   "metadata": {},
   "outputs": [
    {
     "data": {
      "text/plain": [
       "Index(['Old Scheme (in thousands)', 'New Scheme (in thousands)'], dtype='object')"
      ]
     },
     "execution_count": 67,
     "metadata": {},
     "output_type": "execute_result"
    }
   ],
   "source": [
    "df.columns"
   ]
  },
  {
   "cell_type": "code",
   "execution_count": 68,
   "metadata": {},
   "outputs": [
    {
     "data": {
      "text/plain": [
       "Old Scheme (in thousands)    int64\n",
       "New Scheme (in thousands)    int64\n",
       "dtype: object"
      ]
     },
     "execution_count": 68,
     "metadata": {},
     "output_type": "execute_result"
    }
   ],
   "source": [
    "df.dtypes"
   ]
  },
  {
   "cell_type": "code",
   "execution_count": 69,
   "metadata": {},
   "outputs": [],
   "source": [
    "oldscheme = df[\"Old Scheme (in thousands)\"]\n",
    "newscheme = df[\"New Scheme (in thousands)\"]\n"
   ]
  },
  {
   "cell_type": "markdown",
   "metadata": {},
   "source": [
    "Find the mean of old scheme and new scheme column. (5 points)"
   ]
  },
  {
   "cell_type": "code",
   "execution_count": 70,
   "metadata": {},
   "outputs": [
    {
     "name": "stdout",
     "output_type": "stream",
     "text": [
      "Mean of Old Scheme is  68.03333333333333\n"
     ]
    }
   ],
   "source": [
    "oldmean = oldscheme.mean()\n",
    "print(\"Mean of Old Scheme is \" , oldmean)"
   ]
  },
  {
   "cell_type": "code",
   "execution_count": 71,
   "metadata": {},
   "outputs": [
    {
     "name": "stdout",
     "output_type": "stream",
     "text": [
      "Mean of New Scheme is  72.03333333333333\n"
     ]
    }
   ],
   "source": [
    "newmean = newscheme.mean()\n",
    "print(\"Mean of New Scheme is \" , newmean)"
   ]
  },
  {
   "cell_type": "code",
   "execution_count": 72,
   "metadata": {},
   "outputs": [
    {
     "name": "stdout",
     "output_type": "stream",
     "text": [
      "0.9813658595085144\n"
     ]
    }
   ],
   "source": [
    "#check if the distribution is normal\n",
    "from scipy.stats import ttest_1samp, ttest_ind, mannwhitneyu, levene, shapiro , ttest_rel , wilcoxon\n",
    "from statsmodels.stats.power import ttest_power\n",
    "\n",
    "t_stat, p_value = shapiro(oldscheme)\n",
    "print(p_value)"
   ]
  },
  {
   "cell_type": "code",
   "execution_count": 73,
   "metadata": {},
   "outputs": [
    {
     "name": "stdout",
     "output_type": "stream",
     "text": [
      "0.5057420134544373\n"
     ]
    }
   ],
   "source": [
    "t_stat, p_value = shapiro(newscheme)\n",
    "print(p_value)"
   ]
  },
  {
   "cell_type": "markdown",
   "metadata": {},
   "source": [
    "###### p_value for both old_scheme and new_scheme is greater than 0.05. Hence, we conclude that Data in both oldscheme and newscheme are normally distributed"
   ]
  },
  {
   "cell_type": "markdown",
   "metadata": {},
   "source": [
    "Use the five percent significance test over the data to determine the p value to check new scheme has significantly raised outputs? (10 points)"
   ]
  },
  {
   "cell_type": "markdown",
   "metadata": {},
   "source": [
    "Null Hypothesis : There is no significant difference between Old Scheme and New Scheme\n",
    "\n",
    "Alternate Hypothesis : There is a significant difference"
   ]
  },
  {
   "cell_type": "code",
   "execution_count": null,
   "metadata": {},
   "outputs": [],
   "source": []
  },
  {
   "cell_type": "code",
   "execution_count": 74,
   "metadata": {},
   "outputs": [
    {
     "name": "stdout",
     "output_type": "stream",
     "text": [
      "0.06528776980668831\n"
     ]
    }
   ],
   "source": [
    "t_statistic, p_value = ttest_rel(oldscheme , newscheme)\n",
    "print(p_value/2)\n",
    "#we divide p value by 2 because this is a one tailed test"
   ]
  },
  {
   "cell_type": "markdown",
   "metadata": {},
   "source": [
    "##### P value (0.065) is more than 0.05 so Null hypothesis can be accepted. Hence, there is no significance difference between the old and new scheme"
   ]
  },
  {
   "cell_type": "markdown",
   "metadata": {},
   "source": [
    "Suppose it has been calculated that in order for Titan to break even, the average output must increase by £5000 in the scheme compared to the old scheme. If this figure is alternative hypothesis, what is:\n",
    "\n",
    "a) The probability of a type 1 error? (2.5 points)\n",
    "b) What is the p- value of the hypothesis test if we test for a difference of $5000? (10 points)\n",
    "c) Power of the test (5 points)"
   ]
  },
  {
   "cell_type": "code",
   "execution_count": null,
   "metadata": {},
   "outputs": [],
   "source": []
  },
  {
   "cell_type": "markdown",
   "metadata": {},
   "source": [
    "Q> Probability of Type 1 Error\n",
    "#####  Probabilty of Type 1 error is alpha value i.e, 0.05"
   ]
  },
  {
   "cell_type": "markdown",
   "metadata": {},
   "source": [
    " Q> What is the p- value of the hypothesis test if we test for a difference of $5000? (10 points)"
   ]
  },
  {
   "cell_type": "markdown",
   "metadata": {},
   "source": [
    "M2 = Average sums assured by salesperson AFTER changeover.\n",
    "M1 = Average sums assured by salesperson BEFORE changeover. \n",
    "\n",
    "MD = M2 - M1   \n",
    "Null Hypothesis: MD ≤ 5000  \n",
    "Alternate Hypothesis: MD > 5000\n",
    "\n"
   ]
  },
  {
   "cell_type": "code",
   "execution_count": 75,
   "metadata": {},
   "outputs": [
    {
     "name": "stdout",
     "output_type": "stream",
     "text": [
      "P Value is  0.3500667456306643\n"
     ]
    }
   ],
   "source": [
    "m1 = oldmean\n",
    "m2 = newmean\n",
    "df['Difference'] = newscheme - oldscheme\n",
    "diff = df[\"Difference\"]\n",
    "md = diff.mean()\n",
    "t_statistic, p_value = ttest_1samp(diff, 5)\n",
    "print(\"P Value is \" ,p_value/2)\n",
    "#we divide p value by 2 because this is a one tailed test"
   ]
  },
  {
   "cell_type": "markdown",
   "metadata": {},
   "source": [
    "##### Since P value is greater than 0.05 we do not reject the null hypothesis.  Hence, we need not increase the avg output by 5000 for titan to  break even"
   ]
  },
  {
   "cell_type": "markdown",
   "metadata": {},
   "source": [
    "  Q> Power of the test (5 points)"
   ]
  },
  {
   "cell_type": "code",
   "execution_count": 76,
   "metadata": {},
   "outputs": [],
   "source": [
    "import statsmodels.stats.power as p\n",
    "from statsmodels.stats.power import ttest_power\n"
   ]
  },
  {
   "cell_type": "code",
   "execution_count": 77,
   "metadata": {},
   "outputs": [
    {
     "data": {
      "text/plain": [
       "-0.07101745039685363"
      ]
     },
     "execution_count": 77,
     "metadata": {},
     "output_type": "execute_result"
    }
   ],
   "source": [
    "effect_size2 = ((newmean-oldmean) - 5) / diff.std()\n",
    "effect_size2\n",
    "# 5 being the hypothesised mean\n",
    "# 4 (nemwean - oldmean) being the actual value of differences of mean"
   ]
  },
  {
   "cell_type": "code",
   "execution_count": 78,
   "metadata": {},
   "outputs": [
    {
     "name": "stdout",
     "output_type": "stream",
     "text": [
      "Power of Test is :  0.021720239625820925\n"
     ]
    }
   ],
   "source": [
    "nobs = diff.count()\n",
    "alpha = 0.05\n",
    "print(\"Power of Test is : \" , ttest_power(-0.07, nobs=30, alpha=0.05, alternative='larger'))"
   ]
  }
 ],
 "metadata": {
  "kernelspec": {
   "display_name": "Python 3",
   "language": "python",
   "name": "python3"
  },
  "language_info": {
   "codemirror_mode": {
    "name": "ipython",
    "version": 3
   },
   "file_extension": ".py",
   "mimetype": "text/x-python",
   "name": "python",
   "nbconvert_exporter": "python",
   "pygments_lexer": "ipython3",
   "version": "3.7.0"
  }
 },
 "nbformat": 4,
 "nbformat_minor": 2
}
