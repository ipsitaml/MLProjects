{
 "cells": [
  {
   "cell_type": "markdown",
   "metadata": {
    "colab_type": "text",
    "id": "84Q8JfvaeZZ6"
   },
   "source": [
    "## Linear Classifier in TensorFlow \n",
    "Using Low Level API in Eager Execution mode"
   ]
  },
  {
   "cell_type": "markdown",
   "metadata": {
    "colab_type": "text",
    "id": "sb7Epo0VOB58"
   },
   "source": [
    "### Load tensorflow"
   ]
  },
  {
   "cell_type": "code",
   "execution_count": 1,
   "metadata": {
    "colab": {},
    "colab_type": "code",
    "id": "fHpCNRv1OB5-"
   },
   "outputs": [],
   "source": [
    "import tensorflow as tf"
   ]
  },
  {
   "cell_type": "code",
   "execution_count": 2,
   "metadata": {
    "colab": {},
    "colab_type": "code",
    "id": "Mjtb-EMcm5K0"
   },
   "outputs": [
    {
     "data": {
      "text/plain": [
       "'1.13.1'"
      ]
     },
     "execution_count": 2,
     "metadata": {},
     "output_type": "execute_result"
    }
   ],
   "source": [
    "#Enable Eager Execution if using tensflow version < 2.0\n",
    "#From tensorflow v2.0 onwards, Eager Execution will be enabled by default\n",
    "\n",
    "tf.__version__"
   ]
  },
  {
   "cell_type": "code",
   "execution_count": 3,
   "metadata": {},
   "outputs": [],
   "source": [
    "tf.enable_eager_execution()\n"
   ]
  },
  {
   "cell_type": "markdown",
   "metadata": {
    "colab_type": "text",
    "id": "DxJDmJqqOB6K",
    "slideshow": {
     "slide_type": "slide"
    }
   },
   "source": [
    "### Collect Data"
   ]
  },
  {
   "cell_type": "code",
   "execution_count": 4,
   "metadata": {
    "colab": {},
    "colab_type": "code",
    "id": "FhllFLyKOB6N"
   },
   "outputs": [],
   "source": [
    "#from google.colab import drive\n",
    "#drive.mount('/gdrive')"
   ]
  },
  {
   "cell_type": "code",
   "execution_count": 5,
   "metadata": {
    "colab": {},
    "colab_type": "code",
    "id": "KiObW4V4SIOz"
   },
   "outputs": [],
   "source": [
    "import pandas as pd"
   ]
  },
  {
   "cell_type": "code",
   "execution_count": 6,
   "metadata": {
    "colab": {},
    "colab_type": "code",
    "id": "B4yQKMiJOB6R"
   },
   "outputs": [],
   "source": [
    "data = pd.read_csv('prices.csv')"
   ]
  },
  {
   "cell_type": "markdown",
   "metadata": {
    "colab_type": "text",
    "id": "fgkX6SEqOB6W"
   },
   "source": [
    "### Check all columns in the dataset"
   ]
  },
  {
   "cell_type": "code",
   "execution_count": 7,
   "metadata": {},
   "outputs": [
    {
     "data": {
      "text/plain": [
       "(851264, 7)"
      ]
     },
     "execution_count": 7,
     "metadata": {},
     "output_type": "execute_result"
    }
   ],
   "source": [
    "data.shape"
   ]
  },
  {
   "cell_type": "code",
   "execution_count": 8,
   "metadata": {
    "colab": {},
    "colab_type": "code",
    "id": "7K8pWsNQOB6X"
   },
   "outputs": [
    {
     "data": {
      "text/plain": [
       "Index(['date', 'symbol', 'open', 'close', 'low', 'high', 'volume'], dtype='object')"
      ]
     },
     "execution_count": 8,
     "metadata": {},
     "output_type": "execute_result"
    }
   ],
   "source": [
    "data.columns"
   ]
  },
  {
   "cell_type": "code",
   "execution_count": 9,
   "metadata": {},
   "outputs": [
    {
     "data": {
      "text/html": [
       "<div>\n",
       "<style scoped>\n",
       "    .dataframe tbody tr th:only-of-type {\n",
       "        vertical-align: middle;\n",
       "    }\n",
       "\n",
       "    .dataframe tbody tr th {\n",
       "        vertical-align: top;\n",
       "    }\n",
       "\n",
       "    .dataframe thead th {\n",
       "        text-align: right;\n",
       "    }\n",
       "</style>\n",
       "<table border=\"1\" class=\"dataframe\">\n",
       "  <thead>\n",
       "    <tr style=\"text-align: right;\">\n",
       "      <th></th>\n",
       "      <th>date</th>\n",
       "      <th>symbol</th>\n",
       "      <th>open</th>\n",
       "      <th>close</th>\n",
       "      <th>low</th>\n",
       "      <th>high</th>\n",
       "      <th>volume</th>\n",
       "    </tr>\n",
       "  </thead>\n",
       "  <tbody>\n",
       "    <tr>\n",
       "      <th>0</th>\n",
       "      <td>2016-01-05 00:00:00</td>\n",
       "      <td>WLTW</td>\n",
       "      <td>123.430000</td>\n",
       "      <td>125.839996</td>\n",
       "      <td>122.309998</td>\n",
       "      <td>126.250000</td>\n",
       "      <td>2163600.0</td>\n",
       "    </tr>\n",
       "    <tr>\n",
       "      <th>1</th>\n",
       "      <td>2016-01-06 00:00:00</td>\n",
       "      <td>WLTW</td>\n",
       "      <td>125.239998</td>\n",
       "      <td>119.980003</td>\n",
       "      <td>119.940002</td>\n",
       "      <td>125.540001</td>\n",
       "      <td>2386400.0</td>\n",
       "    </tr>\n",
       "    <tr>\n",
       "      <th>2</th>\n",
       "      <td>2016-01-07 00:00:00</td>\n",
       "      <td>WLTW</td>\n",
       "      <td>116.379997</td>\n",
       "      <td>114.949997</td>\n",
       "      <td>114.930000</td>\n",
       "      <td>119.739998</td>\n",
       "      <td>2489500.0</td>\n",
       "    </tr>\n",
       "    <tr>\n",
       "      <th>3</th>\n",
       "      <td>2016-01-08 00:00:00</td>\n",
       "      <td>WLTW</td>\n",
       "      <td>115.480003</td>\n",
       "      <td>116.620003</td>\n",
       "      <td>113.500000</td>\n",
       "      <td>117.440002</td>\n",
       "      <td>2006300.0</td>\n",
       "    </tr>\n",
       "    <tr>\n",
       "      <th>4</th>\n",
       "      <td>2016-01-11 00:00:00</td>\n",
       "      <td>WLTW</td>\n",
       "      <td>117.010002</td>\n",
       "      <td>114.970001</td>\n",
       "      <td>114.089996</td>\n",
       "      <td>117.330002</td>\n",
       "      <td>1408600.0</td>\n",
       "    </tr>\n",
       "  </tbody>\n",
       "</table>\n",
       "</div>"
      ],
      "text/plain": [
       "                  date symbol        open       close         low        high  \\\n",
       "0  2016-01-05 00:00:00   WLTW  123.430000  125.839996  122.309998  126.250000   \n",
       "1  2016-01-06 00:00:00   WLTW  125.239998  119.980003  119.940002  125.540001   \n",
       "2  2016-01-07 00:00:00   WLTW  116.379997  114.949997  114.930000  119.739998   \n",
       "3  2016-01-08 00:00:00   WLTW  115.480003  116.620003  113.500000  117.440002   \n",
       "4  2016-01-11 00:00:00   WLTW  117.010002  114.970001  114.089996  117.330002   \n",
       "\n",
       "      volume  \n",
       "0  2163600.0  \n",
       "1  2386400.0  \n",
       "2  2489500.0  \n",
       "3  2006300.0  \n",
       "4  1408600.0  "
      ]
     },
     "execution_count": 9,
     "metadata": {},
     "output_type": "execute_result"
    }
   ],
   "source": [
    "data.head()"
   ]
  },
  {
   "cell_type": "markdown",
   "metadata": {
    "colab_type": "text",
    "id": "7dU6X7MpOB6c"
   },
   "source": [
    "### Drop columns `date` and  `symbol`"
   ]
  },
  {
   "cell_type": "code",
   "execution_count": 10,
   "metadata": {
    "colab": {},
    "colab_type": "code",
    "id": "lh_6spSKOB6e"
   },
   "outputs": [],
   "source": [
    "data.drop('date', axis=1, inplace=True)"
   ]
  },
  {
   "cell_type": "code",
   "execution_count": 11,
   "metadata": {},
   "outputs": [],
   "source": [
    "data.drop('symbol', axis=1, inplace=True)"
   ]
  },
  {
   "cell_type": "code",
   "execution_count": 12,
   "metadata": {
    "colab": {},
    "colab_type": "code",
    "id": "xlwbUgTwOB6i",
    "outputId": "56bad82a-f271-415a-e0d6-cbe1c4290743"
   },
   "outputs": [
    {
     "data": {
      "text/html": [
       "<div>\n",
       "<style scoped>\n",
       "    .dataframe tbody tr th:only-of-type {\n",
       "        vertical-align: middle;\n",
       "    }\n",
       "\n",
       "    .dataframe tbody tr th {\n",
       "        vertical-align: top;\n",
       "    }\n",
       "\n",
       "    .dataframe thead th {\n",
       "        text-align: right;\n",
       "    }\n",
       "</style>\n",
       "<table border=\"1\" class=\"dataframe\">\n",
       "  <thead>\n",
       "    <tr style=\"text-align: right;\">\n",
       "      <th></th>\n",
       "      <th>open</th>\n",
       "      <th>close</th>\n",
       "      <th>low</th>\n",
       "      <th>high</th>\n",
       "      <th>volume</th>\n",
       "    </tr>\n",
       "  </thead>\n",
       "  <tbody>\n",
       "    <tr>\n",
       "      <th>0</th>\n",
       "      <td>123.430000</td>\n",
       "      <td>125.839996</td>\n",
       "      <td>122.309998</td>\n",
       "      <td>126.250000</td>\n",
       "      <td>2163600.0</td>\n",
       "    </tr>\n",
       "    <tr>\n",
       "      <th>1</th>\n",
       "      <td>125.239998</td>\n",
       "      <td>119.980003</td>\n",
       "      <td>119.940002</td>\n",
       "      <td>125.540001</td>\n",
       "      <td>2386400.0</td>\n",
       "    </tr>\n",
       "    <tr>\n",
       "      <th>2</th>\n",
       "      <td>116.379997</td>\n",
       "      <td>114.949997</td>\n",
       "      <td>114.930000</td>\n",
       "      <td>119.739998</td>\n",
       "      <td>2489500.0</td>\n",
       "    </tr>\n",
       "    <tr>\n",
       "      <th>3</th>\n",
       "      <td>115.480003</td>\n",
       "      <td>116.620003</td>\n",
       "      <td>113.500000</td>\n",
       "      <td>117.440002</td>\n",
       "      <td>2006300.0</td>\n",
       "    </tr>\n",
       "    <tr>\n",
       "      <th>4</th>\n",
       "      <td>117.010002</td>\n",
       "      <td>114.970001</td>\n",
       "      <td>114.089996</td>\n",
       "      <td>117.330002</td>\n",
       "      <td>1408600.0</td>\n",
       "    </tr>\n",
       "  </tbody>\n",
       "</table>\n",
       "</div>"
      ],
      "text/plain": [
       "         open       close         low        high     volume\n",
       "0  123.430000  125.839996  122.309998  126.250000  2163600.0\n",
       "1  125.239998  119.980003  119.940002  125.540001  2386400.0\n",
       "2  116.379997  114.949997  114.930000  119.739998  2489500.0\n",
       "3  115.480003  116.620003  113.500000  117.440002  2006300.0\n",
       "4  117.010002  114.970001  114.089996  117.330002  1408600.0"
      ]
     },
     "execution_count": 12,
     "metadata": {},
     "output_type": "execute_result"
    }
   ],
   "source": [
    "data.head()"
   ]
  },
  {
   "cell_type": "markdown",
   "metadata": {
    "colab_type": "text",
    "id": "3DBv3WWYOB6q"
   },
   "source": [
    "### Consider only first 1000 rows in the dataset for building feature set and target set\n",
    "Target 'Volume' has very high values. Divide 'Volume' by 1000,000"
   ]
  },
  {
   "cell_type": "code",
   "execution_count": 13,
   "metadata": {
    "colab": {},
    "colab_type": "code",
    "id": "Z_hG9rGBOB6s"
   },
   "outputs": [],
   "source": [
    "df = data.head(1000)"
   ]
  },
  {
   "cell_type": "code",
   "execution_count": 14,
   "metadata": {},
   "outputs": [
    {
     "data": {
      "text/plain": [
       "(1000, 5)"
      ]
     },
     "execution_count": 14,
     "metadata": {},
     "output_type": "execute_result"
    }
   ],
   "source": [
    "df.shape"
   ]
  },
  {
   "cell_type": "code",
   "execution_count": 15,
   "metadata": {},
   "outputs": [
    {
     "name": "stderr",
     "output_type": "stream",
     "text": [
      "C:\\Users\\hp\\Anaconda\\lib\\site-packages\\ipykernel_launcher.py:1: SettingWithCopyWarning: \n",
      "A value is trying to be set on a copy of a slice from a DataFrame.\n",
      "Try using .loc[row_indexer,col_indexer] = value instead\n",
      "\n",
      "See the caveats in the documentation: http://pandas.pydata.org/pandas-docs/stable/indexing.html#indexing-view-versus-copy\n",
      "  \"\"\"Entry point for launching an IPython kernel.\n"
     ]
    }
   ],
   "source": [
    "df['volume'] = df['volume']/1000000"
   ]
  },
  {
   "cell_type": "code",
   "execution_count": 16,
   "metadata": {},
   "outputs": [
    {
     "data": {
      "text/html": [
       "<div>\n",
       "<style scoped>\n",
       "    .dataframe tbody tr th:only-of-type {\n",
       "        vertical-align: middle;\n",
       "    }\n",
       "\n",
       "    .dataframe tbody tr th {\n",
       "        vertical-align: top;\n",
       "    }\n",
       "\n",
       "    .dataframe thead th {\n",
       "        text-align: right;\n",
       "    }\n",
       "</style>\n",
       "<table border=\"1\" class=\"dataframe\">\n",
       "  <thead>\n",
       "    <tr style=\"text-align: right;\">\n",
       "      <th></th>\n",
       "      <th>open</th>\n",
       "      <th>close</th>\n",
       "      <th>low</th>\n",
       "      <th>high</th>\n",
       "      <th>volume</th>\n",
       "    </tr>\n",
       "  </thead>\n",
       "  <tbody>\n",
       "    <tr>\n",
       "      <th>0</th>\n",
       "      <td>123.430000</td>\n",
       "      <td>125.839996</td>\n",
       "      <td>122.309998</td>\n",
       "      <td>126.250000</td>\n",
       "      <td>2.1636</td>\n",
       "    </tr>\n",
       "    <tr>\n",
       "      <th>1</th>\n",
       "      <td>125.239998</td>\n",
       "      <td>119.980003</td>\n",
       "      <td>119.940002</td>\n",
       "      <td>125.540001</td>\n",
       "      <td>2.3864</td>\n",
       "    </tr>\n",
       "    <tr>\n",
       "      <th>2</th>\n",
       "      <td>116.379997</td>\n",
       "      <td>114.949997</td>\n",
       "      <td>114.930000</td>\n",
       "      <td>119.739998</td>\n",
       "      <td>2.4895</td>\n",
       "    </tr>\n",
       "    <tr>\n",
       "      <th>3</th>\n",
       "      <td>115.480003</td>\n",
       "      <td>116.620003</td>\n",
       "      <td>113.500000</td>\n",
       "      <td>117.440002</td>\n",
       "      <td>2.0063</td>\n",
       "    </tr>\n",
       "    <tr>\n",
       "      <th>4</th>\n",
       "      <td>117.010002</td>\n",
       "      <td>114.970001</td>\n",
       "      <td>114.089996</td>\n",
       "      <td>117.330002</td>\n",
       "      <td>1.4086</td>\n",
       "    </tr>\n",
       "  </tbody>\n",
       "</table>\n",
       "</div>"
      ],
      "text/plain": [
       "         open       close         low        high  volume\n",
       "0  123.430000  125.839996  122.309998  126.250000  2.1636\n",
       "1  125.239998  119.980003  119.940002  125.540001  2.3864\n",
       "2  116.379997  114.949997  114.930000  119.739998  2.4895\n",
       "3  115.480003  116.620003  113.500000  117.440002  2.0063\n",
       "4  117.010002  114.970001  114.089996  117.330002  1.4086"
      ]
     },
     "execution_count": 16,
     "metadata": {},
     "output_type": "execute_result"
    }
   ],
   "source": [
    "df.head()"
   ]
  },
  {
   "cell_type": "code",
   "execution_count": null,
   "metadata": {},
   "outputs": [],
   "source": []
  },
  {
   "cell_type": "markdown",
   "metadata": {
    "colab_type": "text",
    "id": "M3UaApqYOB6x"
   },
   "source": [
    "### Divide the data into train and test sets"
   ]
  },
  {
   "cell_type": "code",
   "execution_count": 17,
   "metadata": {
    "colab": {},
    "colab_type": "code",
    "id": "4LE4U8lTdQJq"
   },
   "outputs": [],
   "source": [
    "from sklearn.model_selection import train_test_split\n",
    "X=df.drop(\"volume\",axis=1)\n",
    "Y=df[\"volume\"]"
   ]
  },
  {
   "cell_type": "markdown",
   "metadata": {
    "colab_type": "text",
    "id": "oYK-aUuLbrz2"
   },
   "source": [
    "#### Convert Training and Test Data to numpy float32 arrays\n"
   ]
  },
  {
   "cell_type": "code",
   "execution_count": 18,
   "metadata": {
    "colab": {},
    "colab_type": "code",
    "id": "Ao-S0tQGcncz"
   },
   "outputs": [],
   "source": [
    "X_train,X_test,Y_train,Y_test = train_test_split(X,Y,test_size=0.2,random_state=3)\n",
    "\n",
    "X_train = X_train.astype('float32')\n",
    "Y_train = Y_train.astype('float32')\n",
    "X_test = X_test.astype('float32')\n",
    "Y_test = Y_test.astype('float32')"
   ]
  },
  {
   "cell_type": "code",
   "execution_count": 19,
   "metadata": {},
   "outputs": [
    {
     "data": {
      "text/plain": [
       "(800, 4)"
      ]
     },
     "execution_count": 19,
     "metadata": {},
     "output_type": "execute_result"
    }
   ],
   "source": [
    "X_train.shape"
   ]
  },
  {
   "cell_type": "markdown",
   "metadata": {
    "colab_type": "text",
    "id": "im1ZegbDdKgv"
   },
   "source": [
    "### Normalize the data\n",
    "You can use Normalizer from sklearn.preprocessing"
   ]
  },
  {
   "cell_type": "code",
   "execution_count": 20,
   "metadata": {
    "colab": {},
    "colab_type": "code",
    "id": "2EkKAy7fOB6y"
   },
   "outputs": [],
   "source": [
    "from sklearn.preprocessing import Normalizer"
   ]
  },
  {
   "cell_type": "code",
   "execution_count": 21,
   "metadata": {},
   "outputs": [],
   "source": [
    "transformer = Normalizer()\n",
    "X_train = transformer.fit_transform(X_train)"
   ]
  },
  {
   "cell_type": "code",
   "execution_count": 22,
   "metadata": {},
   "outputs": [],
   "source": [
    "X_test = transformer.fit_transform(X_test)"
   ]
  },
  {
   "cell_type": "code",
   "execution_count": null,
   "metadata": {},
   "outputs": [],
   "source": []
  },
  {
   "cell_type": "markdown",
   "metadata": {
    "colab_type": "text",
    "id": "v6vE4eYCOB62",
    "slideshow": {
     "slide_type": "slide"
    }
   },
   "source": [
    "## Building the Model in tensorflow"
   ]
  },
  {
   "cell_type": "markdown",
   "metadata": {
    "colab_type": "text",
    "id": "297_qja4OB7A",
    "slideshow": {
     "slide_type": "slide"
    }
   },
   "source": [
    "1.Define Weights and Bias, use tf.zeros to initialize weights and Bias"
   ]
  },
  {
   "cell_type": "code",
   "execution_count": 23,
   "metadata": {
    "colab": {},
    "colab_type": "code",
    "id": "L205qPeQOB7B"
   },
   "outputs": [],
   "source": [
    "w = tf.zeros(shape=(4,1))\n",
    "b = tf.zeros(shape=(1))"
   ]
  },
  {
   "cell_type": "code",
   "execution_count": 24,
   "metadata": {},
   "outputs": [],
   "source": [
    "xw_matmul = tf.matmul(X_train, w)"
   ]
  },
  {
   "cell_type": "markdown",
   "metadata": {
    "colab_type": "text",
    "id": "HgtWA-UIOB7F",
    "slideshow": {
     "slide_type": "slide"
    }
   },
   "source": [
    "2.Define a function to calculate prediction"
   ]
  },
  {
   "cell_type": "code",
   "execution_count": 25,
   "metadata": {
    "colab": {},
    "colab_type": "code",
    "id": "JveGlx25OB7H"
   },
   "outputs": [],
   "source": [
    "def prediction(x, w, b):\n",
    "    \n",
    "    xw_matmul = tf.matmul(x, w)\n",
    "    y = tf.add(xw_matmul, b)\n",
    "    \n",
    "    return y"
   ]
  },
  {
   "cell_type": "markdown",
   "metadata": {
    "colab_type": "text",
    "id": "TL1hIwf_OB7M",
    "slideshow": {
     "slide_type": "slide"
    }
   },
   "source": [
    "3.Loss (Cost) Function [Mean square error]"
   ]
  },
  {
   "cell_type": "code",
   "execution_count": 26,
   "metadata": {
    "colab": {},
    "colab_type": "code",
    "id": "8VSWPiGXOB7P"
   },
   "outputs": [],
   "source": [
    "def loss(y_actual, y_predicted):\n",
    "    \n",
    "    avg = tf.reduce_mean(tf.squared_difference(y_actual,y_predicted))\n",
    "    \n",
    "    return avg"
   ]
  },
  {
   "cell_type": "markdown",
   "metadata": {},
   "source": [
    "def cost(y_actual, y_predicted):\n",
    "    \n",
    "    cost = tf.reduce_sum(tf.pow(y_predicted-y_actual, 2)) / (2 * len(y_actual))\n",
    "    return cost"
   ]
  },
  {
   "cell_type": "markdown",
   "metadata": {
    "colab_type": "text",
    "id": "jzG85FUlOB7U",
    "slideshow": {
     "slide_type": "slide"
    }
   },
   "source": [
    "4.Function to train the Model\n",
    "\n",
    "1.   Record all the mathematical steps to calculate Loss\n",
    "2.   Calculate Gradients of Loss w.r.t weights and bias\n",
    "3.   Update Weights and Bias based on gradients and learning rate to minimize loss"
   ]
  },
  {
   "cell_type": "code",
   "execution_count": 27,
   "metadata": {
    "colab": {},
    "colab_type": "code",
    "id": "cj802w-3OB7X"
   },
   "outputs": [],
   "source": [
    "def train(x, y_actual, w, b, learning_rate=0.01):\n",
    "    \n",
    "    #Record mathematical operations on 'tape' to calculate loss\n",
    "    with tf.GradientTape() as t:\n",
    "        \n",
    "        t.watch([w,b])\n",
    "        \n",
    "        current_prediction = prediction(x, w, b)\n",
    "        current_loss = loss(y_actual, current_prediction)\n",
    "        #current_cost = cost(y_actual, current_prediction)\n",
    "    #Calculate Gradients for Loss with respect to Weights and Bias\n",
    "    dw, db = t.gradient(current_loss,[w, b])\n",
    "    \n",
    "    #Update Weights and Bias\n",
    "    w = w - learning_rate*dw\n",
    "    b = b - learning_rate*db\n",
    "    \n",
    "    return w, b"
   ]
  },
  {
   "cell_type": "markdown",
   "metadata": {
    "colab_type": "text",
    "id": "xSypb_u8OB7e",
    "slideshow": {
     "slide_type": "slide"
    }
   },
   "source": [
    "## Train the model for 100 epochs \n",
    "1. Observe the training loss at every iteration\n",
    "2. Observe Train loss at every 5th iteration"
   ]
  },
  {
   "cell_type": "code",
   "execution_count": 28,
   "metadata": {
    "colab": {},
    "colab_type": "code",
    "id": "DVvgj7eQOB7f"
   },
   "outputs": [
    {
     "name": "stdout",
     "output_type": "stream",
     "text": [
      "Current Loss on iteration 0 197.8092\n",
      "Current Loss on iteration 1 195.7881\n",
      "Current Loss on iteration 2 193.92535\n",
      "Current Loss on iteration 3 192.2088\n",
      "Current Loss on iteration 4 190.62651\n",
      "Current Loss on iteration 5 189.1686\n",
      "Current Loss on iteration 6 187.82487\n",
      "Current Loss on iteration 7 186.58646\n",
      "Current Loss on iteration 8 185.44518\n",
      "Current Loss on iteration 9 184.39331\n",
      "Current Loss on iteration 10 183.42395\n",
      "Current Loss on iteration 11 182.53052\n",
      "Current Loss on iteration 12 181.70723\n",
      "Current Loss on iteration 13 180.94847\n",
      "Current Loss on iteration 14 180.24915\n",
      "Current Loss on iteration 15 179.60464\n",
      "Current Loss on iteration 16 179.01076\n",
      "Current Loss on iteration 17 178.46338\n",
      "Current Loss on iteration 18 177.95891\n",
      "Current Loss on iteration 19 177.49393\n",
      "Current Loss on iteration 20 177.06548\n",
      "Current Loss on iteration 21 176.67062\n",
      "Current Loss on iteration 22 176.30667\n",
      "Current Loss on iteration 23 175.97137\n",
      "Current Loss on iteration 24 175.6622\n",
      "Current Loss on iteration 25 175.37727\n",
      "Current Loss on iteration 26 175.1148\n",
      "Current Loss on iteration 27 174.87288\n",
      "Current Loss on iteration 28 174.64983\n",
      "Current Loss on iteration 29 174.44437\n",
      "Current Loss on iteration 30 174.255\n",
      "Current Loss on iteration 31 174.08047\n",
      "Current Loss on iteration 32 173.91957\n",
      "Current Loss on iteration 33 173.77135\n",
      "Current Loss on iteration 34 173.63467\n",
      "Current Loss on iteration 35 173.50877\n",
      "Current Loss on iteration 36 173.39275\n",
      "Current Loss on iteration 37 173.28583\n",
      "Current Loss on iteration 38 173.1872\n",
      "Current Loss on iteration 39 173.0964\n",
      "Current Loss on iteration 40 173.01271\n",
      "Current Loss on iteration 41 172.93547\n",
      "Current Loss on iteration 42 172.86443\n",
      "Current Loss on iteration 43 172.79895\n",
      "Current Loss on iteration 44 172.73856\n",
      "Current Loss on iteration 45 172.68282\n",
      "Current Loss on iteration 46 172.63159\n",
      "Current Loss on iteration 47 172.58432\n",
      "Current Loss on iteration 48 172.54083\n",
      "Current Loss on iteration 49 172.50061\n",
      "Current Loss on iteration 50 172.46353\n",
      "Current Loss on iteration 51 172.42946\n",
      "Current Loss on iteration 52 172.39801\n",
      "Current Loss on iteration 53 172.36908\n",
      "Current Loss on iteration 54 172.3424\n",
      "Current Loss on iteration 55 172.31778\n",
      "Current Loss on iteration 56 172.29518\n",
      "Current Loss on iteration 57 172.27415\n",
      "Current Loss on iteration 58 172.255\n",
      "Current Loss on iteration 59 172.2372\n",
      "Current Loss on iteration 60 172.22086\n",
      "Current Loss on iteration 61 172.2058\n",
      "Current Loss on iteration 62 172.19191\n",
      "Current Loss on iteration 63 172.17903\n",
      "Current Loss on iteration 64 172.1673\n",
      "Current Loss on iteration 65 172.1565\n",
      "Current Loss on iteration 66 172.1464\n",
      "Current Loss on iteration 67 172.13722\n",
      "Current Loss on iteration 68 172.12863\n",
      "Current Loss on iteration 69 172.12074\n",
      "Current Loss on iteration 70 172.1136\n",
      "Current Loss on iteration 71 172.10698\n",
      "Current Loss on iteration 72 172.10083\n",
      "Current Loss on iteration 73 172.09517\n",
      "Current Loss on iteration 74 172.08992\n",
      "Current Loss on iteration 75 172.0851\n",
      "Current Loss on iteration 76 172.08072\n",
      "Current Loss on iteration 77 172.0766\n",
      "Current Loss on iteration 78 172.07283\n",
      "Current Loss on iteration 79 172.0694\n",
      "Current Loss on iteration 80 172.06618\n",
      "Current Loss on iteration 81 172.06323\n",
      "Current Loss on iteration 82 172.0605\n",
      "Current Loss on iteration 83 172.05803\n",
      "Current Loss on iteration 84 172.0557\n",
      "Current Loss on iteration 85 172.05359\n",
      "Current Loss on iteration 86 172.05168\n",
      "Current Loss on iteration 87 172.0498\n",
      "Current Loss on iteration 88 172.04817\n",
      "Current Loss on iteration 89 172.0466\n",
      "Current Loss on iteration 90 172.04521\n",
      "Current Loss on iteration 91 172.0439\n",
      "Current Loss on iteration 92 172.0427\n",
      "Current Loss on iteration 93 172.04163\n",
      "Current Loss on iteration 94 172.04059\n",
      "Current Loss on iteration 95 172.03966\n",
      "Current Loss on iteration 96 172.03877\n",
      "Current Loss on iteration 97 172.038\n",
      "Current Loss on iteration 98 172.0372\n",
      "Current Loss on iteration 99 172.03654\n"
     ]
    }
   ],
   "source": [
    "for i in range(100):\n",
    "    \n",
    "    w, b = train(X_train, Y_train, w, b)\n",
    "    print('Current Loss on iteration', i, loss(Y_train, prediction(X_train, w, b)).numpy())"
   ]
  },
  {
   "cell_type": "markdown",
   "metadata": {
    "colab_type": "text",
    "id": "DOL2ncA1OB7q"
   },
   "source": [
    "### Get the shapes and values of W and b"
   ]
  },
  {
   "cell_type": "code",
   "execution_count": 29,
   "metadata": {
    "colab": {},
    "colab_type": "code",
    "id": "ZGvtyTeuOB7r"
   },
   "outputs": [
    {
     "name": "stdout",
     "output_type": "stream",
     "text": [
      "Weights:\n",
      " [[1.2978185]\n",
      " [1.3030543]\n",
      " [1.2847368]\n",
      " [1.3140031]]\n",
      "Bias:\n",
      " [2.599959]\n"
     ]
    }
   ],
   "source": [
    "print('Weights:\\n', w.numpy())\n",
    "print('Bias:\\n',b.numpy())"
   ]
  },
  {
   "cell_type": "code",
   "execution_count": 30,
   "metadata": {
    "colab": {},
    "colab_type": "code",
    "id": "vhDtOv5UOB7x"
   },
   "outputs": [],
   "source": [
    "xt1 = [X_test[1]]"
   ]
  },
  {
   "cell_type": "markdown",
   "metadata": {
    "colab_type": "text",
    "id": "ERq9GOKKciho"
   },
   "source": [
    "### Model Prediction on 1st Examples in Test Dataset"
   ]
  },
  {
   "cell_type": "code",
   "execution_count": 31,
   "metadata": {
    "colab": {},
    "colab_type": "code",
    "id": "gKGvUWahcihp"
   },
   "outputs": [],
   "source": [
    "y_predict = prediction(xt1,w,b)"
   ]
  },
  {
   "cell_type": "code",
   "execution_count": 32,
   "metadata": {},
   "outputs": [
    {
     "data": {
      "text/plain": [
       "<tf.Tensor: id=5113, shape=(1, 1), dtype=float32, numpy=array([[5.199538]], dtype=float32)>"
      ]
     },
     "execution_count": 32,
     "metadata": {},
     "output_type": "execute_result"
    }
   ],
   "source": [
    "y_predict"
   ]
  },
  {
   "cell_type": "code",
   "execution_count": null,
   "metadata": {},
   "outputs": [],
   "source": []
  },
  {
   "cell_type": "markdown",
   "metadata": {
    "colab_type": "text",
    "id": "YJRBuqXhOB7_"
   },
   "source": [
    "## Classification using tf.Keras\n",
    "\n",
    "In this exercise, we will build a Deep Neural Network using tf.Keras. We will use Iris Dataset for this exercise."
   ]
  },
  {
   "cell_type": "markdown",
   "metadata": {
    "colab_type": "text",
    "id": "O0g6lorycihf"
   },
   "source": [
    "### Load the given Iris data using pandas (Iris.csv)"
   ]
  },
  {
   "cell_type": "code",
   "execution_count": 33,
   "metadata": {
    "colab": {},
    "colab_type": "code",
    "id": "6xFvb5sRcihg"
   },
   "outputs": [],
   "source": [
    "iris = pd.read_csv('Iris.csv')"
   ]
  },
  {
   "cell_type": "code",
   "execution_count": 34,
   "metadata": {},
   "outputs": [
    {
     "data": {
      "text/html": [
       "<div>\n",
       "<style scoped>\n",
       "    .dataframe tbody tr th:only-of-type {\n",
       "        vertical-align: middle;\n",
       "    }\n",
       "\n",
       "    .dataframe tbody tr th {\n",
       "        vertical-align: top;\n",
       "    }\n",
       "\n",
       "    .dataframe thead th {\n",
       "        text-align: right;\n",
       "    }\n",
       "</style>\n",
       "<table border=\"1\" class=\"dataframe\">\n",
       "  <thead>\n",
       "    <tr style=\"text-align: right;\">\n",
       "      <th></th>\n",
       "      <th>Id</th>\n",
       "      <th>SepalLengthCm</th>\n",
       "      <th>SepalWidthCm</th>\n",
       "      <th>PetalLengthCm</th>\n",
       "      <th>PetalWidthCm</th>\n",
       "      <th>Species</th>\n",
       "    </tr>\n",
       "  </thead>\n",
       "  <tbody>\n",
       "    <tr>\n",
       "      <th>0</th>\n",
       "      <td>1</td>\n",
       "      <td>5.1</td>\n",
       "      <td>3.5</td>\n",
       "      <td>1.4</td>\n",
       "      <td>0.2</td>\n",
       "      <td>Iris-setosa</td>\n",
       "    </tr>\n",
       "    <tr>\n",
       "      <th>1</th>\n",
       "      <td>2</td>\n",
       "      <td>4.9</td>\n",
       "      <td>3.0</td>\n",
       "      <td>1.4</td>\n",
       "      <td>0.2</td>\n",
       "      <td>Iris-setosa</td>\n",
       "    </tr>\n",
       "    <tr>\n",
       "      <th>2</th>\n",
       "      <td>3</td>\n",
       "      <td>4.7</td>\n",
       "      <td>3.2</td>\n",
       "      <td>1.3</td>\n",
       "      <td>0.2</td>\n",
       "      <td>Iris-setosa</td>\n",
       "    </tr>\n",
       "    <tr>\n",
       "      <th>3</th>\n",
       "      <td>4</td>\n",
       "      <td>4.6</td>\n",
       "      <td>3.1</td>\n",
       "      <td>1.5</td>\n",
       "      <td>0.2</td>\n",
       "      <td>Iris-setosa</td>\n",
       "    </tr>\n",
       "    <tr>\n",
       "      <th>4</th>\n",
       "      <td>5</td>\n",
       "      <td>5.0</td>\n",
       "      <td>3.6</td>\n",
       "      <td>1.4</td>\n",
       "      <td>0.2</td>\n",
       "      <td>Iris-setosa</td>\n",
       "    </tr>\n",
       "  </tbody>\n",
       "</table>\n",
       "</div>"
      ],
      "text/plain": [
       "   Id  SepalLengthCm  SepalWidthCm  PetalLengthCm  PetalWidthCm      Species\n",
       "0   1            5.1           3.5            1.4           0.2  Iris-setosa\n",
       "1   2            4.9           3.0            1.4           0.2  Iris-setosa\n",
       "2   3            4.7           3.2            1.3           0.2  Iris-setosa\n",
       "3   4            4.6           3.1            1.5           0.2  Iris-setosa\n",
       "4   5            5.0           3.6            1.4           0.2  Iris-setosa"
      ]
     },
     "execution_count": 34,
     "metadata": {},
     "output_type": "execute_result"
    }
   ],
   "source": [
    "iris.head()"
   ]
  },
  {
   "cell_type": "code",
   "execution_count": 35,
   "metadata": {},
   "outputs": [
    {
     "data": {
      "text/plain": [
       "array(['Iris-setosa', 'Iris-versicolor', 'Iris-virginica'], dtype=object)"
      ]
     },
     "execution_count": 35,
     "metadata": {},
     "output_type": "execute_result"
    }
   ],
   "source": [
    "iris.Species.unique()"
   ]
  },
  {
   "cell_type": "markdown",
   "metadata": {
    "colab_type": "text",
    "id": "SAB--Qdwcihm"
   },
   "source": [
    "### Target set has different categories. So, Label encode them. And convert into one-hot vectors using get_dummies in pandas."
   ]
  },
  {
   "cell_type": "code",
   "execution_count": 36,
   "metadata": {
    "colab": {},
    "colab_type": "code",
    "id": "IJr5dYnocihm"
   },
   "outputs": [],
   "source": [
    "from sklearn.preprocessing import LabelEncoder\n",
    "le = LabelEncoder()\n",
    "iris['Species'] = le.fit_transform(iris.Species)"
   ]
  },
  {
   "cell_type": "code",
   "execution_count": 37,
   "metadata": {},
   "outputs": [
    {
     "data": {
      "text/html": [
       "<div>\n",
       "<style scoped>\n",
       "    .dataframe tbody tr th:only-of-type {\n",
       "        vertical-align: middle;\n",
       "    }\n",
       "\n",
       "    .dataframe tbody tr th {\n",
       "        vertical-align: top;\n",
       "    }\n",
       "\n",
       "    .dataframe thead th {\n",
       "        text-align: right;\n",
       "    }\n",
       "</style>\n",
       "<table border=\"1\" class=\"dataframe\">\n",
       "  <thead>\n",
       "    <tr style=\"text-align: right;\">\n",
       "      <th></th>\n",
       "      <th>Id</th>\n",
       "      <th>SepalLengthCm</th>\n",
       "      <th>SepalWidthCm</th>\n",
       "      <th>PetalLengthCm</th>\n",
       "      <th>PetalWidthCm</th>\n",
       "      <th>Species</th>\n",
       "    </tr>\n",
       "  </thead>\n",
       "  <tbody>\n",
       "    <tr>\n",
       "      <th>0</th>\n",
       "      <td>1</td>\n",
       "      <td>5.1</td>\n",
       "      <td>3.5</td>\n",
       "      <td>1.4</td>\n",
       "      <td>0.2</td>\n",
       "      <td>0</td>\n",
       "    </tr>\n",
       "    <tr>\n",
       "      <th>1</th>\n",
       "      <td>2</td>\n",
       "      <td>4.9</td>\n",
       "      <td>3.0</td>\n",
       "      <td>1.4</td>\n",
       "      <td>0.2</td>\n",
       "      <td>0</td>\n",
       "    </tr>\n",
       "    <tr>\n",
       "      <th>2</th>\n",
       "      <td>3</td>\n",
       "      <td>4.7</td>\n",
       "      <td>3.2</td>\n",
       "      <td>1.3</td>\n",
       "      <td>0.2</td>\n",
       "      <td>0</td>\n",
       "    </tr>\n",
       "    <tr>\n",
       "      <th>3</th>\n",
       "      <td>4</td>\n",
       "      <td>4.6</td>\n",
       "      <td>3.1</td>\n",
       "      <td>1.5</td>\n",
       "      <td>0.2</td>\n",
       "      <td>0</td>\n",
       "    </tr>\n",
       "    <tr>\n",
       "      <th>4</th>\n",
       "      <td>5</td>\n",
       "      <td>5.0</td>\n",
       "      <td>3.6</td>\n",
       "      <td>1.4</td>\n",
       "      <td>0.2</td>\n",
       "      <td>0</td>\n",
       "    </tr>\n",
       "  </tbody>\n",
       "</table>\n",
       "</div>"
      ],
      "text/plain": [
       "   Id  SepalLengthCm  SepalWidthCm  PetalLengthCm  PetalWidthCm  Species\n",
       "0   1            5.1           3.5            1.4           0.2        0\n",
       "1   2            4.9           3.0            1.4           0.2        0\n",
       "2   3            4.7           3.2            1.3           0.2        0\n",
       "3   4            4.6           3.1            1.5           0.2        0\n",
       "4   5            5.0           3.6            1.4           0.2        0"
      ]
     },
     "execution_count": 37,
     "metadata": {},
     "output_type": "execute_result"
    }
   ],
   "source": [
    "iris.head()\n"
   ]
  },
  {
   "cell_type": "code",
   "execution_count": 38,
   "metadata": {},
   "outputs": [],
   "source": [
    "dummy = pd.get_dummies(iris.Species)\n",
    "iris1 = pd.concat([iris,dummy], axis=1)"
   ]
  },
  {
   "cell_type": "code",
   "execution_count": 39,
   "metadata": {},
   "outputs": [],
   "source": [
    "iris1.drop('Species',axis=1,inplace=True)\n"
   ]
  },
  {
   "cell_type": "code",
   "execution_count": 40,
   "metadata": {},
   "outputs": [],
   "source": [
    "iris1.drop('Id', axis=1,inplace=True)"
   ]
  },
  {
   "cell_type": "code",
   "execution_count": 41,
   "metadata": {},
   "outputs": [
    {
     "data": {
      "text/html": [
       "<div>\n",
       "<style scoped>\n",
       "    .dataframe tbody tr th:only-of-type {\n",
       "        vertical-align: middle;\n",
       "    }\n",
       "\n",
       "    .dataframe tbody tr th {\n",
       "        vertical-align: top;\n",
       "    }\n",
       "\n",
       "    .dataframe thead th {\n",
       "        text-align: right;\n",
       "    }\n",
       "</style>\n",
       "<table border=\"1\" class=\"dataframe\">\n",
       "  <thead>\n",
       "    <tr style=\"text-align: right;\">\n",
       "      <th></th>\n",
       "      <th>SepalLengthCm</th>\n",
       "      <th>SepalWidthCm</th>\n",
       "      <th>PetalLengthCm</th>\n",
       "      <th>PetalWidthCm</th>\n",
       "      <th>0</th>\n",
       "      <th>1</th>\n",
       "      <th>2</th>\n",
       "    </tr>\n",
       "  </thead>\n",
       "  <tbody>\n",
       "    <tr>\n",
       "      <th>0</th>\n",
       "      <td>5.1</td>\n",
       "      <td>3.5</td>\n",
       "      <td>1.4</td>\n",
       "      <td>0.2</td>\n",
       "      <td>1</td>\n",
       "      <td>0</td>\n",
       "      <td>0</td>\n",
       "    </tr>\n",
       "    <tr>\n",
       "      <th>1</th>\n",
       "      <td>4.9</td>\n",
       "      <td>3.0</td>\n",
       "      <td>1.4</td>\n",
       "      <td>0.2</td>\n",
       "      <td>1</td>\n",
       "      <td>0</td>\n",
       "      <td>0</td>\n",
       "    </tr>\n",
       "    <tr>\n",
       "      <th>2</th>\n",
       "      <td>4.7</td>\n",
       "      <td>3.2</td>\n",
       "      <td>1.3</td>\n",
       "      <td>0.2</td>\n",
       "      <td>1</td>\n",
       "      <td>0</td>\n",
       "      <td>0</td>\n",
       "    </tr>\n",
       "    <tr>\n",
       "      <th>3</th>\n",
       "      <td>4.6</td>\n",
       "      <td>3.1</td>\n",
       "      <td>1.5</td>\n",
       "      <td>0.2</td>\n",
       "      <td>1</td>\n",
       "      <td>0</td>\n",
       "      <td>0</td>\n",
       "    </tr>\n",
       "    <tr>\n",
       "      <th>4</th>\n",
       "      <td>5.0</td>\n",
       "      <td>3.6</td>\n",
       "      <td>1.4</td>\n",
       "      <td>0.2</td>\n",
       "      <td>1</td>\n",
       "      <td>0</td>\n",
       "      <td>0</td>\n",
       "    </tr>\n",
       "  </tbody>\n",
       "</table>\n",
       "</div>"
      ],
      "text/plain": [
       "   SepalLengthCm  SepalWidthCm  PetalLengthCm  PetalWidthCm  0  1  2\n",
       "0            5.1           3.5            1.4           0.2  1  0  0\n",
       "1            4.9           3.0            1.4           0.2  1  0  0\n",
       "2            4.7           3.2            1.3           0.2  1  0  0\n",
       "3            4.6           3.1            1.5           0.2  1  0  0\n",
       "4            5.0           3.6            1.4           0.2  1  0  0"
      ]
     },
     "execution_count": 41,
     "metadata": {},
     "output_type": "execute_result"
    }
   ],
   "source": [
    "iris1.head(5)"
   ]
  },
  {
   "cell_type": "markdown",
   "metadata": {
    "colab_type": "text",
    "id": "D95nY5ILcihj"
   },
   "source": [
    "### Splitting the data into feature set and target set"
   ]
  },
  {
   "cell_type": "code",
   "execution_count": 42,
   "metadata": {
    "colab": {},
    "colab_type": "code",
    "id": "RyMQoLMucihj"
   },
   "outputs": [
    {
     "data": {
      "text/plain": [
       "(150, 4)"
      ]
     },
     "execution_count": 42,
     "metadata": {},
     "output_type": "execute_result"
    }
   ],
   "source": [
    "X = iris1.iloc[: ,0:4]\n",
    "Y= iris1.iloc[:,4:7]\n",
    "X.shape\n"
   ]
  },
  {
   "cell_type": "code",
   "execution_count": 43,
   "metadata": {},
   "outputs": [
    {
     "data": {
      "text/plain": [
       "(150, 3)"
      ]
     },
     "execution_count": 43,
     "metadata": {},
     "output_type": "execute_result"
    }
   ],
   "source": [
    "Y.shape"
   ]
  },
  {
   "cell_type": "markdown",
   "metadata": {
    "colab_type": "text",
    "id": "b22qpC5xcihr"
   },
   "source": [
    "###  Building Model in tf.keras\n",
    "\n",
    "Build a Linear Classifier model  <br>\n",
    "1.  Use Dense Layer  with input shape of 4 (according to the feature set) and number of outputs set to 3<br> \n",
    "2. Apply Softmax on Dense Layer outputs <br>\n",
    "3. Use SGD as Optimizer\n",
    "4. Use categorical_crossentropy as loss function "
   ]
  },
  {
   "cell_type": "code",
   "execution_count": 44,
   "metadata": {
    "colab": {},
    "colab_type": "code",
    "id": "Hov_UFnUciht"
   },
   "outputs": [],
   "source": [
    "#Initialize Sequential model\n",
    "model = tf.keras.models.Sequential()\n",
    "\n",
    "#Reshape data from 2D to 1D -> 28x28 to 784\n",
    "#model.add(tf.keras.layers.Reshape((784,),input_shape=(28,28,)))\n",
    "\n",
    "#Normalize the data\n",
    "model.add(tf.keras.layers.BatchNormalization())\n",
    "\n",
    "#Add Dense Layer which provides 10 Outputs after applying softmax\n",
    "model.add(tf.keras.layers.Dense(3,input_shape=(4,), activation='softmax'))\n",
    "\n",
    "#Comile the model\n",
    "model.compile(optimizer='sgd', loss='categorical_crossentropy', metrics=['accuracy'])"
   ]
  },
  {
   "cell_type": "markdown",
   "metadata": {
    "colab_type": "text",
    "id": "T5FdzqIKcihw"
   },
   "source": [
    "### Model Training "
   ]
  },
  {
   "cell_type": "code",
   "execution_count": 45,
   "metadata": {},
   "outputs": [],
   "source": [
    "\n",
    "import numpy as np"
   ]
  },
  {
   "cell_type": "code",
   "execution_count": 46,
   "metadata": {
    "colab": {},
    "colab_type": "code",
    "id": "4qLEdHPscihx"
   },
   "outputs": [],
   "source": [
    "X_train, X_test,Y_train, Y_test = train_test_split(X , Y , test_size=0.3,random_state=3)\n",
    "\n",
    "X_train = X_train.astype('float32')\n",
    "Y_train = Y_train.astype('float32')\n",
    "X_test = X_test.astype('float32')\n",
    "Y_test = Y_test.astype('float32')\n"
   ]
  },
  {
   "cell_type": "code",
   "execution_count": null,
   "metadata": {},
   "outputs": [],
   "source": []
  },
  {
   "cell_type": "code",
   "execution_count": 47,
   "metadata": {},
   "outputs": [],
   "source": [
    "X_train = np.array(X_train)\n",
    "X_test = np.array(X_test)\n",
    "Y_train = np.array(Y_train)\n",
    "Y_test = np.array(Y_test)"
   ]
  },
  {
   "cell_type": "code",
   "execution_count": 48,
   "metadata": {},
   "outputs": [
    {
     "data": {
      "text/plain": [
       "array([[1., 0., 0.],\n",
       "       [1., 0., 0.],\n",
       "       [1., 0., 0.],\n",
       "       [1., 0., 0.],\n",
       "       [1., 0., 0.],\n",
       "       [0., 0., 1.],\n",
       "       [0., 1., 0.],\n",
       "       [1., 0., 0.],\n",
       "       [0., 0., 1.],\n",
       "       [0., 1., 0.],\n",
       "       [0., 1., 0.],\n",
       "       [1., 0., 0.],\n",
       "       [0., 1., 0.],\n",
       "       [0., 1., 0.],\n",
       "       [0., 0., 1.],\n",
       "       [1., 0., 0.],\n",
       "       [0., 1., 0.],\n",
       "       [0., 0., 1.],\n",
       "       [0., 0., 1.],\n",
       "       [1., 0., 0.],\n",
       "       [0., 0., 1.],\n",
       "       [0., 0., 1.],\n",
       "       [0., 0., 1.],\n",
       "       [0., 1., 0.],\n",
       "       [1., 0., 0.],\n",
       "       [0., 0., 1.],\n",
       "       [0., 0., 1.],\n",
       "       [0., 1., 0.],\n",
       "       [0., 1., 0.],\n",
       "       [0., 1., 0.],\n",
       "       [1., 0., 0.],\n",
       "       [1., 0., 0.],\n",
       "       [0., 0., 1.],\n",
       "       [0., 1., 0.],\n",
       "       [1., 0., 0.],\n",
       "       [1., 0., 0.],\n",
       "       [0., 1., 0.],\n",
       "       [1., 0., 0.],\n",
       "       [0., 0., 1.],\n",
       "       [0., 1., 0.],\n",
       "       [0., 0., 1.],\n",
       "       [0., 1., 0.],\n",
       "       [1., 0., 0.],\n",
       "       [1., 0., 0.],\n",
       "       [0., 0., 1.]], dtype=float32)"
      ]
     },
     "execution_count": 48,
     "metadata": {},
     "output_type": "execute_result"
    }
   ],
   "source": [
    "Y_test"
   ]
  },
  {
   "cell_type": "code",
   "execution_count": 49,
   "metadata": {},
   "outputs": [
    {
     "data": {
      "text/plain": [
       "array([[0., 1., 0.],\n",
       "       [1., 0., 0.],\n",
       "       [0., 1., 0.],\n",
       "       [0., 0., 1.],\n",
       "       [0., 1., 0.],\n",
       "       [1., 0., 0.],\n",
       "       [1., 0., 0.],\n",
       "       [0., 0., 1.],\n",
       "       [0., 1., 0.],\n",
       "       [0., 1., 0.],\n",
       "       [1., 0., 0.],\n",
       "       [0., 0., 1.],\n",
       "       [1., 0., 0.],\n",
       "       [0., 0., 1.],\n",
       "       [0., 1., 0.],\n",
       "       [1., 0., 0.],\n",
       "       [1., 0., 0.],\n",
       "       [0., 0., 1.],\n",
       "       [0., 1., 0.],\n",
       "       [1., 0., 0.],\n",
       "       [1., 0., 0.],\n",
       "       [0., 1., 0.],\n",
       "       [0., 0., 1.],\n",
       "       [0., 0., 1.],\n",
       "       [1., 0., 0.],\n",
       "       [0., 0., 1.],\n",
       "       [0., 1., 0.],\n",
       "       [1., 0., 0.],\n",
       "       [1., 0., 0.],\n",
       "       [0., 0., 1.],\n",
       "       [0., 0., 1.],\n",
       "       [0., 0., 1.],\n",
       "       [0., 1., 0.],\n",
       "       [0., 1., 0.],\n",
       "       [0., 1., 0.],\n",
       "       [1., 0., 0.],\n",
       "       [1., 0., 0.],\n",
       "       [0., 0., 1.],\n",
       "       [0., 0., 1.],\n",
       "       [0., 1., 0.],\n",
       "       [0., 0., 1.],\n",
       "       [0., 1., 0.],\n",
       "       [0., 0., 1.],\n",
       "       [1., 0., 0.],\n",
       "       [0., 0., 1.],\n",
       "       [1., 0., 0.],\n",
       "       [0., 1., 0.],\n",
       "       [0., 1., 0.],\n",
       "       [0., 0., 1.],\n",
       "       [0., 0., 1.],\n",
       "       [1., 0., 0.],\n",
       "       [0., 1., 0.],\n",
       "       [1., 0., 0.],\n",
       "       [0., 1., 0.],\n",
       "       [0., 1., 0.],\n",
       "       [0., 1., 0.],\n",
       "       [1., 0., 0.],\n",
       "       [0., 0., 1.],\n",
       "       [1., 0., 0.],\n",
       "       [0., 0., 1.],\n",
       "       [0., 1., 0.],\n",
       "       [0., 0., 1.],\n",
       "       [0., 1., 0.],\n",
       "       [0., 0., 1.],\n",
       "       [0., 1., 0.],\n",
       "       [1., 0., 0.],\n",
       "       [0., 0., 1.],\n",
       "       [0., 1., 0.],\n",
       "       [0., 0., 1.],\n",
       "       [0., 1., 0.],\n",
       "       [1., 0., 0.],\n",
       "       [0., 1., 0.],\n",
       "       [0., 0., 1.],\n",
       "       [1., 0., 0.],\n",
       "       [0., 1., 0.],\n",
       "       [1., 0., 0.],\n",
       "       [1., 0., 0.],\n",
       "       [1., 0., 0.],\n",
       "       [0., 1., 0.],\n",
       "       [0., 0., 1.],\n",
       "       [1., 0., 0.],\n",
       "       [1., 0., 0.],\n",
       "       [0., 0., 1.],\n",
       "       [1., 0., 0.],\n",
       "       [0., 1., 0.],\n",
       "       [0., 0., 1.],\n",
       "       [0., 1., 0.],\n",
       "       [0., 0., 1.],\n",
       "       [0., 0., 1.],\n",
       "       [0., 1., 0.],\n",
       "       [0., 1., 0.],\n",
       "       [0., 0., 1.],\n",
       "       [0., 1., 0.],\n",
       "       [1., 0., 0.],\n",
       "       [0., 1., 0.],\n",
       "       [0., 1., 0.],\n",
       "       [1., 0., 0.],\n",
       "       [0., 1., 0.],\n",
       "       [0., 0., 1.],\n",
       "       [0., 0., 1.],\n",
       "       [0., 0., 1.],\n",
       "       [1., 0., 0.],\n",
       "       [1., 0., 0.],\n",
       "       [0., 0., 1.],\n",
       "       [0., 0., 1.]], dtype=float32)"
      ]
     },
     "execution_count": 49,
     "metadata": {},
     "output_type": "execute_result"
    }
   ],
   "source": [
    "Y_train"
   ]
  },
  {
   "cell_type": "markdown",
   "metadata": {
    "colab_type": "text",
    "id": "y-SgSSdRcih5"
   },
   "source": []
  },
  {
   "cell_type": "code",
   "execution_count": 50,
   "metadata": {
    "colab": {},
    "colab_type": "code",
    "id": "GBgKZkhkcih6"
   },
   "outputs": [
    {
     "name": "stdout",
     "output_type": "stream",
     "text": [
      "WARNING:tensorflow:From C:\\Users\\hp\\Anaconda\\lib\\site-packages\\tensorflow\\python\\ops\\control_flow_ops.py:423: colocate_with (from tensorflow.python.framework.ops) is deprecated and will be removed in a future version.\n",
      "Instructions for updating:\n",
      "Colocations handled automatically by placer.\n",
      "Train on 105 samples, validate on 45 samples\n",
      "WARNING:tensorflow:From C:\\Users\\hp\\Anaconda\\lib\\site-packages\\tensorflow\\python\\ops\\math_ops.py:3066: to_int32 (from tensorflow.python.ops.math_ops) is deprecated and will be removed in a future version.\n",
      "Instructions for updating:\n",
      "Use tf.cast instead.\n",
      "Epoch 1/100\n",
      "105/105 [==============================] - 1s 5ms/sample - loss: 1.5021 - acc: 0.3810 - val_loss: 2.8970 - val_acc: 0.3333\n",
      "Epoch 2/100\n",
      "105/105 [==============================] - 0s 129us/sample - loss: 1.4358 - acc: 0.3619 - val_loss: 2.8166 - val_acc: 0.3333\n",
      "Epoch 3/100\n",
      "105/105 [==============================] - 0s 187us/sample - loss: 1.3995 - acc: 0.3619 - val_loss: 2.7374 - val_acc: 0.3333\n",
      "Epoch 4/100\n",
      "105/105 [==============================] - 0s 122us/sample - loss: 1.3257 - acc: 0.3810 - val_loss: 2.6657 - val_acc: 0.3333\n",
      "Epoch 5/100\n",
      "105/105 [==============================] - 0s 103us/sample - loss: 1.3008 - acc: 0.3905 - val_loss: 2.5880 - val_acc: 0.3333\n",
      "Epoch 6/100\n",
      "105/105 [==============================] - 0s 161us/sample - loss: 1.2697 - acc: 0.3619 - val_loss: 2.5157 - val_acc: 0.3333\n",
      "Epoch 7/100\n",
      "105/105 [==============================] - 0s 162us/sample - loss: 1.2089 - acc: 0.3905 - val_loss: 2.4437 - val_acc: 0.3333\n",
      "Epoch 8/100\n",
      "105/105 [==============================] - 0s 152us/sample - loss: 1.1692 - acc: 0.4286 - val_loss: 2.3766 - val_acc: 0.3556\n",
      "Epoch 9/100\n",
      "105/105 [==============================] - 0s 169us/sample - loss: 1.1272 - acc: 0.4000 - val_loss: 2.3024 - val_acc: 0.3556\n",
      "Epoch 10/100\n",
      "105/105 [==============================] - 0s 138us/sample - loss: 1.1018 - acc: 0.4190 - val_loss: 2.2195 - val_acc: 0.3556\n",
      "Epoch 11/100\n",
      "105/105 [==============================] - 0s 98us/sample - loss: 1.0780 - acc: 0.4381 - val_loss: 2.1501 - val_acc: 0.3556\n",
      "Epoch 12/100\n",
      "105/105 [==============================] - 0s 67us/sample - loss: 1.0268 - acc: 0.4762 - val_loss: 2.0754 - val_acc: 0.3778\n",
      "Epoch 13/100\n",
      "105/105 [==============================] - 0s 131us/sample - loss: 0.9976 - acc: 0.4857 - val_loss: 2.0122 - val_acc: 0.3778\n",
      "Epoch 14/100\n",
      "105/105 [==============================] - 0s 164us/sample - loss: 0.9978 - acc: 0.4857 - val_loss: 1.9446 - val_acc: 0.3778\n",
      "Epoch 15/100\n",
      "105/105 [==============================] - 0s 69us/sample - loss: 0.9586 - acc: 0.4952 - val_loss: 1.8680 - val_acc: 0.4000\n",
      "Epoch 16/100\n",
      "105/105 [==============================] - 0s 159us/sample - loss: 0.9385 - acc: 0.5143 - val_loss: 1.8000 - val_acc: 0.4222\n",
      "Epoch 17/100\n",
      "105/105 [==============================] - 0s 38us/sample - loss: 0.9333 - acc: 0.5714 - val_loss: 1.7373 - val_acc: 0.4444\n",
      "Epoch 18/100\n",
      "105/105 [==============================] - 0s 47us/sample - loss: 0.8965 - acc: 0.5810 - val_loss: 1.6740 - val_acc: 0.4222\n",
      "Epoch 19/100\n",
      "105/105 [==============================] - 0s 119us/sample - loss: 0.8880 - acc: 0.5524 - val_loss: 1.6154 - val_acc: 0.4667\n",
      "Epoch 20/100\n",
      "105/105 [==============================] - 0s 94us/sample - loss: 0.8585 - acc: 0.5429 - val_loss: 1.5568 - val_acc: 0.5111\n",
      "Epoch 21/100\n",
      "105/105 [==============================] - 0s 106us/sample - loss: 0.8751 - acc: 0.5714 - val_loss: 1.5056 - val_acc: 0.4889\n",
      "Epoch 22/100\n",
      "105/105 [==============================] - 0s 110us/sample - loss: 0.8372 - acc: 0.5524 - val_loss: 1.4492 - val_acc: 0.5333\n",
      "Epoch 23/100\n",
      "105/105 [==============================] - 0s 72us/sample - loss: 0.8234 - acc: 0.5810 - val_loss: 1.3918 - val_acc: 0.5556\n",
      "Epoch 24/100\n",
      "105/105 [==============================] - 0s 115us/sample - loss: 0.8075 - acc: 0.5905 - val_loss: 1.3404 - val_acc: 0.5333\n",
      "Epoch 25/100\n",
      "105/105 [==============================] - 0s 84us/sample - loss: 0.7976 - acc: 0.6000 - val_loss: 1.2882 - val_acc: 0.5556\n",
      "Epoch 26/100\n",
      "105/105 [==============================] - 0s 213us/sample - loss: 0.7885 - acc: 0.6286 - val_loss: 1.2403 - val_acc: 0.5556\n",
      "Epoch 27/100\n",
      "105/105 [==============================] - 0s 144us/sample - loss: 0.7932 - acc: 0.6286 - val_loss: 1.1967 - val_acc: 0.5556\n",
      "Epoch 28/100\n",
      "105/105 [==============================] - 0s 135us/sample - loss: 0.7721 - acc: 0.6286 - val_loss: 1.1545 - val_acc: 0.5556\n",
      "Epoch 29/100\n",
      "105/105 [==============================] - 0s 117us/sample - loss: 0.7638 - acc: 0.6667 - val_loss: 1.1153 - val_acc: 0.5556\n",
      "Epoch 30/100\n",
      "105/105 [==============================] - 0s 156us/sample - loss: 0.7541 - acc: 0.6286 - val_loss: 1.0756 - val_acc: 0.5333\n",
      "Epoch 31/100\n",
      "105/105 [==============================] - 0s 134us/sample - loss: 0.7429 - acc: 0.6381 - val_loss: 1.0385 - val_acc: 0.5111\n",
      "Epoch 32/100\n",
      "105/105 [==============================] - 0s 88us/sample - loss: 0.7276 - acc: 0.6476 - val_loss: 1.0025 - val_acc: 0.5111\n",
      "Epoch 33/100\n",
      "105/105 [==============================] - 0s 28us/sample - loss: 0.7232 - acc: 0.6381 - val_loss: 0.9688 - val_acc: 0.5111\n",
      "Epoch 34/100\n",
      "105/105 [==============================] - 0s 138us/sample - loss: 0.7220 - acc: 0.6476 - val_loss: 0.9363 - val_acc: 0.5111\n",
      "Epoch 35/100\n",
      "105/105 [==============================] - 0s 93us/sample - loss: 0.7127 - acc: 0.6762 - val_loss: 0.9056 - val_acc: 0.5333\n",
      "Epoch 36/100\n",
      "105/105 [==============================] - 0s 198us/sample - loss: 0.7159 - acc: 0.6667 - val_loss: 0.8759 - val_acc: 0.5333\n",
      "Epoch 37/100\n",
      "105/105 [==============================] - 0s 147us/sample - loss: 0.6910 - acc: 0.6952 - val_loss: 0.8497 - val_acc: 0.5778\n",
      "Epoch 38/100\n",
      "105/105 [==============================] - 0s 145us/sample - loss: 0.7081 - acc: 0.6571 - val_loss: 0.8232 - val_acc: 0.6000\n",
      "Epoch 39/100\n",
      "105/105 [==============================] - 0s 221us/sample - loss: 0.7075 - acc: 0.6667 - val_loss: 0.7985 - val_acc: 0.6000\n",
      "Epoch 40/100\n",
      "105/105 [==============================] - 0s 158us/sample - loss: 0.6638 - acc: 0.7048 - val_loss: 0.7764 - val_acc: 0.6000\n",
      "Epoch 41/100\n",
      "105/105 [==============================] - 0s 105us/sample - loss: 0.6628 - acc: 0.6762 - val_loss: 0.7557 - val_acc: 0.6444\n",
      "Epoch 42/100\n",
      "105/105 [==============================] - 0s 72us/sample - loss: 0.6529 - acc: 0.6952 - val_loss: 0.7369 - val_acc: 0.6667\n",
      "Epoch 43/100\n",
      "105/105 [==============================] - 0s 44us/sample - loss: 0.6487 - acc: 0.7048 - val_loss: 0.7195 - val_acc: 0.6667\n",
      "Epoch 44/100\n",
      "105/105 [==============================] - 0s 99us/sample - loss: 0.6466 - acc: 0.6762 - val_loss: 0.7012 - val_acc: 0.6667\n",
      "Epoch 45/100\n",
      "105/105 [==============================] - 0s 148us/sample - loss: 0.6367 - acc: 0.6857 - val_loss: 0.6847 - val_acc: 0.6667\n",
      "Epoch 46/100\n",
      "105/105 [==============================] - 0s 154us/sample - loss: 0.6509 - acc: 0.6857 - val_loss: 0.6693 - val_acc: 0.6667\n",
      "Epoch 47/100\n",
      "105/105 [==============================] - 0s 101us/sample - loss: 0.6396 - acc: 0.7143 - val_loss: 0.6557 - val_acc: 0.6889\n",
      "Epoch 48/100\n",
      "105/105 [==============================] - 0s 0s/sample - loss: 0.6457 - acc: 0.6857 - val_loss: 0.6422 - val_acc: 0.6889\n",
      "Epoch 49/100\n",
      "105/105 [==============================] - 0s 216us/sample - loss: 0.6372 - acc: 0.7238 - val_loss: 0.6300 - val_acc: 0.6889\n",
      "Epoch 50/100\n",
      "105/105 [==============================] - 0s 126us/sample - loss: 0.6302 - acc: 0.6857 - val_loss: 0.6167 - val_acc: 0.7111\n",
      "Epoch 51/100\n",
      "105/105 [==============================] - 0s 112us/sample - loss: 0.6150 - acc: 0.7048 - val_loss: 0.6054 - val_acc: 0.7333\n",
      "Epoch 52/100\n",
      "105/105 [==============================] - 0s 0s/sample - loss: 0.6205 - acc: 0.7143 - val_loss: 0.5947 - val_acc: 0.7333\n",
      "Epoch 53/100\n",
      "105/105 [==============================] - 0s 120us/sample - loss: 0.6280 - acc: 0.6952 - val_loss: 0.5852 - val_acc: 0.7111\n",
      "Epoch 54/100\n",
      "105/105 [==============================] - 0s 102us/sample - loss: 0.6045 - acc: 0.7143 - val_loss: 0.5751 - val_acc: 0.7333\n",
      "Epoch 55/100\n",
      "105/105 [==============================] - 0s 91us/sample - loss: 0.5983 - acc: 0.7238 - val_loss: 0.5666 - val_acc: 0.7333\n",
      "Epoch 56/100\n"
     ]
    },
    {
     "name": "stdout",
     "output_type": "stream",
     "text": [
      "105/105 [==============================] - 0s 40us/sample - loss: 0.6076 - acc: 0.7143 - val_loss: 0.5588 - val_acc: 0.7333\n",
      "Epoch 57/100\n",
      "105/105 [==============================] - 0s 137us/sample - loss: 0.6022 - acc: 0.7238 - val_loss: 0.5519 - val_acc: 0.7333\n",
      "Epoch 58/100\n",
      "105/105 [==============================] - 0s 157us/sample - loss: 0.6162 - acc: 0.7333 - val_loss: 0.5445 - val_acc: 0.7556\n",
      "Epoch 59/100\n",
      "105/105 [==============================] - 0s 61us/sample - loss: 0.5985 - acc: 0.7524 - val_loss: 0.5377 - val_acc: 0.7556\n",
      "Epoch 60/100\n",
      "105/105 [==============================] - 0s 85us/sample - loss: 0.5959 - acc: 0.7143 - val_loss: 0.5315 - val_acc: 0.7556\n",
      "Epoch 61/100\n",
      "105/105 [==============================] - 0s 139us/sample - loss: 0.5862 - acc: 0.7238 - val_loss: 0.5247 - val_acc: 0.7556\n",
      "Epoch 62/100\n",
      "105/105 [==============================] - 0s 82us/sample - loss: 0.5752 - acc: 0.7048 - val_loss: 0.5198 - val_acc: 0.7778\n",
      "Epoch 63/100\n",
      "105/105 [==============================] - 0s 0s/sample - loss: 0.5832 - acc: 0.7619 - val_loss: 0.5145 - val_acc: 0.7778\n",
      "Epoch 64/100\n",
      "105/105 [==============================] - 0s 177us/sample - loss: 0.5814 - acc: 0.7619 - val_loss: 0.5086 - val_acc: 0.7778\n",
      "Epoch 65/100\n",
      "105/105 [==============================] - 0s 147us/sample - loss: 0.5578 - acc: 0.7429 - val_loss: 0.5029 - val_acc: 0.7778\n",
      "Epoch 66/100\n",
      "105/105 [==============================] - 0s 108us/sample - loss: 0.5992 - acc: 0.7048 - val_loss: 0.4978 - val_acc: 0.7778\n",
      "Epoch 67/100\n",
      "105/105 [==============================] - 0s 80us/sample - loss: 0.5655 - acc: 0.7619 - val_loss: 0.4939 - val_acc: 0.7778\n",
      "Epoch 68/100\n",
      "105/105 [==============================] - 0s 202us/sample - loss: 0.5588 - acc: 0.7619 - val_loss: 0.4889 - val_acc: 0.7778\n",
      "Epoch 69/100\n",
      "105/105 [==============================] - 0s 65us/sample - loss: 0.5551 - acc: 0.7238 - val_loss: 0.4846 - val_acc: 0.7778\n",
      "Epoch 70/100\n",
      "105/105 [==============================] - 0s 152us/sample - loss: 0.5421 - acc: 0.7429 - val_loss: 0.4809 - val_acc: 0.7778\n",
      "Epoch 71/100\n",
      "105/105 [==============================] - 0s 0s/sample - loss: 0.5432 - acc: 0.7524 - val_loss: 0.4769 - val_acc: 0.8000\n",
      "Epoch 72/100\n",
      "105/105 [==============================] - 0s 156us/sample - loss: 0.5400 - acc: 0.7619 - val_loss: 0.4734 - val_acc: 0.8000\n",
      "Epoch 73/100\n",
      "105/105 [==============================] - 0s 161us/sample - loss: 0.5275 - acc: 0.8000 - val_loss: 0.4706 - val_acc: 0.8222\n",
      "Epoch 74/100\n",
      "105/105 [==============================] - 0s 91us/sample - loss: 0.5374 - acc: 0.7714 - val_loss: 0.4677 - val_acc: 0.8222\n",
      "Epoch 75/100\n",
      "105/105 [==============================] - 0s 6us/sample - loss: 0.5602 - acc: 0.7143 - val_loss: 0.4651 - val_acc: 0.8222\n",
      "Epoch 76/100\n",
      "105/105 [==============================] - 0s 165us/sample - loss: 0.5299 - acc: 0.7714 - val_loss: 0.4620 - val_acc: 0.8222\n",
      "Epoch 77/100\n",
      "105/105 [==============================] - 0s 136us/sample - loss: 0.5260 - acc: 0.7714 - val_loss: 0.4589 - val_acc: 0.8222\n",
      "Epoch 78/100\n",
      "105/105 [==============================] - 0s 63us/sample - loss: 0.5364 - acc: 0.7810 - val_loss: 0.4566 - val_acc: 0.8222\n",
      "Epoch 79/100\n",
      "105/105 [==============================] - 0s 50us/sample - loss: 0.5305 - acc: 0.7333 - val_loss: 0.4542 - val_acc: 0.8222\n",
      "Epoch 80/100\n",
      "105/105 [==============================] - 0s 175us/sample - loss: 0.5285 - acc: 0.7619 - val_loss: 0.4511 - val_acc: 0.8444\n",
      "Epoch 81/100\n",
      "105/105 [==============================] - 0s 0s/sample - loss: 0.5319 - acc: 0.7810 - val_loss: 0.4488 - val_acc: 0.8444\n",
      "Epoch 82/100\n",
      "105/105 [==============================] - 0s 152us/sample - loss: 0.5238 - acc: 0.8095 - val_loss: 0.4464 - val_acc: 0.8444\n",
      "Epoch 83/100\n",
      "105/105 [==============================] - 0s 172us/sample - loss: 0.4975 - acc: 0.8190 - val_loss: 0.4441 - val_acc: 0.8444\n",
      "Epoch 84/100\n",
      "105/105 [==============================] - 0s 0s/sample - loss: 0.5310 - acc: 0.7810 - val_loss: 0.4422 - val_acc: 0.8444\n",
      "Epoch 85/100\n",
      "105/105 [==============================] - 0s 134us/sample - loss: 0.4947 - acc: 0.8095 - val_loss: 0.4399 - val_acc: 0.8444\n",
      "Epoch 86/100\n",
      "105/105 [==============================] - 0s 160us/sample - loss: 0.5529 - acc: 0.7714 - val_loss: 0.4378 - val_acc: 0.8444\n",
      "Epoch 87/100\n",
      "105/105 [==============================] - 0s 82us/sample - loss: 0.4933 - acc: 0.8476 - val_loss: 0.4359 - val_acc: 0.8444\n",
      "Epoch 88/100\n",
      "105/105 [==============================] - 0s 96us/sample - loss: 0.5010 - acc: 0.8190 - val_loss: 0.4331 - val_acc: 0.8444\n",
      "Epoch 89/100\n",
      "105/105 [==============================] - 0s 195us/sample - loss: 0.4914 - acc: 0.8000 - val_loss: 0.4309 - val_acc: 0.8444\n",
      "Epoch 90/100\n",
      "105/105 [==============================] - 0s 145us/sample - loss: 0.4936 - acc: 0.8381 - val_loss: 0.4293 - val_acc: 0.8444\n",
      "Epoch 91/100\n",
      "105/105 [==============================] - 0s 101us/sample - loss: 0.4948 - acc: 0.8476 - val_loss: 0.4277 - val_acc: 0.8444\n",
      "Epoch 92/100\n",
      "105/105 [==============================] - 0s 107us/sample - loss: 0.4906 - acc: 0.8381 - val_loss: 0.4258 - val_acc: 0.8444\n",
      "Epoch 93/100\n",
      "105/105 [==============================] - 0s 75us/sample - loss: 0.4780 - acc: 0.8190 - val_loss: 0.4236 - val_acc: 0.8667\n",
      "Epoch 94/100\n",
      "105/105 [==============================] - 0s 103us/sample - loss: 0.4985 - acc: 0.8571 - val_loss: 0.4221 - val_acc: 0.8667\n",
      "Epoch 95/100\n",
      "105/105 [==============================] - 0s 0s/sample - loss: 0.4716 - acc: 0.8762 - val_loss: 0.4200 - val_acc: 0.8667\n",
      "Epoch 96/100\n",
      "105/105 [==============================] - 0s 10us/sample - loss: 0.5025 - acc: 0.8000 - val_loss: 0.4183 - val_acc: 0.8667\n",
      "Epoch 97/100\n",
      "105/105 [==============================] - 0s 188us/sample - loss: 0.4847 - acc: 0.8190 - val_loss: 0.4169 - val_acc: 0.8667\n",
      "Epoch 98/100\n",
      "105/105 [==============================] - 0s 71us/sample - loss: 0.4700 - acc: 0.8571 - val_loss: 0.4154 - val_acc: 0.8667\n",
      "Epoch 99/100\n",
      "105/105 [==============================] - 0s 58us/sample - loss: 0.5412 - acc: 0.7524 - val_loss: 0.4145 - val_acc: 0.8667\n",
      "Epoch 100/100\n",
      "105/105 [==============================] - 0s 104us/sample - loss: 0.5260 - acc: 0.7810 - val_loss: 0.4135 - val_acc: 0.8667\n"
     ]
    },
    {
     "data": {
      "text/plain": [
       "<tensorflow.python.keras.callbacks.History at 0x21176402f98>"
      ]
     },
     "execution_count": 50,
     "metadata": {},
     "output_type": "execute_result"
    }
   ],
   "source": [
    "model.fit(X_train, Y_train, \n",
    "          validation_data=(X_test, Y_test), epochs=100)"
   ]
  },
  {
   "cell_type": "markdown",
   "metadata": {},
   "source": [
    "### Model Prediction"
   ]
  },
  {
   "cell_type": "code",
   "execution_count": 51,
   "metadata": {},
   "outputs": [],
   "source": [
    "xt1 = X_test[0:1]"
   ]
  },
  {
   "cell_type": "code",
   "execution_count": 52,
   "metadata": {},
   "outputs": [
    {
     "data": {
      "text/plain": [
       "array([[0.9255732 , 0.07181508, 0.0026117 ]], dtype=float32)"
      ]
     },
     "execution_count": 52,
     "metadata": {},
     "output_type": "execute_result"
    }
   ],
   "source": [
    "model.predict(xt1)"
   ]
  },
  {
   "cell_type": "code",
   "execution_count": 53,
   "metadata": {},
   "outputs": [
    {
     "data": {
      "text/plain": [
       "array([[1., 0., 0.]], dtype=float32)"
      ]
     },
     "execution_count": 53,
     "metadata": {},
     "output_type": "execute_result"
    }
   ],
   "source": [
    "Y_test[0:1]"
   ]
  },
  {
   "cell_type": "markdown",
   "metadata": {
    "colab_type": "text",
    "id": "P32ASP1Vjt0a"
   },
   "source": [
    "### Save the Model"
   ]
  },
  {
   "cell_type": "code",
   "execution_count": 54,
   "metadata": {},
   "outputs": [
    {
     "name": "stdout",
     "output_type": "stream",
     "text": [
      "_________________________________________________________________\n",
      "Layer (type)                 Output Shape              Param #   \n",
      "=================================================================\n",
      "batch_normalization_v1 (Batc multiple                  16        \n",
      "_________________________________________________________________\n",
      "dense (Dense)                multiple                  15        \n",
      "=================================================================\n",
      "Total params: 31\n",
      "Trainable params: 23\n",
      "Non-trainable params: 8\n",
      "_________________________________________________________________\n"
     ]
    }
   ],
   "source": [
    "model.summary()"
   ]
  },
  {
   "cell_type": "code",
   "execution_count": 55,
   "metadata": {
    "colab": {},
    "colab_type": "code",
    "id": "n8rd0jjAjyTR"
   },
   "outputs": [],
   "source": [
    "model.save_weights('iris_1.h5')"
   ]
  },
  {
   "cell_type": "markdown",
   "metadata": {
    "colab_type": "text",
    "id": "XiipRpe7rbVh"
   },
   "source": [
    "### Build and Train a Deep Neural network with 2 hidden layer  - Optional - For Practice\n",
    "\n",
    "Does it perform better than Linear Classifier? What could be the reason for difference in performance?"
   ]
  },
  {
   "cell_type": "code",
   "execution_count": null,
   "metadata": {
    "colab": {},
    "colab_type": "code",
    "id": "v5Du3lubr4sA"
   },
   "outputs": [],
   "source": []
  }
 ],
 "metadata": {
  "colab": {
   "name": "R6_Internal_Lab_UpdatedTF2_Prices_Iris.ipynb",
   "provenance": [],
   "version": "0.3.2"
  },
  "kernelspec": {
   "display_name": "Python 3",
   "language": "python",
   "name": "python3"
  },
  "language_info": {
   "codemirror_mode": {
    "name": "ipython",
    "version": 3
   },
   "file_extension": ".py",
   "mimetype": "text/x-python",
   "name": "python",
   "nbconvert_exporter": "python",
   "pygments_lexer": "ipython3",
   "version": "3.7.0"
  }
 },
 "nbformat": 4,
 "nbformat_minor": 1
}
